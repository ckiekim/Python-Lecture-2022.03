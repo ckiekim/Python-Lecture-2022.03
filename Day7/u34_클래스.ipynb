{
  "nbformat": 4,
  "nbformat_minor": 0,
  "metadata": {
    "colab": {
      "name": "u34_클래스.ipynb",
      "provenance": [],
      "collapsed_sections": []
    },
    "kernelspec": {
      "name": "python3",
      "display_name": "Python 3"
    },
    "language_info": {
      "name": "python"
    }
  },
  "cells": [
    {
      "cell_type": "markdown",
      "source": [
        "# Unit 34. 클래스(Class)\n",
        "### 34.1 클래스와 메소드 만들기"
      ],
      "metadata": {
        "id": "1YURjPolxyA_"
      }
    },
    {
      "cell_type": "code",
      "execution_count": 1,
      "metadata": {
        "id": "0O6TPW77nS5_"
      },
      "outputs": [],
      "source": [
        "class Person:       # 클래스 이름은 대문자로 시작\n",
        "    def greeting(self):     # 메소드의 첫번째 인자는 무조건 self\n",
        "        print('Hello')"
      ]
    },
    {
      "cell_type": "code",
      "source": [
        "# 클래스의 인스턴스(객체)를 만들어야 클래스를 사용할 수 있음\n",
        "james = Person()        # 생성자(Constructor) 함수\n",
        "maria = Person()"
      ],
      "metadata": {
        "id": "lSdFyfJmyp89"
      },
      "execution_count": 2,
      "outputs": []
    },
    {
      "cell_type": "code",
      "source": [
        "james.greeting()"
      ],
      "metadata": {
        "colab": {
          "base_uri": "https://localhost:8080/"
        },
        "id": "xLhzOreyzQ3z",
        "outputId": "f5e6e54a-ec1e-4139-f4de-7bdf4147960c"
      },
      "execution_count": 3,
      "outputs": [
        {
          "output_type": "stream",
          "name": "stdout",
          "text": [
            "Hello\n"
          ]
        }
      ]
    },
    {
      "cell_type": "code",
      "source": [
        "maria.greeting()"
      ],
      "metadata": {
        "colab": {
          "base_uri": "https://localhost:8080/"
        },
        "id": "bUpX3MLmze2L",
        "outputId": "5c3fbdd4-04b6-4438-e8f3-6a076ba3cae6"
      },
      "execution_count": 4,
      "outputs": [
        {
          "output_type": "stream",
          "name": "stdout",
          "text": [
            "Hello\n"
          ]
        }
      ]
    },
    {
      "cell_type": "code",
      "source": [
        "Person().greeting()"
      ],
      "metadata": {
        "colab": {
          "base_uri": "https://localhost:8080/"
        },
        "id": "3dPc38WJzhLP",
        "outputId": "0a3dbd47-5027-4a39-fe7d-dfa8f4b5093d"
      },
      "execution_count": 5,
      "outputs": [
        {
          "output_type": "stream",
          "name": "stdout",
          "text": [
            "Hello\n"
          ]
        }
      ]
    },
    {
      "cell_type": "markdown",
      "source": [
        "- 클래스 내에서 메소드 호출하기"
      ],
      "metadata": {
        "id": "mjzesc9B07Ph"
      }
    },
    {
      "cell_type": "code",
      "source": [
        "class Person:\n",
        "    def greeting(self):\n",
        "        print('Hello')\n",
        "\n",
        "    def hello(self):      \n",
        "        self.greeting()     # 클래스 내에서 속성이나 메소드를 참조할때는 self.xxx 한다."
      ],
      "metadata": {
        "id": "EkjAf6fS0tt7"
      },
      "execution_count": 8,
      "outputs": []
    },
    {
      "cell_type": "code",
      "source": [
        "james = Person()\n",
        "james.hello()"
      ],
      "metadata": {
        "colab": {
          "base_uri": "https://localhost:8080/"
        },
        "id": "MDb5goA_0_j0",
        "outputId": "d30686b1-ca57-48db-dfc8-75a09057b505"
      },
      "execution_count": 9,
      "outputs": [
        {
          "output_type": "stream",
          "name": "stdout",
          "text": [
            "Hello\n"
          ]
        }
      ]
    },
    {
      "cell_type": "markdown",
      "source": [
        "- 특정 클래스의 인스턴스인지 확인하기"
      ],
      "metadata": {
        "id": "Y2iYfxjL0zwu"
      }
    },
    {
      "cell_type": "code",
      "source": [
        "isinstance(james, Person)"
      ],
      "metadata": {
        "colab": {
          "base_uri": "https://localhost:8080/"
        },
        "id": "gI5uPXabz1e-",
        "outputId": "30c1baba-8503-46ef-ee24-b44c27fb44cc"
      },
      "execution_count": 6,
      "outputs": [
        {
          "output_type": "execute_result",
          "data": {
            "text/plain": [
              "True"
            ]
          },
          "metadata": {},
          "execution_count": 6
        }
      ]
    },
    {
      "cell_type": "code",
      "source": [
        "# 음수와 실수에 대한 대비가 없다\n",
        "def fact(n):\n",
        "    if n == 0:\n",
        "        return 1\n",
        "    return n * fact(n-1)"
      ],
      "metadata": {
        "id": "wNNc6n6a2Rf9"
      },
      "execution_count": 11,
      "outputs": []
    },
    {
      "cell_type": "code",
      "source": [
        "def factorial(n):\n",
        "    if not isinstance(n, int) or n < 0:\n",
        "        return None\n",
        "    if n == 0:\n",
        "        return 1\n",
        "    return n * factorial(n-1)"
      ],
      "metadata": {
        "id": "tiE-nWHY1vTx"
      },
      "execution_count": 13,
      "outputs": []
    },
    {
      "cell_type": "code",
      "source": [
        "factorial(1.3), factorial(-4)"
      ],
      "metadata": {
        "colab": {
          "base_uri": "https://localhost:8080/"
        },
        "id": "CL-xAM4z2ePh",
        "outputId": "d952468f-8d4e-43eb-b5fc-20d02c2304af"
      },
      "execution_count": 14,
      "outputs": [
        {
          "output_type": "execute_result",
          "data": {
            "text/plain": [
              "(None, None)"
            ]
          },
          "metadata": {},
          "execution_count": 14
        }
      ]
    },
    {
      "cell_type": "code",
      "source": [
        "factorial(5)"
      ],
      "metadata": {
        "colab": {
          "base_uri": "https://localhost:8080/"
        },
        "id": "dVXf1imp3Lhm",
        "outputId": "a2885ff0-e737-46ae-cae5-28d953ed51f3"
      },
      "execution_count": 15,
      "outputs": [
        {
          "output_type": "execute_result",
          "data": {
            "text/plain": [
              "120"
            ]
          },
          "metadata": {},
          "execution_count": 15
        }
      ]
    },
    {
      "cell_type": "markdown",
      "source": [
        "### 34.2 속성(Attribute)"
      ],
      "metadata": {
        "id": "ahW451VM3rIC"
      }
    },
    {
      "cell_type": "code",
      "source": [
        "class Person:\n",
        "    def __init__(self):\n",
        "        self.hello = '안녕하세요?'\n",
        "    def greeting(self):\n",
        "        print(self.hello)"
      ],
      "metadata": {
        "id": "x5K4c1zq3O-P"
      },
      "execution_count": 16,
      "outputs": []
    },
    {
      "cell_type": "code",
      "source": [
        "maria = Person()\n",
        "maria.greeting()"
      ],
      "metadata": {
        "colab": {
          "base_uri": "https://localhost:8080/"
        },
        "id": "Q2XXWWAW4e5D",
        "outputId": "8f67a8ca-e8cd-4841-a12e-0328f2c8db63"
      },
      "execution_count": 17,
      "outputs": [
        {
          "output_type": "stream",
          "name": "stdout",
          "text": [
            "안녕하세요?\n"
          ]
        }
      ]
    },
    {
      "cell_type": "code",
      "source": [
        "maria.hello = 'How are you?'\n",
        "maria.greeting()"
      ],
      "metadata": {
        "colab": {
          "base_uri": "https://localhost:8080/"
        },
        "id": "_lo71c724kgh",
        "outputId": "61cf3e8c-8c15-4d3e-989d-2e425320689e"
      },
      "execution_count": 18,
      "outputs": [
        {
          "output_type": "stream",
          "name": "stdout",
          "text": [
            "How are you?\n"
          ]
        }
      ]
    },
    {
      "cell_type": "code",
      "source": [
        "james = Person()\n",
        "james.hello = 'Good afternoon!'\n",
        "james.greeting()"
      ],
      "metadata": {
        "colab": {
          "base_uri": "https://localhost:8080/"
        },
        "id": "5M6s1YCN4zrT",
        "outputId": "dbd68447-983e-49f5-fdb9-5e3132423a15"
      },
      "execution_count": 19,
      "outputs": [
        {
          "output_type": "stream",
          "name": "stdout",
          "text": [
            "Good afternoon!\n"
          ]
        }
      ]
    },
    {
      "cell_type": "code",
      "source": [
        "class Person:\n",
        "    # 생성자 함수\n",
        "    def __init__(self, name, age, address):\n",
        "        self.hello = '안녕하세요?'\n",
        "        self.name = name\n",
        "        self.age = age\n",
        "        self.address = address\n",
        "    def greeting(self):\n",
        "        print(f'{self.hello} 저는 {self.name} 입니다.')\n",
        "    # JAVA의 toString() method\n",
        "    def __str__(self):\n",
        "        return f'hello: {self.hello}, name: {self.name}, age: {self.age}, address: {self.address}'"
      ],
      "metadata": {
        "id": "sLWaxPGM5KFZ"
      },
      "execution_count": 24,
      "outputs": []
    },
    {
      "cell_type": "code",
      "source": [
        "maria = Person('마리아', 23, '서울시 서초구 서초동')\n",
        "maria.greeting()"
      ],
      "metadata": {
        "colab": {
          "base_uri": "https://localhost:8080/"
        },
        "id": "s30fZ3PL58D6",
        "outputId": "66567d97-6428-49ff-89f3-9b6867a54ff8"
      },
      "execution_count": 25,
      "outputs": [
        {
          "output_type": "stream",
          "name": "stdout",
          "text": [
            "안녕하세요? 저는 마리아 입니다.\n"
          ]
        }
      ]
    },
    {
      "cell_type": "code",
      "source": [
        "maria.hello = '반갑습니다.'\n",
        "maria.greeting()"
      ],
      "metadata": {
        "colab": {
          "base_uri": "https://localhost:8080/"
        },
        "id": "CVss5Dzx6vAj",
        "outputId": "9157fb02-5e50-459c-c712-b08630de9ef4"
      },
      "execution_count": 22,
      "outputs": [
        {
          "output_type": "stream",
          "name": "stdout",
          "text": [
            "반갑습니다. 저는 마리아 입니다.\n"
          ]
        }
      ]
    },
    {
      "cell_type": "code",
      "source": [
        "# __str__ method 만들기 전\n",
        "print(maria)"
      ],
      "metadata": {
        "colab": {
          "base_uri": "https://localhost:8080/"
        },
        "id": "_z7alMmT6982",
        "outputId": "6cf1a3ac-2933-4709-a03e-e32f355cc3a1"
      },
      "execution_count": 23,
      "outputs": [
        {
          "output_type": "stream",
          "name": "stdout",
          "text": [
            "<__main__.Person object at 0x7fb40a2a7850>\n"
          ]
        }
      ]
    },
    {
      "cell_type": "code",
      "source": [
        "# __str__ method 만든 후\n",
        "print(maria)"
      ],
      "metadata": {
        "colab": {
          "base_uri": "https://localhost:8080/"
        },
        "id": "_4Zi0MqR7l_m",
        "outputId": "cdee2d95-63a7-46bb-dde5-56dbfe7c472c"
      },
      "execution_count": 26,
      "outputs": [
        {
          "output_type": "stream",
          "name": "stdout",
          "text": [
            "hello: 안녕하세요?, name: 마리아, age: 23, address: 서울시 서초구 서초동\n"
          ]
        }
      ]
    },
    {
      "cell_type": "code",
      "source": [
        "maria.hello = '반갑습니다.'\n",
        "print(maria)"
      ],
      "metadata": {
        "colab": {
          "base_uri": "https://localhost:8080/"
        },
        "id": "IH-BX7bH8SD_",
        "outputId": "46975625-5442-43af-fa71-9b2e8dbf7ddb"
      },
      "execution_count": 27,
      "outputs": [
        {
          "output_type": "stream",
          "name": "stdout",
          "text": [
            "hello: 반갑습니다., name: 마리아, age: 23, address: 서울시 서초구 서초동\n"
          ]
        }
      ]
    },
    {
      "cell_type": "markdown",
      "source": [
        "### 34.3 비공개 속성"
      ],
      "metadata": {
        "id": "RrfhF-Ic_vh_"
      }
    },
    {
      "cell_type": "code",
      "source": [
        "print(maria)"
      ],
      "metadata": {
        "colab": {
          "base_uri": "https://localhost:8080/"
        },
        "id": "Ep_oaFph82kc",
        "outputId": "3c6c93ec-1fb5-41d3-f614-db46877ffeb4"
      },
      "execution_count": 28,
      "outputs": [
        {
          "output_type": "stream",
          "name": "stdout",
          "text": [
            "hello: 반갑습니다., name: 마리아, age: 23, address: 서울시 서초구 서초동\n"
          ]
        }
      ]
    },
    {
      "cell_type": "code",
      "source": [
        "class Person:\n",
        "    def __init__(self, name, age, addr, wallet):\n",
        "        self.name = name\n",
        "        self.age = age\n",
        "        self.addr = addr\n",
        "        self.__wallet = wallet      # __가 붙으면 비공개 속성이 됨"
      ],
      "metadata": {
        "id": "_IMwCqIT_4X_"
      },
      "execution_count": 29,
      "outputs": []
    },
    {
      "cell_type": "code",
      "source": [
        "james = Person('제임스', 25, '서울시 서초구 반포동', 10000)"
      ],
      "metadata": {
        "id": "ixieWSo1Ah2Y"
      },
      "execution_count": 44,
      "outputs": []
    },
    {
      "cell_type": "code",
      "source": [
        "james.__wallet"
      ],
      "metadata": {
        "colab": {
          "base_uri": "https://localhost:8080/",
          "height": 177
        },
        "id": "AZoY3tZ1AvUv",
        "outputId": "03d172cb-1fd6-493f-fd23-c26742c7bae0"
      },
      "execution_count": 45,
      "outputs": [
        {
          "output_type": "error",
          "ename": "AttributeError",
          "evalue": "ignored",
          "traceback": [
            "\u001b[0;31m---------------------------------------------------------------------------\u001b[0m",
            "\u001b[0;31mAttributeError\u001b[0m                            Traceback (most recent call last)",
            "\u001b[0;32m<ipython-input-45-f497623946db>\u001b[0m in \u001b[0;36m<module>\u001b[0;34m()\u001b[0m\n\u001b[0;32m----> 1\u001b[0;31m \u001b[0mjames\u001b[0m\u001b[0;34m.\u001b[0m\u001b[0m__wallet\u001b[0m\u001b[0;34m\u001b[0m\u001b[0;34m\u001b[0m\u001b[0m\n\u001b[0m",
            "\u001b[0;31mAttributeError\u001b[0m: 'Person' object has no attribute '__wallet'"
          ]
        }
      ]
    },
    {
      "cell_type": "code",
      "source": [
        "class Person:\n",
        "    def __init__(self, name, age, addr, wallet):\n",
        "        self.name = name\n",
        "        self.age = age\n",
        "        self.addr = addr\n",
        "        self.__wallet = wallet      # __가 붙으면 비공개 속성이 됨\n",
        "\n",
        "    def pay(self, amount):\n",
        "        if self.__wallet < amount:\n",
        "            print('지갑에 돈이 부족합니다.ㅠㅠ')\n",
        "            return\n",
        "        self.__wallet -= amount\n",
        "        print(f'지갑에 남은 돈은 {self.__wallet:,d}원 입니다.')\n",
        "\n",
        "    def __greeting(self):\n",
        "        print('Hello')\n",
        "\n",
        "    def hello(self):\n",
        "        self.__greeting()"
      ],
      "metadata": {
        "id": "H4Kr2LZmB9CH"
      },
      "execution_count": 49,
      "outputs": []
    },
    {
      "cell_type": "code",
      "source": [
        "james = Person('제임스', 25, '서울시 서초구 반포동', 10000)\n",
        "james.pay(2500)"
      ],
      "metadata": {
        "colab": {
          "base_uri": "https://localhost:8080/"
        },
        "id": "AgXhBAv-DeEn",
        "outputId": "9c920983-1296-44cb-95e3-8ea9ee3b71de"
      },
      "execution_count": 50,
      "outputs": [
        {
          "output_type": "stream",
          "name": "stdout",
          "text": [
            "지갑에 남은 돈은 7,500원 입니다.\n"
          ]
        }
      ]
    },
    {
      "cell_type": "code",
      "source": [
        "james.pay(8000)"
      ],
      "metadata": {
        "colab": {
          "base_uri": "https://localhost:8080/"
        },
        "id": "ranLQEoYDrs-",
        "outputId": "40aa1de5-8443-476c-9106-8829577018b7"
      },
      "execution_count": 51,
      "outputs": [
        {
          "output_type": "stream",
          "name": "stdout",
          "text": [
            "지갑에 돈이 부족합니다.ㅠㅠ\n"
          ]
        }
      ]
    },
    {
      "cell_type": "code",
      "source": [
        "# 비공개 메소드\n",
        "james.__greeting()"
      ],
      "metadata": {
        "colab": {
          "base_uri": "https://localhost:8080/",
          "height": 177
        },
        "id": "x5-J07zQDvHW",
        "outputId": "afcca3d7-8fc2-4f10-8897-1286283b1bef"
      },
      "execution_count": 52,
      "outputs": [
        {
          "output_type": "error",
          "ename": "AttributeError",
          "evalue": "ignored",
          "traceback": [
            "\u001b[0;31m---------------------------------------------------------------------------\u001b[0m",
            "\u001b[0;31mAttributeError\u001b[0m                            Traceback (most recent call last)",
            "\u001b[0;32m<ipython-input-52-294fe1420d26>\u001b[0m in \u001b[0;36m<module>\u001b[0;34m()\u001b[0m\n\u001b[0;32m----> 1\u001b[0;31m \u001b[0mjames\u001b[0m\u001b[0;34m.\u001b[0m\u001b[0m__greeting\u001b[0m\u001b[0;34m(\u001b[0m\u001b[0;34m)\u001b[0m\u001b[0;34m\u001b[0m\u001b[0;34m\u001b[0m\u001b[0m\n\u001b[0m",
            "\u001b[0;31mAttributeError\u001b[0m: 'Person' object has no attribute '__greeting'"
          ]
        }
      ]
    },
    {
      "cell_type": "code",
      "source": [
        "james.hello()"
      ],
      "metadata": {
        "colab": {
          "base_uri": "https://localhost:8080/"
        },
        "id": "6RkM3EX5EQwg",
        "outputId": "1a1d76a4-c346-4cdc-deef-a59302e88bcf"
      },
      "execution_count": 53,
      "outputs": [
        {
          "output_type": "stream",
          "name": "stdout",
          "text": [
            "Hello\n"
          ]
        }
      ]
    },
    {
      "cell_type": "markdown",
      "source": [
        "### 연습문제\n",
        "- class Tmoney"
      ],
      "metadata": {
        "id": "9Ym5VWaeFpFH"
      }
    },
    {
      "cell_type": "code",
      "source": [
        "class Tmoney:\n",
        "    def __init__(self, age, balance):\n",
        "        self.age = age\n",
        "        self.__balance = balance\n",
        "\n",
        "    def pay(self):\n",
        "        if 7 <= self.age <= 12:\n",
        "            fare = 650\n",
        "        elif 13 <= self.age <= 18:\n",
        "            fare = 1050\n",
        "        elif self.age >= 19:\n",
        "            fare = 1250\n",
        "        else:\n",
        "            fare = 0\n",
        "\n",
        "        if self.__balance < fare:\n",
        "            print('잔액이 부족합니다.ㅠㅠ')\n",
        "            return\n",
        "        self.__balance -= fare\n",
        "        print(f'{self.age}살의 요금은 {fare:,d}원이고, 잔액은 {self.__balance:,d}원입니다.')"
      ],
      "metadata": {
        "id": "Vfnb0lQxETDo"
      },
      "execution_count": 57,
      "outputs": []
    },
    {
      "cell_type": "code",
      "source": [
        "card = Tmoney(30, 10000)\n",
        "card.pay()"
      ],
      "metadata": {
        "colab": {
          "base_uri": "https://localhost:8080/"
        },
        "id": "sn1C6X4KG-Sj",
        "outputId": "955fdc98-c7f5-4ea1-ba88-05c106ea88d4"
      },
      "execution_count": 59,
      "outputs": [
        {
          "output_type": "stream",
          "name": "stdout",
          "text": [
            "30살의 요금은 1,250원이고, 잔액은 8,750원입니다.\n"
          ]
        }
      ]
    },
    {
      "cell_type": "code",
      "source": [
        "card = Tmoney(30, 10000)\n",
        "for i in range(10):\n",
        "    card.pay()"
      ],
      "metadata": {
        "colab": {
          "base_uri": "https://localhost:8080/"
        },
        "id": "q0wEtE6ZHKh3",
        "outputId": "86a358ac-3053-45a4-c518-4e7ec9ec92ba"
      },
      "execution_count": 60,
      "outputs": [
        {
          "output_type": "stream",
          "name": "stdout",
          "text": [
            "30살의 요금은 1,250원이고, 잔액은 8,750원입니다.\n",
            "30살의 요금은 1,250원이고, 잔액은 7,500원입니다.\n",
            "30살의 요금은 1,250원이고, 잔액은 6,250원입니다.\n",
            "30살의 요금은 1,250원이고, 잔액은 5,000원입니다.\n",
            "30살의 요금은 1,250원이고, 잔액은 3,750원입니다.\n",
            "30살의 요금은 1,250원이고, 잔액은 2,500원입니다.\n",
            "30살의 요금은 1,250원이고, 잔액은 1,250원입니다.\n",
            "30살의 요금은 1,250원이고, 잔액은 0원입니다.\n",
            "잔액이 부족합니다.ㅠㅠ\n",
            "잔액이 부족합니다.ㅠㅠ\n"
          ]
        }
      ]
    },
    {
      "cell_type": "markdown",
      "source": [
        "- 교통카드"
      ],
      "metadata": {
        "id": "p7StUHyMXJzk"
      }
    },
    {
      "cell_type": "code",
      "source": [
        "class Tcard:\n",
        "    def __init__(self, balance):\n",
        "        self.__balance = balance\n",
        "\n",
        "    def get_balance(self):          # getter\n",
        "        return self.__balance\n",
        "\n",
        "    def pay(self, fare=1350):\n",
        "        if self.__balance < fare:\n",
        "            print('잔액이 부족합니다.ㅠㅠ')\n",
        "        self.__balance -= fare\n",
        "        print(f'잔액: {self.__balance:,d}')"
      ],
      "metadata": {
        "id": "bl851y-WH2Pl"
      },
      "execution_count": 63,
      "outputs": []
    },
    {
      "cell_type": "code",
      "source": [
        "card = Tcard(10000)\n",
        "fare = 1350\n",
        "while card.get_balance() >= fare:\n",
        "    card.pay()"
      ],
      "metadata": {
        "colab": {
          "base_uri": "https://localhost:8080/"
        },
        "id": "whpq5haFYOQM",
        "outputId": "39fab656-0659-46ea-af8a-28767194f931"
      },
      "execution_count": 64,
      "outputs": [
        {
          "output_type": "stream",
          "name": "stdout",
          "text": [
            "잔액: 8,650\n",
            "잔액: 7,300\n",
            "잔액: 5,950\n",
            "잔액: 4,600\n",
            "잔액: 3,250\n",
            "잔액: 1,900\n",
            "잔액: 550\n"
          ]
        }
      ]
    },
    {
      "cell_type": "code",
      "source": [
        ""
      ],
      "metadata": {
        "id": "yCEIdGkvYpbF"
      },
      "execution_count": null,
      "outputs": []
    }
  ]
}
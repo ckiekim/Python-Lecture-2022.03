{
  "nbformat": 4,
  "nbformat_minor": 0,
  "metadata": {
    "colab": {
      "name": "u36_상속.ipynb",
      "provenance": [],
      "collapsed_sections": []
    },
    "kernelspec": {
      "name": "python3",
      "display_name": "Python 3"
    },
    "language_info": {
      "name": "python"
    }
  },
  "cells": [
    {
      "cell_type": "markdown",
      "source": [
        "# Unit 36. 상속(Inheritance)\n",
        "### 36.1 기본 상속"
      ],
      "metadata": {
        "id": "YhYuKeadbrR7"
      }
    },
    {
      "cell_type": "code",
      "execution_count": 1,
      "metadata": {
        "id": "kE0cQH6bbinn"
      },
      "outputs": [],
      "source": [
        "# 기반(base) 클래스\n",
        "class Person:\n",
        "    def greeting(self):\n",
        "        print('안녕하세요?')\n",
        "\n",
        "# 파생(derived) 클래스\n",
        "class Student(Person):\n",
        "    def study(self):\n",
        "        print('공부합니다.')"
      ]
    },
    {
      "cell_type": "code",
      "source": [
        "james = Student()\n",
        "james.study()"
      ],
      "metadata": {
        "colab": {
          "base_uri": "https://localhost:8080/"
        },
        "id": "cq4P9Qv8dAYi",
        "outputId": "05a070a3-f1dc-4e8d-c448-0990a3b6bc28"
      },
      "execution_count": 2,
      "outputs": [
        {
          "output_type": "stream",
          "name": "stdout",
          "text": [
            "공부합니다.\n"
          ]
        }
      ]
    },
    {
      "cell_type": "code",
      "source": [
        "james.greeting()    # 기반 클래스의 메소드 호출"
      ],
      "metadata": {
        "colab": {
          "base_uri": "https://localhost:8080/"
        },
        "id": "8eFThszldKkh",
        "outputId": "6ebe7566-b845-43cb-8a3a-0b9e3d8684ac"
      },
      "execution_count": 3,
      "outputs": [
        {
          "output_type": "stream",
          "name": "stdout",
          "text": [
            "안녕하세요?\n"
          ]
        }
      ]
    },
    {
      "cell_type": "markdown",
      "source": [
        "### 36.2 상속관계 및 포함관계"
      ],
      "metadata": {
        "id": "KxQIxXkedwwN"
      }
    },
    {
      "cell_type": "markdown",
      "source": [
        "- 상속 관계\n",
        "<pre>\n",
        "Student와 Person은 상속관계\n",
        "Student is a Person.\n",
        "is-a 관계\n",
        "</pre>"
      ],
      "metadata": {
        "id": "IESg7OXxfha-"
      }
    },
    {
      "cell_type": "markdown",
      "source": [
        "- 포함 관계\n",
        "<pre>\n",
        "사람 목록은 사람을 가지고 있다.\n",
        "PersonList has a Person.\n",
        "has-a 관계\n",
        "</pre>"
      ],
      "metadata": {
        "id": "vLBAZPaReLSQ"
      }
    },
    {
      "cell_type": "code",
      "source": [
        "class PersonList:\n",
        "    def __init__(self):\n",
        "        self.person_list = []\n",
        "\n",
        "    def append_person(self, person):\n",
        "        self.person_list.append(person)"
      ],
      "metadata": {
        "id": "_Q7V6e-seI8Z"
      },
      "execution_count": 5,
      "outputs": []
    },
    {
      "cell_type": "code",
      "source": [
        "my_friend = PersonList()\n",
        "james = Person()\n",
        "maria = Person()\n",
        "my_friend.append_person(james)\n",
        "my_friend.append_person(maria)"
      ],
      "metadata": {
        "id": "ZIck-vekejAc"
      },
      "execution_count": 6,
      "outputs": []
    },
    {
      "cell_type": "code",
      "source": [
        "my_friend.person_list"
      ],
      "metadata": {
        "colab": {
          "base_uri": "https://localhost:8080/"
        },
        "id": "Y18GujOSe4TH",
        "outputId": "e71898f5-708a-4346-e8be-7a52e4b49d39"
      },
      "execution_count": 7,
      "outputs": [
        {
          "output_type": "execute_result",
          "data": {
            "text/plain": [
              "[<__main__.Person at 0x7fe43d5ad6d0>, <__main__.Person at 0x7fe43d5ad550>]"
            ]
          },
          "metadata": {},
          "execution_count": 7
        }
      ]
    },
    {
      "cell_type": "markdown",
      "source": [
        "### 36.3 기반 클래스의 속성 사용하기"
      ],
      "metadata": {
        "id": "zUTb5v3Yf3a4"
      }
    },
    {
      "cell_type": "code",
      "source": [
        "class Person:\n",
        "    def __init__(self):\n",
        "        print('Person __init__')\n",
        "        self.hello = '안녕하세요.'\n",
        " \n",
        "class Student(Person):\n",
        "    def __init__(self):\n",
        "        print('Student __init__')\n",
        "        self.school = '파이썬 코딩 도장'"
      ],
      "metadata": {
        "id": "qT5IS5qLe86r"
      },
      "execution_count": 8,
      "outputs": []
    },
    {
      "cell_type": "code",
      "source": [
        "james = Student()\n",
        "james.school"
      ],
      "metadata": {
        "colab": {
          "base_uri": "https://localhost:8080/",
          "height": 55
        },
        "id": "4a1PZIrDgF4I",
        "outputId": "81a31f50-29ac-46c2-eb41-9154a13003c2"
      },
      "execution_count": 9,
      "outputs": [
        {
          "output_type": "stream",
          "name": "stdout",
          "text": [
            "Student __init__\n"
          ]
        },
        {
          "output_type": "execute_result",
          "data": {
            "text/plain": [
              "'파이썬 코딩 도장'"
            ],
            "application/vnd.google.colaboratory.intrinsic+json": {
              "type": "string"
            }
          },
          "metadata": {},
          "execution_count": 9
        }
      ]
    },
    {
      "cell_type": "code",
      "source": [
        "james.hello"
      ],
      "metadata": {
        "colab": {
          "base_uri": "https://localhost:8080/",
          "height": 177
        },
        "id": "rcGxNw3ogp8u",
        "outputId": "d5d31b3c-e3ce-47ae-e072-5bec692c93ae"
      },
      "execution_count": 10,
      "outputs": [
        {
          "output_type": "error",
          "ename": "AttributeError",
          "evalue": "ignored",
          "traceback": [
            "\u001b[0;31m---------------------------------------------------------------------------\u001b[0m",
            "\u001b[0;31mAttributeError\u001b[0m                            Traceback (most recent call last)",
            "\u001b[0;32m<ipython-input-10-da95e56173fd>\u001b[0m in \u001b[0;36m<module>\u001b[0;34m()\u001b[0m\n\u001b[0;32m----> 1\u001b[0;31m \u001b[0mjames\u001b[0m\u001b[0;34m.\u001b[0m\u001b[0mhello\u001b[0m\u001b[0;34m\u001b[0m\u001b[0;34m\u001b[0m\u001b[0m\n\u001b[0m",
            "\u001b[0;31mAttributeError\u001b[0m: 'Student' object has no attribute 'hello'"
          ]
        }
      ]
    },
    {
      "cell_type": "code",
      "source": [
        "class Person:\n",
        "    def __init__(self):\n",
        "        print('Person __init__')\n",
        "        self.hello = '안녕하세요.'\n",
        "\n",
        "class Soldier(Person):\n",
        "    def shoot(self):\n",
        "        print('총을 쏩니다.')"
      ],
      "metadata": {
        "id": "OeD9D40Wg1O_"
      },
      "execution_count": 11,
      "outputs": []
    },
    {
      "cell_type": "code",
      "source": [
        "peter = Soldier()\n",
        "peter.hello"
      ],
      "metadata": {
        "colab": {
          "base_uri": "https://localhost:8080/",
          "height": 55
        },
        "id": "G1C_nVZhhPQT",
        "outputId": "23c22032-6c66-4dcf-9102-499392c34b4d"
      },
      "execution_count": 12,
      "outputs": [
        {
          "output_type": "stream",
          "name": "stdout",
          "text": [
            "Person __init__\n"
          ]
        },
        {
          "output_type": "execute_result",
          "data": {
            "text/plain": [
              "'안녕하세요.'"
            ],
            "application/vnd.google.colaboratory.intrinsic+json": {
              "type": "string"
            }
          },
          "metadata": {},
          "execution_count": 12
        }
      ]
    },
    {
      "cell_type": "markdown",
      "source": [
        "<pre>부모/자식이 모두 __init__ 메소드를 가지고 있을 경우</pre>"
      ],
      "metadata": {
        "id": "zen9PGk5k7gv"
      }
    },
    {
      "cell_type": "code",
      "source": [
        "class Person:\n",
        "    def __init__(self):\n",
        "        print('Person __init__')\n",
        "        self.hello = '안녕하세요.'\n",
        " \n",
        "class Student(Person):\n",
        "    def __init__(self):\n",
        "        print('Student __init__')\n",
        "        super().__init__()          # 기반 클래스의 __init__ 메소드 호출\n",
        "        self.school = '파이썬 코딩 도장'"
      ],
      "metadata": {
        "id": "0a2juV3tkS-b"
      },
      "execution_count": 14,
      "outputs": []
    },
    {
      "cell_type": "code",
      "source": [
        "maria = Student()\n",
        "maria.hello"
      ],
      "metadata": {
        "colab": {
          "base_uri": "https://localhost:8080/",
          "height": 74
        },
        "id": "0XfK_FADlWJ3",
        "outputId": "8a654317-3b87-4ee6-8eb1-97935b54fdc7"
      },
      "execution_count": 15,
      "outputs": [
        {
          "output_type": "stream",
          "name": "stdout",
          "text": [
            "Student __init__\n",
            "Person __init__\n"
          ]
        },
        {
          "output_type": "execute_result",
          "data": {
            "text/plain": [
              "'안녕하세요.'"
            ],
            "application/vnd.google.colaboratory.intrinsic+json": {
              "type": "string"
            }
          },
          "metadata": {},
          "execution_count": 15
        }
      ]
    },
    {
      "cell_type": "markdown",
      "source": [
        "### 36.4 Method overriding"
      ],
      "metadata": {
        "id": "xwZN0JwNlxsS"
      }
    },
    {
      "cell_type": "code",
      "source": [
        "class Person:\n",
        "    def greeting(self):\n",
        "        print('안녕하세요.')\n",
        " \n",
        "class Student(Person):\n",
        "    def greeting(self):\n",
        "        print('안녕하세요. 저는 파이썬 코딩 도장 학생입니다.')"
      ],
      "metadata": {
        "id": "7vbMKTiDlbk0"
      },
      "execution_count": 16,
      "outputs": []
    },
    {
      "cell_type": "code",
      "source": [
        "james = Student()\n",
        "james.greeting()"
      ],
      "metadata": {
        "colab": {
          "base_uri": "https://localhost:8080/"
        },
        "id": "ZKGrx8Y8l-5G",
        "outputId": "21b6d27b-9292-4bcf-ae48-f219e5e10d19"
      },
      "execution_count": 17,
      "outputs": [
        {
          "output_type": "stream",
          "name": "stdout",
          "text": [
            "안녕하세요. 저는 파이썬 코딩 도장 학생입니다.\n"
          ]
        }
      ]
    },
    {
      "cell_type": "markdown",
      "source": [
        "### 36.5 다중상속\n",
        "- 별로 좋은 방법이 아니므로 사용하지 말 것"
      ],
      "metadata": {
        "id": "-eyO-DRQn-yH"
      }
    },
    {
      "cell_type": "markdown",
      "source": [
        "### 36.6 추상 클래스 - 인터페이스"
      ],
      "metadata": {
        "id": "QPhJIQVMoGOP"
      }
    },
    {
      "cell_type": "code",
      "source": [
        "from abc import *\n",
        "\n",
        "class StudentBase(metaclass=ABCMeta):\n",
        "    @abstractmethod\n",
        "    def study(self, a):\n",
        "        pass\n",
        "\n",
        "    @abstractmethod\n",
        "    def go_to_school(self, b):\n",
        "        pass"
      ],
      "metadata": {
        "id": "tJvQpTkgmq9d"
      },
      "execution_count": 23,
      "outputs": []
    },
    {
      "cell_type": "code",
      "source": [
        "class Student(StudentBase):\n",
        "    def study(self):\n",
        "        print('공부하기')"
      ],
      "metadata": {
        "id": "kABF-PCspADq"
      },
      "execution_count": 19,
      "outputs": []
    },
    {
      "cell_type": "code",
      "source": [
        "james = Student()"
      ],
      "metadata": {
        "colab": {
          "base_uri": "https://localhost:8080/",
          "height": 177
        },
        "id": "3H3aMhLZpQ2T",
        "outputId": "a9e162db-7741-4028-8d01-844a9fcdcbdb"
      },
      "execution_count": 20,
      "outputs": [
        {
          "output_type": "error",
          "ename": "TypeError",
          "evalue": "ignored",
          "traceback": [
            "\u001b[0;31m---------------------------------------------------------------------------\u001b[0m",
            "\u001b[0;31mTypeError\u001b[0m                                 Traceback (most recent call last)",
            "\u001b[0;32m<ipython-input-20-543725277122>\u001b[0m in \u001b[0;36m<module>\u001b[0;34m()\u001b[0m\n\u001b[0;32m----> 1\u001b[0;31m \u001b[0mjames\u001b[0m \u001b[0;34m=\u001b[0m \u001b[0mStudent\u001b[0m\u001b[0;34m(\u001b[0m\u001b[0;34m)\u001b[0m\u001b[0;34m\u001b[0m\u001b[0;34m\u001b[0m\u001b[0m\n\u001b[0m",
            "\u001b[0;31mTypeError\u001b[0m: Can't instantiate abstract class Student with abstract methods go_to_school"
          ]
        }
      ]
    },
    {
      "cell_type": "code",
      "source": [
        "class Student(StudentBase):\n",
        "    def study(self, a):\n",
        "        print('공부하기')\n",
        "    def go_to_school(self, b):\n",
        "        print('학교가기')"
      ],
      "metadata": {
        "id": "9PB29mqbpVER"
      },
      "execution_count": 24,
      "outputs": []
    },
    {
      "cell_type": "code",
      "source": [
        "maria = Student()\n",
        "maria.study()\n",
        "maria.go_to_school()"
      ],
      "metadata": {
        "colab": {
          "base_uri": "https://localhost:8080/"
        },
        "id": "Ks1dO2z_qLOI",
        "outputId": "5f93382b-b56e-4806-bda2-087efdc91b0a"
      },
      "execution_count": 25,
      "outputs": [
        {
          "output_type": "stream",
          "name": "stdout",
          "text": [
            "공부하기\n",
            "학교가기\n"
          ]
        }
      ]
    },
    {
      "cell_type": "code",
      "source": [
        ""
      ],
      "metadata": {
        "id": "pK6x9fczqSqL"
      },
      "execution_count": null,
      "outputs": []
    }
  ]
}
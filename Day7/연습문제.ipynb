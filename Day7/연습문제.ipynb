{
  "nbformat": 4,
  "nbformat_minor": 0,
  "metadata": {
    "colab": {
      "name": "연습문제.ipynb",
      "provenance": [],
      "collapsed_sections": []
    },
    "kernelspec": {
      "name": "python3",
      "display_name": "Python 3"
    },
    "language_info": {
      "name": "python"
    }
  },
  "cells": [
    {
      "cell_type": "markdown",
      "source": [
        "### 심사문제 34.6\n",
        "<pre>\n",
        "표준 입력으로 게임 캐릭터 능력치(체력, 마나, AP)가 입력됩니다. \n",
        "다음 소스 코드에서 애니(Annie) 클래스를 작성하여 티버(tibbers) 스킬의 피해량이 출력되게 만드세요. \n",
        "티버의 피해량은 AP * 0.65 + 400이며 AP(Ability Power, 주문력)는 마법 능력치를 뜻합니다.\n",
        "</pre>"
      ],
      "metadata": {
        "id": "l3tnpCuA0GFv"
      }
    },
    {
      "cell_type": "code",
      "source": [
        "class Annie:\n",
        "    def __init__(self, health, mana, ability_power):\n",
        "        self.health = health\n",
        "        self.mana = mana\n",
        "        self.ability_power = ability_power\n",
        "\n",
        "    def tibbers(self):\n",
        "        print('티버: 피해량', 0.65 * self.ability_power + 400)"
      ],
      "metadata": {
        "id": "IEvzxeHzzcSc"
      },
      "execution_count": 1,
      "outputs": []
    },
    {
      "cell_type": "code",
      "source": [
        "health, mana, ability_power = map(float, input().split())\n",
        " \n",
        "x = Annie(health=health, mana=mana, ability_power=ability_power)\n",
        "x.tibbers()"
      ],
      "metadata": {
        "id": "CtQr22_g1EEC",
        "colab": {
          "base_uri": "https://localhost:8080/"
        },
        "outputId": "adfc02d2-9595-4d2d-f5d8-7d3612d660eb"
      },
      "execution_count": 3,
      "outputs": [
        {
          "output_type": "stream",
          "name": "stdout",
          "text": [
            "1803.68 1184.0 645\n",
            "티버: 피해량 819.25\n"
          ]
        }
      ]
    },
    {
      "cell_type": "markdown",
      "source": [
        "### 연습문제 1\n",
        "<pre>\n",
        "Calculator\n",
        "\tadd, sub, mul, div 메소드 구현\n",
        "    단, 0으로 나누지 못하게 할 것\n",
        "</pre>"
      ],
      "metadata": {
        "id": "KYytBruL1lfl"
      }
    },
    {
      "cell_type": "code",
      "source": [
        "class Calculator:\n",
        "    ''' def __init__(self, x, y):\n",
        "        self.x = x\n",
        "        self.y = y '''\n",
        "    def add(self, a, b):\n",
        "        return a+b\n",
        "    def sub(self, a, b):\n",
        "        return a-b\n",
        "    def mul(self, a, b):\n",
        "        return a*b\n",
        "    def div(self, a, b):\n",
        "        if abs(b) < 1e-15:\n",
        "            return None\n",
        "        return a / b"
      ],
      "metadata": {
        "id": "Yp-r6nNZ1KKy"
      },
      "execution_count": 4,
      "outputs": []
    },
    {
      "cell_type": "code",
      "source": [
        "calc = Calculator()\n",
        "calc.add(5,4)"
      ],
      "metadata": {
        "id": "0BWaeTBN3-vs",
        "colab": {
          "base_uri": "https://localhost:8080/"
        },
        "outputId": "24c97ad5-a217-4ce3-f929-e2c2e2a53b01"
      },
      "execution_count": 5,
      "outputs": [
        {
          "output_type": "execute_result",
          "data": {
            "text/plain": [
              "9"
            ]
          },
          "metadata": {},
          "execution_count": 5
        }
      ]
    },
    {
      "cell_type": "code",
      "source": [
        "calc.sub(4,3), calc.mul(7,5)"
      ],
      "metadata": {
        "id": "Kt0yTEZD4EN4",
        "colab": {
          "base_uri": "https://localhost:8080/"
        },
        "outputId": "386fbf9e-deaa-48de-ff85-52f4c1147f33"
      },
      "execution_count": 6,
      "outputs": [
        {
          "output_type": "execute_result",
          "data": {
            "text/plain": [
              "(1, 35)"
            ]
          },
          "metadata": {},
          "execution_count": 6
        }
      ]
    },
    {
      "cell_type": "code",
      "source": [
        "calc.div(5,0)"
      ],
      "metadata": {
        "id": "YX62kVG84KIC"
      },
      "execution_count": 7,
      "outputs": []
    },
    {
      "cell_type": "code",
      "source": [
        "calc.div(3, 4e-10)"
      ],
      "metadata": {
        "id": "Bizr9re94PrT",
        "colab": {
          "base_uri": "https://localhost:8080/"
        },
        "outputId": "08c60b3a-ee62-4c32-c1f3-dde53cd40982"
      },
      "execution_count": 8,
      "outputs": [
        {
          "output_type": "execute_result",
          "data": {
            "text/plain": [
              "7500000000.0"
            ]
          },
          "metadata": {},
          "execution_count": 8
        }
      ]
    },
    {
      "cell_type": "markdown",
      "source": [
        "### 연습문제 2\n",
        "<pre>\n",
        "- 속성\n",
        "    ano: 문자열 6글자, '123456'\n",
        "    owner: 문자열\n",
        "    balance: 잔액, 비공개 속성 \n",
        "\n",
        "- Method\n",
        "    생성자\n",
        "    deposit(amount) 잔액이 1000만원 이상이면 입금할 수 없음\n",
        "    withdraw(amount) 잔액이 0원 미만이면 출금할 수 없음\n",
        "    출력 가능하게(__str__)\n",
        "</pre>"
      ],
      "metadata": {
        "id": "LLwpdkNe4bnX"
      }
    },
    {
      "cell_type": "code",
      "source": [
        "class Account:\n",
        "    def __init__(self, ano, owner, balance):\n",
        "        self.ano = ano\n",
        "        self.owner = owner\n",
        "        self.__balance = balance\n",
        "\n",
        "    def deposit(self, amount):\n",
        "        if amount + self.__balance >= 10000000:\n",
        "            print('천만원 이상은 잔액으로 가져갈 수 없습니다.')\n",
        "            return\n",
        "        self.__balance += amount\n",
        "\n",
        "    def withdraw(self, amount):\n",
        "        if self.__balance - amount < 0:\n",
        "            print('잔액이 부족합니다.')\n",
        "            return\n",
        "        self.__balance -= amount\n",
        "\n",
        "    def __str__(self):\n",
        "        return f'계좌번호: {self.ano}, 소유주: {self.owner}, 잔액: {self.__balance:9,d}'"
      ],
      "metadata": {
        "id": "nGsi6KRx4VAL"
      },
      "execution_count": 9,
      "outputs": []
    },
    {
      "cell_type": "code",
      "source": [
        "acc = Account('123456', '제임스', 100000)\n",
        "print(acc)"
      ],
      "metadata": {
        "id": "a0qXlIVR5QjN",
        "colab": {
          "base_uri": "https://localhost:8080/"
        },
        "outputId": "cb08ed74-5625-428a-9dfb-37e45ada6776"
      },
      "execution_count": 10,
      "outputs": [
        {
          "output_type": "stream",
          "name": "stdout",
          "text": [
            "계좌번호: 123456, 소유주: 제임스, 잔액:   100,000\n"
          ]
        }
      ]
    },
    {
      "cell_type": "code",
      "source": [
        "acc.deposit(3000000)\n",
        "print(acc)"
      ],
      "metadata": {
        "id": "EOYehEyV5T-b",
        "colab": {
          "base_uri": "https://localhost:8080/"
        },
        "outputId": "dd85e2a6-1ac6-45a0-8e79-770e68375e52"
      },
      "execution_count": 11,
      "outputs": [
        {
          "output_type": "stream",
          "name": "stdout",
          "text": [
            "계좌번호: 123456, 소유주: 제임스, 잔액: 3,100,000\n"
          ]
        }
      ]
    },
    {
      "cell_type": "code",
      "source": [
        "acc.deposit(7000000)\n",
        "print(acc)"
      ],
      "metadata": {
        "id": "7cCNm1Zs5Z2J",
        "colab": {
          "base_uri": "https://localhost:8080/"
        },
        "outputId": "df01e336-0763-4a0c-cced-23449d37911e"
      },
      "execution_count": 12,
      "outputs": [
        {
          "output_type": "stream",
          "name": "stdout",
          "text": [
            "천만원 이상은 잔액으로 가져갈 수 없습니다.\n",
            "계좌번호: 123456, 소유주: 제임스, 잔액: 3,100,000\n"
          ]
        }
      ]
    },
    {
      "cell_type": "code",
      "source": [
        "acc.withdraw(2000000)\n",
        "print(acc)"
      ],
      "metadata": {
        "id": "p9Vp4B8V5geR",
        "colab": {
          "base_uri": "https://localhost:8080/"
        },
        "outputId": "dd8b4232-39e3-4122-dfaa-c299227ec634"
      },
      "execution_count": 13,
      "outputs": [
        {
          "output_type": "stream",
          "name": "stdout",
          "text": [
            "계좌번호: 123456, 소유주: 제임스, 잔액: 1,100,000\n"
          ]
        }
      ]
    },
    {
      "cell_type": "code",
      "source": [
        "acc.withdraw(2000000)\n",
        "print(acc)"
      ],
      "metadata": {
        "id": "nb12z4xf5kx9",
        "colab": {
          "base_uri": "https://localhost:8080/"
        },
        "outputId": "d5c2f905-4c75-4a79-b4e7-01dc0e684f30"
      },
      "execution_count": 14,
      "outputs": [
        {
          "output_type": "stream",
          "name": "stdout",
          "text": [
            "잔액이 부족합니다.\n",
            "계좌번호: 123456, 소유주: 제임스, 잔액: 1,100,000\n"
          ]
        }
      ]
    },
    {
      "cell_type": "code",
      "source": [
        "acc2 = Account('987432', '마리아', 3000000)\n",
        "print(acc2)"
      ],
      "metadata": {
        "id": "OD_2yFV-6AsF",
        "colab": {
          "base_uri": "https://localhost:8080/"
        },
        "outputId": "cc757db4-8edd-4252-8fab-2a632598d794"
      },
      "execution_count": 15,
      "outputs": [
        {
          "output_type": "stream",
          "name": "stdout",
          "text": [
            "계좌번호: 987432, 소유주: 마리아, 잔액: 3,000,000\n"
          ]
        }
      ]
    },
    {
      "cell_type": "code",
      "source": [
        "acc_list = [acc, acc2]"
      ],
      "metadata": {
        "id": "9g2HHYBz6Des"
      },
      "execution_count": 16,
      "outputs": []
    },
    {
      "cell_type": "markdown",
      "source": [
        "- 사용자 I/F\n",
        "<pre>\n",
        "1:계좌생성, 2:계좌목록, 3:입금, 4:출금, 5:종료\n",
        "</pre>"
      ],
      "metadata": {
        "id": "IK1PW_vP5wuO"
      }
    },
    {
      "cell_type": "code",
      "source": [
        "def check_duplicate(ano):\n",
        "    for acc in acc_list:\n",
        "        if ano == acc.ano:\n",
        "            return True\n",
        "    return False"
      ],
      "metadata": {
        "id": "uMlGt-SJ5n0h"
      },
      "execution_count": 17,
      "outputs": []
    },
    {
      "cell_type": "code",
      "source": [
        "# 사용자로부터 필요한 정보를 입력 받아서 계좌를 생성함\n",
        "def create_account():\n",
        "    while True:\n",
        "        s = input('계좌번호 성명 금액> ').split()\n",
        "        ano, owner = s[0], s[1]\n",
        "        amount = int(s[2])\n",
        "        if not check_duplicate(ano):\n",
        "            break\n",
        "    acc = Account(ano, owner, amount)\n",
        "    acc_list.append(acc)"
      ],
      "metadata": {
        "id": "PippEXvu6Lcy"
      },
      "execution_count": 18,
      "outputs": []
    },
    {
      "cell_type": "code",
      "source": [
        "# 사용자로부터 필요한 정보를 입력 받아서 계좌에 돈을 입금함\n",
        "def deposit_account():\n",
        "    s = input('계좌번호 금액> ').split()\n",
        "    ano, amount = s[0], int(s[1])\n",
        "    for acc in acc_list:\n",
        "        if acc.ano == ano:\n",
        "            acc.deposit(amount)\n",
        "            return"
      ],
      "metadata": {
        "id": "_Iyry1kD6OGL"
      },
      "execution_count": 19,
      "outputs": []
    },
    {
      "cell_type": "code",
      "source": [
        "# 사용자로부터 필요한 정보를 입력 받아서 계좌에서 돈을 출금함\n",
        "def withdraw_account():\n",
        "    s = input('계좌번호 금액> ').split()\n",
        "    ano, amount = s[0], int(s[1])\n",
        "    for acc in acc_list:\n",
        "        if acc.ano == ano:\n",
        "            acc.withdraw(amount)\n",
        "            return"
      ],
      "metadata": {
        "id": "Yl1jXwIx6Up3"
      },
      "execution_count": 20,
      "outputs": []
    },
    {
      "cell_type": "code",
      "source": [
        "while True:\n",
        "    menu = int(input('1:계좌생성, 2:계좌목록, 3:입금, 4:출금, 5:종료> '))\n",
        "    if menu == 5:\n",
        "        break\n",
        "    if menu == 1:\n",
        "        create_account()\n",
        "    elif menu == 2:\n",
        "        for account in acc_list:\n",
        "            print(account)\n",
        "    elif menu == 3:\n",
        "        deposit_account()\n",
        "    elif menu == 4:\n",
        "        withdraw_account()\n",
        "    else:\n",
        "        print('잘못된 명령어입니다.')\n",
        "\n",
        "    print()"
      ],
      "metadata": {
        "id": "HHu3fent6r45",
        "colab": {
          "base_uri": "https://localhost:8080/"
        },
        "outputId": "281a93e8-ac0a-4469-9471-abce666a866c"
      },
      "execution_count": 21,
      "outputs": [
        {
          "name": "stdout",
          "output_type": "stream",
          "text": [
            "1:계좌생성, 2:계좌목록, 3:입금, 4:출금, 5:종료> 2\n",
            "계좌번호: 123456, 소유주: 제임스, 잔액: 1,100,000\n",
            "계좌번호: 987432, 소유주: 마리아, 잔액: 3,000,000\n",
            "\n",
            "1:계좌생성, 2:계좌목록, 3:입금, 4:출금, 5:종료> 1\n",
            "계좌번호 성명 금액> 234567 홍길동 200000\n",
            "\n",
            "1:계좌생성, 2:계좌목록, 3:입금, 4:출금, 5:종료> 2\n",
            "계좌번호: 123456, 소유주: 제임스, 잔액: 1,100,000\n",
            "계좌번호: 987432, 소유주: 마리아, 잔액: 3,000,000\n",
            "계좌번호: 234567, 소유주: 홍길동, 잔액:   200,000\n",
            "\n",
            "1:계좌생성, 2:계좌목록, 3:입금, 4:출금, 5:종료> 3\n",
            "계좌번호 금액> 234567 3000000\n",
            "\n",
            "1:계좌생성, 2:계좌목록, 3:입금, 4:출금, 5:종료> 2\n",
            "계좌번호: 123456, 소유주: 제임스, 잔액: 1,100,000\n",
            "계좌번호: 987432, 소유주: 마리아, 잔액: 3,000,000\n",
            "계좌번호: 234567, 소유주: 홍길동, 잔액: 3,200,000\n",
            "\n",
            "1:계좌생성, 2:계좌목록, 3:입금, 4:출금, 5:종료> 4\n",
            "계좌번호 금액> 123456 1200000\n",
            "잔액이 부족합니다.\n",
            "\n",
            "1:계좌생성, 2:계좌목록, 3:입금, 4:출금, 5:종료> 2\n",
            "계좌번호: 123456, 소유주: 제임스, 잔액: 1,100,000\n",
            "계좌번호: 987432, 소유주: 마리아, 잔액: 3,000,000\n",
            "계좌번호: 234567, 소유주: 홍길동, 잔액: 3,200,000\n",
            "\n",
            "1:계좌생성, 2:계좌목록, 3:입금, 4:출금, 5:종료> 5\n"
          ]
        }
      ]
    },
    {
      "cell_type": "markdown",
      "source": [
        "- 비공개 속성"
      ],
      "metadata": {
        "id": "-aUndLgHDEAw"
      }
    },
    {
      "cell_type": "code",
      "source": [
        "type(acc)"
      ],
      "metadata": {
        "id": "vp-NNwW-7RX2",
        "colab": {
          "base_uri": "https://localhost:8080/"
        },
        "outputId": "804ad05f-339a-4726-9f15-ab1e6642e7c6"
      },
      "execution_count": 22,
      "outputs": [
        {
          "output_type": "execute_result",
          "data": {
            "text/plain": [
              "__main__.Account"
            ]
          },
          "metadata": {},
          "execution_count": 22
        }
      ]
    },
    {
      "cell_type": "code",
      "source": [
        "dir(acc)"
      ],
      "metadata": {
        "colab": {
          "base_uri": "https://localhost:8080/"
        },
        "id": "TvWBE_08DIaj",
        "outputId": "f48c9ca1-e6e5-45d7-f921-49b694218ada"
      },
      "execution_count": 23,
      "outputs": [
        {
          "output_type": "execute_result",
          "data": {
            "text/plain": [
              "['_Account__balance',\n",
              " '__class__',\n",
              " '__delattr__',\n",
              " '__dict__',\n",
              " '__dir__',\n",
              " '__doc__',\n",
              " '__eq__',\n",
              " '__format__',\n",
              " '__ge__',\n",
              " '__getattribute__',\n",
              " '__gt__',\n",
              " '__hash__',\n",
              " '__init__',\n",
              " '__init_subclass__',\n",
              " '__le__',\n",
              " '__lt__',\n",
              " '__module__',\n",
              " '__ne__',\n",
              " '__new__',\n",
              " '__reduce__',\n",
              " '__reduce_ex__',\n",
              " '__repr__',\n",
              " '__setattr__',\n",
              " '__sizeof__',\n",
              " '__str__',\n",
              " '__subclasshook__',\n",
              " '__weakref__',\n",
              " 'ano',\n",
              " 'deposit',\n",
              " 'owner',\n",
              " 'withdraw']"
            ]
          },
          "metadata": {},
          "execution_count": 23
        }
      ]
    },
    {
      "cell_type": "code",
      "source": [
        "acc == acc2"
      ],
      "metadata": {
        "colab": {
          "base_uri": "https://localhost:8080/"
        },
        "id": "jOkVatS9DWqx",
        "outputId": "8ccbbb78-cb5c-42f7-c92e-774a7720d4fa"
      },
      "execution_count": 24,
      "outputs": [
        {
          "output_type": "execute_result",
          "data": {
            "text/plain": [
              "False"
            ]
          },
          "metadata": {},
          "execution_count": 24
        }
      ]
    },
    {
      "cell_type": "code",
      "source": [
        "acc._Account__balance"
      ],
      "metadata": {
        "colab": {
          "base_uri": "https://localhost:8080/"
        },
        "id": "z3Wf97M1ERQq",
        "outputId": "f1fe7eba-205c-4d96-8147-0caa11fa5b7a"
      },
      "execution_count": 26,
      "outputs": [
        {
          "output_type": "execute_result",
          "data": {
            "text/plain": [
              "1100000"
            ]
          },
          "metadata": {},
          "execution_count": 26
        }
      ]
    },
    {
      "cell_type": "code",
      "source": [
        ""
      ],
      "metadata": {
        "id": "THbLQQOUEl_3"
      },
      "execution_count": null,
      "outputs": []
    }
  ]
}
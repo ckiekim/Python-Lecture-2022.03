{
  "nbformat": 4,
  "nbformat_minor": 0,
  "metadata": {
    "colab": {
      "name": "연습문제.ipynb",
      "provenance": [],
      "collapsed_sections": []
    },
    "kernelspec": {
      "name": "python3",
      "display_name": "Python 3"
    },
    "language_info": {
      "name": "python"
    }
  },
  "cells": [
    {
      "cell_type": "markdown",
      "source": [
        "### 심사문제 34.6\n",
        "<pre>\n",
        "표준 입력으로 게임 캐릭터 능력치(체력, 마나, AP)가 입력됩니다. \n",
        "다음 소스 코드에서 애니(Annie) 클래스를 작성하여 티버(tibbers) 스킬의 피해량이 출력되게 만드세요. \n",
        "티버의 피해량은 AP * 0.65 + 400이며 AP(Ability Power, 주문력)는 마법 능력치를 뜻합니다.\n",
        "</pre>"
      ],
      "metadata": {
        "id": "l3tnpCuA0GFv"
      }
    },
    {
      "cell_type": "code",
      "source": [
        "class Annie:\n",
        "    def __init__(self, health, mana, ability_power):\n",
        "        self.health = health\n",
        "        self.mana = mana\n",
        "        self.ability_power = ability_power\n",
        "\n",
        "    def tibbers(self):\n",
        "        print('티버: 피해량', 0.65 * self.ability_power + 400)"
      ],
      "metadata": {
        "id": "IEvzxeHzzcSc"
      },
      "execution_count": null,
      "outputs": []
    },
    {
      "cell_type": "code",
      "source": [
        "health, mana, ability_power = map(float, input().split())\n",
        " \n",
        "x = Annie(health=health, mana=mana, ability_power=ability_power)\n",
        "x.tibbers()"
      ],
      "metadata": {
        "id": "CtQr22_g1EEC"
      },
      "execution_count": null,
      "outputs": []
    },
    {
      "cell_type": "markdown",
      "source": [
        "### 연습문제 1\n",
        "<pre>\n",
        "Calculator\n",
        "\tadd, sub, mul, div 메소드 구현\n",
        "    단, 0으로 나누지 못하게 할 것\n",
        "</pre>"
      ],
      "metadata": {
        "id": "KYytBruL1lfl"
      }
    },
    {
      "cell_type": "code",
      "source": [
        "class Calculator:\n",
        "    def add(self, a, b):\n",
        "        return a+b\n",
        "    def sub(self, a, b):\n",
        "        return a-b\n",
        "    def mul(self, a, b):\n",
        "        return a*b\n",
        "    def div(self, a, b):\n",
        "        if b < 1e-20:\n",
        "            return None\n",
        "        return a / b"
      ],
      "metadata": {
        "id": "Yp-r6nNZ1KKy"
      },
      "execution_count": null,
      "outputs": []
    },
    {
      "cell_type": "code",
      "source": [
        "calc = Calculator()\n",
        "calc.add(5,4)"
      ],
      "metadata": {
        "id": "0BWaeTBN3-vs"
      },
      "execution_count": null,
      "outputs": []
    },
    {
      "cell_type": "code",
      "source": [
        "calc.sub(4,3), calc.mul(7,5)"
      ],
      "metadata": {
        "id": "Kt0yTEZD4EN4"
      },
      "execution_count": null,
      "outputs": []
    },
    {
      "cell_type": "code",
      "source": [
        "calc.div(5,0)"
      ],
      "metadata": {
        "id": "YX62kVG84KIC"
      },
      "execution_count": null,
      "outputs": []
    },
    {
      "cell_type": "code",
      "source": [
        "calc.div(3, 4e-10)"
      ],
      "metadata": {
        "id": "Bizr9re94PrT"
      },
      "execution_count": null,
      "outputs": []
    },
    {
      "cell_type": "markdown",
      "source": [
        "### 연습문제 2\n",
        "<pre>\n",
        "- 속성\n",
        "    ano: 문자열 6글자, '123456'\n",
        "    owner: 문자열\n",
        "    balance: 잔액, 비공개 속성 \n",
        "\n",
        "- Method\n",
        "    생성자\n",
        "    deposit(amount) 잔액이 1000만원 이상이면 입금할 수 없음\n",
        "    withdraw(amount) 잔액이 0원 미만이면 출금할 수 없음\n",
        "    출력 가능하게(__str__)\n",
        "</pre>"
      ],
      "metadata": {
        "id": "LLwpdkNe4bnX"
      }
    },
    {
      "cell_type": "code",
      "source": [
        "class Account:\n",
        "    def __init__(self, ano, owner, balance):\n",
        "        self.ano = ano\n",
        "        self.owner = owner\n",
        "        self.__balance = balance\n",
        "\n",
        "    def deposit(self, amount):\n",
        "        if amount + self.__balance >= 10000000:\n",
        "            print('천만원 이상은 잔액으로 가져갈 수 없습니다.')\n",
        "            return\n",
        "        self.__balance += amount\n",
        "\n",
        "    def withdraw(self, amount):\n",
        "        if self.__balance - amount < 0:\n",
        "            print('잔액이 부족합니다.')\n",
        "            return\n",
        "        self.__balance -= amount\n",
        "\n",
        "    def __str__(self):\n",
        "        return f'계좌번호: {self.ano}, 소유주: {self.owner}, 잔액: {self.__balance:9,d}'"
      ],
      "metadata": {
        "id": "nGsi6KRx4VAL"
      },
      "execution_count": null,
      "outputs": []
    },
    {
      "cell_type": "code",
      "source": [
        "acc = Account('123456', '제임스', 100000)\n",
        "print(acc)"
      ],
      "metadata": {
        "id": "a0qXlIVR5QjN"
      },
      "execution_count": null,
      "outputs": []
    },
    {
      "cell_type": "code",
      "source": [
        "acc.deposit(3000000)\n",
        "print(acc)"
      ],
      "metadata": {
        "id": "EOYehEyV5T-b"
      },
      "execution_count": null,
      "outputs": []
    },
    {
      "cell_type": "code",
      "source": [
        "acc.deposit(7000000)\n",
        "print(acc)"
      ],
      "metadata": {
        "id": "7cCNm1Zs5Z2J"
      },
      "execution_count": null,
      "outputs": []
    },
    {
      "cell_type": "code",
      "source": [
        "acc.withdraw(2000000)\n",
        "print(acc)"
      ],
      "metadata": {
        "id": "p9Vp4B8V5geR"
      },
      "execution_count": null,
      "outputs": []
    },
    {
      "cell_type": "code",
      "source": [
        "acc.withdraw(2000000)\n",
        "print(acc)"
      ],
      "metadata": {
        "id": "nb12z4xf5kx9"
      },
      "execution_count": null,
      "outputs": []
    },
    {
      "cell_type": "code",
      "source": [
        "acc2 = Account('987432', '마리아', 3000000)\n",
        "print(acc2)"
      ],
      "metadata": {
        "id": "OD_2yFV-6AsF"
      },
      "execution_count": null,
      "outputs": []
    },
    {
      "cell_type": "code",
      "source": [
        "acc_list = [acc, acc2]"
      ],
      "metadata": {
        "id": "9g2HHYBz6Des"
      },
      "execution_count": null,
      "outputs": []
    },
    {
      "cell_type": "markdown",
      "source": [
        "- 사용자 I/F\n",
        "<pre>\n",
        "1:계좌생성, 2:계좌목록, 3:입금, 4:출금, 5:종료\n",
        "</pre>"
      ],
      "metadata": {
        "id": "IK1PW_vP5wuO"
      }
    },
    {
      "cell_type": "code",
      "source": [
        "def check_duplicate(ano):\n",
        "    for acc in acc_list:\n",
        "        if ano == acc.ano:\n",
        "            return True\n",
        "    return False"
      ],
      "metadata": {
        "id": "uMlGt-SJ5n0h"
      },
      "execution_count": null,
      "outputs": []
    },
    {
      "cell_type": "code",
      "source": [
        "# 사용자로부터 필요한 정보를 입력 받아서 계좌를 생성함\n",
        "def create_account():\n",
        "    while True:\n",
        "        s = input('계좌번호 성명 금액> ').split()\n",
        "        ano, owner = s[0], s[1]\n",
        "        amount = int(s[2])\n",
        "        if not check_duplicate(ano):\n",
        "            break\n",
        "    acc = Account(ano, owner, amount)\n",
        "    acc_list.append(acc)"
      ],
      "metadata": {
        "id": "PippEXvu6Lcy"
      },
      "execution_count": null,
      "outputs": []
    },
    {
      "cell_type": "code",
      "source": [
        "# 사용자로부터 필요한 정보를 입력 받아서 계좌에 돈을 입금함\n",
        "def deposit_account():\n",
        "    s = input('계좌번호 금액> ').split()\n",
        "    ano, amount = s[0], int(s[1])\n",
        "    for acc in acc_list:\n",
        "        if acc.ano == ano:\n",
        "            acc.deposit(amount)\n",
        "            return"
      ],
      "metadata": {
        "id": "_Iyry1kD6OGL"
      },
      "execution_count": null,
      "outputs": []
    },
    {
      "cell_type": "code",
      "source": [
        "# 사용자로부터 필요한 정보를 입력 받아서 계좌에서 돈을 출금함\n",
        "def withdraw_account():\n",
        "    s = input('계좌번호 금액> ').split()\n",
        "    ano, amount = s[0], int(s[1])\n",
        "    for acc in acc_list:\n",
        "        if acc.ano == ano:\n",
        "            acc.withdraw(amount)\n",
        "            return"
      ],
      "metadata": {
        "id": "Yl1jXwIx6Up3"
      },
      "execution_count": null,
      "outputs": []
    },
    {
      "cell_type": "code",
      "source": [
        "while True:\n",
        "    menu = int(input('1:계좌생성, 2:계좌목록, 3:입금, 4:출금, 5:종료> '))\n",
        "    if menu == 5:\n",
        "        break\n",
        "    if menu == 1:\n",
        "        create_account()\n",
        "    elif menu == 2:\n",
        "        for account in acc_list:\n",
        "            print(account)\n",
        "    elif menu == 3:\n",
        "        deposit_account()\n",
        "    elif menu == 4:\n",
        "        withdraw_account()\n",
        "    else:\n",
        "        print('잘못된 명령어입니다.')\n",
        "\n",
        "    print()"
      ],
      "metadata": {
        "id": "HHu3fent6r45"
      },
      "execution_count": null,
      "outputs": []
    },
    {
      "cell_type": "code",
      "source": [
        ""
      ],
      "metadata": {
        "id": "vp-NNwW-7RX2"
      },
      "execution_count": null,
      "outputs": []
    }
  ]
}
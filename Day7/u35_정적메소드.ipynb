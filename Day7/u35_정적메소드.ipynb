{
  "nbformat": 4,
  "nbformat_minor": 0,
  "metadata": {
    "colab": {
      "name": "u35_정적메소드.ipynb",
      "provenance": []
    },
    "kernelspec": {
      "name": "python3",
      "display_name": "Python 3"
    },
    "language_info": {
      "name": "python"
    }
  },
  "cells": [
    {
      "cell_type": "markdown",
      "source": [
        "# Unit 35. 정적 메소드"
      ],
      "metadata": {
        "id": "UcHpGXm_aHU5"
      }
    },
    {
      "cell_type": "code",
      "execution_count": 1,
      "metadata": {
        "id": "D57uWCrUZt4M"
      },
      "outputs": [],
      "source": [
        "class Calc:\n",
        "    @staticmethod       # decorator\n",
        "    def add(a, b):\n",
        "        print(a + b)"
      ]
    },
    {
      "cell_type": "code",
      "source": [
        "# 일반적인 메소드 사용 방법\n",
        "calc = Calc()\n",
        "calc.add(3,4)"
      ],
      "metadata": {
        "colab": {
          "base_uri": "https://localhost:8080/"
        },
        "id": "dstso6wTamB5",
        "outputId": "bd08363f-94e9-4d6c-f71f-f97ffa728466"
      },
      "execution_count": 2,
      "outputs": [
        {
          "output_type": "stream",
          "name": "stdout",
          "text": [
            "7\n"
          ]
        }
      ]
    },
    {
      "cell_type": "code",
      "source": [
        "# 정적 메소드 사용 방법, 인스턴스화 시킬 필요가 없음\n",
        "Calc.add(3,4)"
      ],
      "metadata": {
        "colab": {
          "base_uri": "https://localhost:8080/"
        },
        "id": "iJVPpbp2a2wd",
        "outputId": "4505ae52-9ae1-42c6-d8dc-ff7488bf862b"
      },
      "execution_count": 3,
      "outputs": [
        {
          "output_type": "stream",
          "name": "stdout",
          "text": [
            "7\n"
          ]
        }
      ]
    },
    {
      "cell_type": "code",
      "source": [
        ""
      ],
      "metadata": {
        "id": "1_dURFhba7ER"
      },
      "execution_count": null,
      "outputs": []
    }
  ]
}
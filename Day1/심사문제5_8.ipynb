{
  "nbformat": 4,
  "nbformat_minor": 0,
  "metadata": {
    "colab": {
      "name": "심사문제5-8.ipynb",
      "provenance": [],
      "collapsed_sections": []
    },
    "kernelspec": {
      "name": "python3",
      "display_name": "Python 3"
    },
    "language_info": {
      "name": "python"
    }
  },
  "cells": [
    {
      "cell_type": "code",
      "source": [
        "!python --version"
      ],
      "metadata": {
        "colab": {
          "base_uri": "https://localhost:8080/"
        },
        "id": "qQJ9yqEgVR67",
        "outputId": "76cefbb8-3ee0-4590-9786-93054649fcff"
      },
      "execution_count": 2,
      "outputs": [
        {
          "output_type": "stream",
          "name": "stdout",
          "text": [
            "Python 3.7.12\n"
          ]
        }
      ]
    },
    {
      "cell_type": "markdown",
      "source": [
        "### 심사문제 5.6\n",
        "<pre>\n",
        "L이라는 게임에서 \"왜곡\"이라는 스킬이 AP * 0.6 + 225의 피해를 입힙니다. \n",
        "참고로 이 게임에서 AP(Ability Power, 주문력)는 마법 능력치를 뜻합니다. \n",
        "다음 소스 코드를 완성하여 스킬의 피해량이 출력되게 만드세요.\n",
        "</pre>"
      ],
      "metadata": {
        "id": "3Be-9Zr4_Gya"
      }
    },
    {
      "cell_type": "code",
      "source": [
        "AP = 102\n",
        "print(AP * 0.6 + 225)"
      ],
      "metadata": {
        "id": "xfUGvyVchcyA",
        "colab": {
          "base_uri": "https://localhost:8080/"
        },
        "outputId": "c128caa8-349f-4ef4-b03b-5e1ec71525ce"
      },
      "execution_count": 3,
      "outputs": [
        {
          "output_type": "stream",
          "name": "stdout",
          "text": [
            "286.2\n"
          ]
        }
      ]
    },
    {
      "cell_type": "markdown",
      "source": [
        "### 심사문제 6.7\n",
        "<pre>\n",
        "다음 소스 코드를 완성하여 50, 100, None이 각 줄에 출력되게 만드세요.\n",
        "</pre>"
      ],
      "metadata": {
        "id": "cOcosz2PACf4"
      }
    },
    {
      "cell_type": "code",
      "source": [
        "a = 50\n",
        "b = 100\n",
        "c = None"
      ],
      "metadata": {
        "id": "PdMSz25h_75V"
      },
      "execution_count": 4,
      "outputs": []
    },
    {
      "cell_type": "code",
      "source": [
        "print(a)\n",
        "print(b)\n",
        "print(c)"
      ],
      "metadata": {
        "colab": {
          "base_uri": "https://localhost:8080/"
        },
        "id": "vNRvqgOVATVi",
        "outputId": "2b143b3b-6140-4bfd-e6d8-13f4ffbbf4fe"
      },
      "execution_count": 5,
      "outputs": [
        {
          "output_type": "stream",
          "name": "stdout",
          "text": [
            "50\n",
            "100\n",
            "None\n"
          ]
        }
      ]
    },
    {
      "cell_type": "markdown",
      "source": [
        "### 심사문제 6.8\n",
        "<pre>\n",
        "표준 입력으로 국어, 영어, 수학, 과학 점수가 입력됩니다. \n",
        "평균 점수를 출력하는 프로그램을 만드세요(input에서 안내 문자열은 출력하지 않아야 합니다). \n",
        "단, 평균 점수를 출력할 때는 소수점 이하 자리는 버립니다(정수로 출력).\n",
        "</pre>"
      ],
      "metadata": {
        "id": "ju9tNL07AXoU"
      }
    },
    {
      "cell_type": "code",
      "source": [
        "kor, eng, mat, sci = map(int, input().split())\n",
        "print((kor + eng + mat + sci) // 4)"
      ],
      "metadata": {
        "colab": {
          "base_uri": "https://localhost:8080/"
        },
        "id": "h8LN1bb7AWAC",
        "outputId": "75b1fe8f-624e-48cb-d12c-0b5033aa05a8"
      },
      "execution_count": 6,
      "outputs": [
        {
          "output_type": "stream",
          "name": "stdout",
          "text": [
            "90 95 98 84\n",
            "91\n"
          ]
        }
      ]
    },
    {
      "cell_type": "code",
      "source": [
        "score = list(map(int, input('국어, 영어, 수학, 과학 점수를 입력하세요. ').split()))\n",
        "average = sum(score) // len(score)\n",
        "print(average)"
      ],
      "metadata": {
        "colab": {
          "base_uri": "https://localhost:8080/"
        },
        "id": "z3gnvVNqBRUX",
        "outputId": "7b8a231b-7752-469b-ef7b-bd94d3132f84"
      },
      "execution_count": 7,
      "outputs": [
        {
          "output_type": "stream",
          "name": "stdout",
          "text": [
            "국어, 영어, 수학, 과학 점수를 입력하세요. 90 95 98 84\n",
            "91\n"
          ]
        }
      ]
    },
    {
      "cell_type": "markdown",
      "source": [
        "### 심사문제 7.5\n",
        "<pre>\n",
        "표준 입력으로 년, 월, 일, 시, 분, 초가 입력됩니다. \n",
        "다음 소스 코드를 완성하여 입력된 날짜와 시간을 년-월-일T시:분:초 형식으로 출력되게 만드세요.\n",
        "</pre>"
      ],
      "metadata": {
        "id": "7MPEenRFAmHB"
      }
    },
    {
      "cell_type": "code",
      "source": [
        "year, month, day, hour, minute, second = input().split()\n",
        "print(year, month, day, sep='-', end='T')\n",
        "print(hour, minute, second, sep=':')"
      ],
      "metadata": {
        "colab": {
          "base_uri": "https://localhost:8080/"
        },
        "id": "1t09eRMSAnRu",
        "outputId": "8819559d-b801-481a-812a-04e88cbe0023"
      },
      "execution_count": 9,
      "outputs": [
        {
          "output_type": "stream",
          "name": "stdout",
          "text": [
            "2022 3 24 9 38 5\n",
            "2022-3-24T9:38:5\n"
          ]
        }
      ]
    },
    {
      "cell_type": "code",
      "source": [
        "year, month, day, hour, minute, second = map(int, input().split())\n",
        "print(f'{year}-{month:02d}-{day:02d}T{hour:02d}:{minute:02d}:{second:02d}')"
      ],
      "metadata": {
        "colab": {
          "base_uri": "https://localhost:8080/"
        },
        "id": "dWl_3f8pD636",
        "outputId": "cabd8179-1931-4535-85c9-3563f69b4506"
      },
      "execution_count": 10,
      "outputs": [
        {
          "output_type": "stream",
          "name": "stdout",
          "text": [
            "2022 3 24 9 46 0\n",
            "2022-03-24T09:46:00\n"
          ]
        }
      ]
    },
    {
      "cell_type": "code",
      "source": [
        "import datetime\n",
        "now = datetime.datetime.now()\n",
        "print(now)"
      ],
      "metadata": {
        "colab": {
          "base_uri": "https://localhost:8080/"
        },
        "id": "sRObTrrHEoOB",
        "outputId": "9cc7e735-4e9f-4e74-9924-0c6077c52aa2"
      },
      "execution_count": 11,
      "outputs": [
        {
          "output_type": "stream",
          "name": "stdout",
          "text": [
            "2022-03-24 00:51:01.435804\n"
          ]
        }
      ]
    },
    {
      "cell_type": "code",
      "source": [
        "now.year, now.month, now.day, now.hour, now.minute, now.second"
      ],
      "metadata": {
        "colab": {
          "base_uri": "https://localhost:8080/"
        },
        "id": "_73wlrtUadOX",
        "outputId": "3b64bddd-965c-40f9-bc01-f8ff5c38389e"
      },
      "execution_count": 13,
      "outputs": [
        {
          "output_type": "execute_result",
          "data": {
            "text/plain": [
              "(2022, 3, 24, 0, 51, 1)"
            ]
          },
          "metadata": {},
          "execution_count": 13
        }
      ]
    },
    {
      "cell_type": "code",
      "source": [
        "print (\"%04d-%02d-%02dT%02d:%02d:%02d\" % (now.year, now.month, now.day, now.hour, now.minute, now.second))"
      ],
      "metadata": {
        "colab": {
          "base_uri": "https://localhost:8080/"
        },
        "id": "1XYK_fDyGejC",
        "outputId": "3e207fec-e16f-4b91-83d2-141bbe48c942"
      },
      "execution_count": 14,
      "outputs": [
        {
          "output_type": "stream",
          "name": "stdout",
          "text": [
            "2022-03-24T00:51:01\n"
          ]
        }
      ]
    },
    {
      "cell_type": "code",
      "source": [
        "from pytz import timezone\n",
        "now = datetime.datetime.now(timezone('Asia/Seoul'))\n",
        "print(now)"
      ],
      "metadata": {
        "colab": {
          "base_uri": "https://localhost:8080/"
        },
        "id": "mnEXPM3_HPZE",
        "outputId": "7c89da27-c197-4f4e-e339-dcd90f40bfbb"
      },
      "execution_count": 15,
      "outputs": [
        {
          "output_type": "stream",
          "name": "stdout",
          "text": [
            "2022-03-24 09:55:31.319551+09:00\n"
          ]
        }
      ]
    },
    {
      "cell_type": "code",
      "source": [
        "print (\"%04d-%02d-%02dT%02d:%02d:%02d\" % (now.year, now.month, now.day, now.hour, now.minute, now.second))"
      ],
      "metadata": {
        "colab": {
          "base_uri": "https://localhost:8080/"
        },
        "id": "FyKJn6eSbI_E",
        "outputId": "bd85f934-9813-461b-820b-1a7403a33e04"
      },
      "execution_count": 16,
      "outputs": [
        {
          "output_type": "stream",
          "name": "stdout",
          "text": [
            "2022-03-24T09:55:31\n"
          ]
        }
      ]
    },
    {
      "cell_type": "markdown",
      "source": [
        "### 심사문제 8.5\n",
        "<pre>\n",
        "표준 입력으로 국어, 영어, 수학, 과학 점수가 입력됩니다. \n",
        "국어는 90점 이상, 영어는 80점 초과, 수학은 85점 초과, 과학은 80점 이상일 때 합격이라고 정했습니다(한 과목이라도 조건에 만족하지 않으면 불합격). \n",
        "다음 소스 코드를 완성하여 합격이면 True, 불합격이면 False가 출력되게 만드세요(input에서 안내 문자열은 출력하지 않아야 합니다).\n",
        "</pre>"
      ],
      "metadata": {
        "id": "yqM-mqLxAn93"
      }
    },
    {
      "cell_type": "code",
      "source": [
        "kor, eng, mat, sci = map(int, input().split())"
      ],
      "metadata": {
        "colab": {
          "base_uri": "https://localhost:8080/"
        },
        "id": "3TR0lDOYAo-Z",
        "outputId": "c49192fd-491e-4fcc-cc55-2b8b442d2524"
      },
      "execution_count": 20,
      "outputs": [
        {
          "name": "stdout",
          "output_type": "stream",
          "text": [
            "91 81 86 79\n"
          ]
        }
      ]
    },
    {
      "cell_type": "code",
      "source": [
        "result = (kor >= 90) and (eng > 80) and (mat > 85) and (sci >= 80)\n",
        "print(result)"
      ],
      "metadata": {
        "colab": {
          "base_uri": "https://localhost:8080/"
        },
        "id": "P_6_IRIvIEyD",
        "outputId": "9ec4ccb0-a6d0-4e80-d5b7-227e48020f49"
      },
      "execution_count": 21,
      "outputs": [
        {
          "output_type": "stream",
          "name": "stdout",
          "text": [
            "False\n"
          ]
        }
      ]
    },
    {
      "cell_type": "code",
      "source": [
        ""
      ],
      "metadata": {
        "id": "ryqed1hNIeVD"
      },
      "execution_count": null,
      "outputs": []
    }
  ]
}
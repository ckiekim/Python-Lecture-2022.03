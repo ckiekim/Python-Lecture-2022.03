{
  "nbformat": 4,
  "nbformat_minor": 0,
  "metadata": {
    "colab": {
      "name": "u14_조건문_else.ipynb",
      "provenance": [],
      "collapsed_sections": []
    },
    "kernelspec": {
      "name": "python3",
      "display_name": "Python 3"
    },
    "language_info": {
      "name": "python"
    }
  },
  "cells": [
    {
      "cell_type": "markdown",
      "source": [
        "# Unit 14. 조건문 if - else"
      ],
      "metadata": {
        "id": "yjig5_IokvVD"
      }
    },
    {
      "cell_type": "markdown",
      "source": [
        "### 14.1 else"
      ],
      "metadata": {
        "id": "RI8OjLaFlMkN"
      }
    },
    {
      "cell_type": "code",
      "execution_count": 1,
      "metadata": {
        "id": "dhKG8Z3skqNN"
      },
      "outputs": [],
      "source": [
        "import random"
      ]
    },
    {
      "cell_type": "code",
      "source": [
        "x = random.randint(1, 6)\n",
        "if x >= 4:\n",
        "    print('큰 수')\n",
        "else:\n",
        "    print('작은 수')\n",
        "print(x)"
      ],
      "metadata": {
        "colab": {
          "base_uri": "https://localhost:8080/"
        },
        "id": "aOh03X6IlRCW",
        "outputId": "3cc171ba-3f69-4d03-8061-dc30524544dc"
      },
      "execution_count": 7,
      "outputs": [
        {
          "output_type": "stream",
          "name": "stdout",
          "text": [
            "큰 수\n",
            "4\n"
          ]
        }
      ]
    },
    {
      "cell_type": "code",
      "source": [
        "x = random.randint(1, 6)\n",
        "if x % 2 == 0:\n",
        "    print('짝수')\n",
        "else:\n",
        "    print('홀수')\n",
        "print(x)"
      ],
      "metadata": {
        "colab": {
          "base_uri": "https://localhost:8080/"
        },
        "id": "i2ct7loDltwA",
        "outputId": "b0758253-043b-4258-eb81-a608dca8c902"
      },
      "execution_count": 8,
      "outputs": [
        {
          "output_type": "stream",
          "name": "stdout",
          "text": [
            "짝수\n",
            "2\n"
          ]
        }
      ]
    },
    {
      "cell_type": "code",
      "source": [
        "x = random.randint(1, 6)\n",
        "if x % 2 == 0:\n",
        "    result = 'even number'\n",
        "else:\n",
        "    result = 'odd number'\n",
        "print(x, result)"
      ],
      "metadata": {
        "colab": {
          "base_uri": "https://localhost:8080/"
        },
        "id": "LVaQMnAil-Wr",
        "outputId": "d06a580f-4174-4fe6-ddfd-4925fc0054c3"
      },
      "execution_count": 9,
      "outputs": [
        {
          "output_type": "stream",
          "name": "stdout",
          "text": [
            "5 odd number\n"
          ]
        }
      ]
    },
    {
      "cell_type": "markdown",
      "source": [
        "- 조건부 표현식(3항 연산자)"
      ],
      "metadata": {
        "id": "7aP271xrmegY"
      }
    },
    {
      "cell_type": "code",
      "source": [
        "# Java, JS에서는  result = x % 2 == 0 ? \"even\" : \"odd\" ;\n",
        "result = '짝수' if x % 2 == 0 else '홀수'\n",
        "print(x, result)"
      ],
      "metadata": {
        "colab": {
          "base_uri": "https://localhost:8080/"
        },
        "id": "cJXrVRS-mT37",
        "outputId": "c76e491a-b52b-4814-e88a-be109049ec24"
      },
      "execution_count": 10,
      "outputs": [
        {
          "output_type": "stream",
          "name": "stdout",
          "text": [
            "5 odd\n"
          ]
        }
      ]
    },
    {
      "cell_type": "markdown",
      "source": [
        "### 14.2 else와 들여쓰기"
      ],
      "metadata": {
        "id": "MHMQ31shnfZl"
      }
    },
    {
      "cell_type": "code",
      "source": [
        "x = 10\n",
        "if x == 10:\n",
        "    print('10입니다.') \n",
        "else:\n",
        "    print('x에 들어있는 숫자는')\n",
        "print('10이 아닙니다.') "
      ],
      "metadata": {
        "colab": {
          "base_uri": "https://localhost:8080/"
        },
        "id": "kmtEirkTneGE",
        "outputId": "07d3d66e-2651-47e6-f718-2a14d63388e5"
      },
      "execution_count": 13,
      "outputs": [
        {
          "output_type": "stream",
          "name": "stdout",
          "text": [
            "10입니다.\n",
            "10이 아닙니다.\n"
          ]
        }
      ]
    },
    {
      "cell_type": "code",
      "source": [
        "if x == 10:\n",
        "    print('10입니다.') \n",
        "else:\n",
        "    print('x에 들어있는 숫자는')\n",
        "    print('10이 아닙니다.') "
      ],
      "metadata": {
        "colab": {
          "base_uri": "https://localhost:8080/"
        },
        "id": "9tz7CkVxuNr6",
        "outputId": "0ff91d4b-e2bc-4b76-e2aa-328de27ed822"
      },
      "execution_count": 14,
      "outputs": [
        {
          "output_type": "stream",
          "name": "stdout",
          "text": [
            "10입니다.\n"
          ]
        }
      ]
    },
    {
      "cell_type": "markdown",
      "source": [
        "### 14.3 동작 방식"
      ],
      "metadata": {
        "id": "o4Ek2z2xvB-a"
      }
    },
    {
      "cell_type": "code",
      "source": [
        "x = 0.0\n",
        "if x:\n",
        "    print(x)\n",
        "else:\n",
        "    print('0, 0.0, \"\", False, None 입니다.')"
      ],
      "metadata": {
        "colab": {
          "base_uri": "https://localhost:8080/"
        },
        "id": "hUEwVGkluqWR",
        "outputId": "c24029b0-6142-4fde-eb26-187fa4af4f60"
      },
      "execution_count": 19,
      "outputs": [
        {
          "output_type": "stream",
          "name": "stdout",
          "text": [
            "0, 0.0, \"\", False, None 입니다.\n"
          ]
        }
      ]
    },
    {
      "cell_type": "markdown",
      "source": [
        "### 14.4 여러개의 조건식"
      ],
      "metadata": {
        "id": "ATEB_mfMwAOe"
      }
    },
    {
      "cell_type": "code",
      "source": [
        "# 3과 5의  공배수면 FizzBuzz를 출력\n",
        "# 위의 경우가 아니면 숫자값을 출력\n",
        "\n",
        "x = 30\n",
        "if x % 3 == 0 and x % 5 == 0:\n",
        "    print('FizzBuzz')\n",
        "else:\n",
        "    print(x)"
      ],
      "metadata": {
        "colab": {
          "base_uri": "https://localhost:8080/"
        },
        "id": "xFQzO0u7vPb4",
        "outputId": "67ad5736-8f69-446e-c12a-52fd7f182eae"
      },
      "execution_count": 26,
      "outputs": [
        {
          "output_type": "stream",
          "name": "stdout",
          "text": [
            "FizzBuzz\n"
          ]
        }
      ]
    },
    {
      "cell_type": "code",
      "source": [
        "x = 14\n",
        "if x >= 10 and x <= 20:\n",
        "    print('10이상이고 20이하')\n",
        "else:\n",
        "    print(x)"
      ],
      "metadata": {
        "colab": {
          "base_uri": "https://localhost:8080/"
        },
        "id": "M3_c6-G6xULW",
        "outputId": "52758aff-b81d-4143-cd49-cf06b071c7be"
      },
      "execution_count": 28,
      "outputs": [
        {
          "output_type": "stream",
          "name": "stdout",
          "text": [
            "10이상이고 20이하\n"
          ]
        }
      ]
    },
    {
      "cell_type": "code",
      "source": [
        "if 10 <= x <= 20:\n",
        "    print('10이상이고 20이하')\n",
        "else:\n",
        "    print(x)"
      ],
      "metadata": {
        "colab": {
          "base_uri": "https://localhost:8080/"
        },
        "id": "STXQ1m7lxxic",
        "outputId": "ac7915f8-c6d6-456b-acf0-1009bfb72d0d"
      },
      "execution_count": 29,
      "outputs": [
        {
          "output_type": "stream",
          "name": "stdout",
          "text": [
            "10이상이고 20이하\n"
          ]
        }
      ]
    },
    {
      "cell_type": "markdown",
      "source": [
        "### 연습문제\n",
        "<pre>\n",
        "4로 나누어지면 윤년\n",
        "100으로 나누어지면 평년\n",
        "400으로 나누어지면 윤년\n",
        "그외 평년\n",
        "</pre>"
      ],
      "metadata": {
        "id": "MPEjP8xMyCdy"
      }
    },
    {
      "cell_type": "code",
      "source": [
        "# 테스트 케이스: 1900, 1901, 2000, 2004\n",
        "x = 2004\n",
        "if x % 4 == 0:\n",
        "    if x % 100 == 0:\n",
        "        if x % 400 == 0:\n",
        "            print(x, '윤년')\n",
        "        else:\n",
        "            print(x, '평년')\n",
        "    else:\n",
        "        print(x, '윤년')\n",
        "else:\n",
        "    print(x, '평년')"
      ],
      "metadata": {
        "colab": {
          "base_uri": "https://localhost:8080/"
        },
        "id": "oUCl7BrMx5uW",
        "outputId": "c6e2df91-788a-47e8-9d35-ae425866834e"
      },
      "execution_count": 33,
      "outputs": [
        {
          "output_type": "stream",
          "name": "stdout",
          "text": [
            "2004 윤년\n"
          ]
        }
      ]
    },
    {
      "cell_type": "code",
      "source": [
        "# Code Refactoring\n",
        "x = 2004\n",
        "if x % 4 == 0:\n",
        "    if x % 100 == 0 and x % 400 != 0:\n",
        "        print(x, '평년')\n",
        "    else:\n",
        "        print(x, '윤년')\n",
        "else:\n",
        "    print(x, '평년')"
      ],
      "metadata": {
        "colab": {
          "base_uri": "https://localhost:8080/"
        },
        "id": "12wwo2eC1r-f",
        "outputId": "2e66fca0-ec77-45e5-8ace-6cd94fe81911"
      },
      "execution_count": 37,
      "outputs": [
        {
          "output_type": "stream",
          "name": "stdout",
          "text": [
            "2004 윤년\n"
          ]
        }
      ]
    },
    {
      "cell_type": "code",
      "source": [
        "x = 2004\n",
        "if x % 4 == 0 and not (x % 100 == 0 and x % 400 != 0):\n",
        "    print(x, '윤년')\n",
        "else:\n",
        "    print(x, '평년')"
      ],
      "metadata": {
        "colab": {
          "base_uri": "https://localhost:8080/"
        },
        "id": "xtrukW7X4eMn",
        "outputId": "c9356c6a-a55e-4463-f482-d5a60fed43fa"
      },
      "execution_count": 41,
      "outputs": [
        {
          "output_type": "stream",
          "name": "stdout",
          "text": [
            "2004 윤년\n"
          ]
        }
      ]
    },
    {
      "cell_type": "code",
      "source": [
        "# not (A and B)  ==> not A or not B\n",
        "x = 1901\n",
        "if x % 4 == 0 and (x % 100 != 0 or x % 400 == 0):\n",
        "    print(x, '윤년')\n",
        "else:\n",
        "    print(x, '평년')"
      ],
      "metadata": {
        "colab": {
          "base_uri": "https://localhost:8080/"
        },
        "id": "uz7YfhPS5RkO",
        "outputId": "62e7b535-4b4a-4e36-e238-9e41ebc75b49"
      },
      "execution_count": 45,
      "outputs": [
        {
          "output_type": "stream",
          "name": "stdout",
          "text": [
            "1901 평년\n"
          ]
        }
      ]
    },
    {
      "cell_type": "code",
      "source": [
        ""
      ],
      "metadata": {
        "id": "jpzTIdWs5mSK"
      },
      "execution_count": null,
      "outputs": []
    }
  ]
}
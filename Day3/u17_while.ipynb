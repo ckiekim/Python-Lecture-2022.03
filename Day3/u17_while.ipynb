{
  "nbformat": 4,
  "nbformat_minor": 0,
  "metadata": {
    "colab": {
      "name": "u17_while.ipynb",
      "provenance": [],
      "collapsed_sections": []
    },
    "kernelspec": {
      "name": "python3",
      "display_name": "Python 3"
    },
    "language_info": {
      "name": "python"
    }
  },
  "cells": [
    {
      "cell_type": "markdown",
      "source": [
        "# Unit 17. while 반복문"
      ],
      "metadata": {
        "id": "XMOWTcxFbWMH"
      }
    },
    {
      "cell_type": "markdown",
      "source": [
        "### 17.1 while 반복문"
      ],
      "metadata": {
        "id": "PhakK1I4evgC"
      }
    },
    {
      "cell_type": "code",
      "execution_count": 1,
      "metadata": {
        "colab": {
          "base_uri": "https://localhost:8080/"
        },
        "id": "i8R08akHbOrn",
        "outputId": "033d8d9d-d387-46d0-9773-9e5388c8d2b8"
      },
      "outputs": [
        {
          "output_type": "stream",
          "name": "stdout",
          "text": [
            "Hello World 0\n",
            "Hello World 1\n",
            "Hello World 2\n",
            "Hello World 3\n",
            "Hello World 4\n"
          ]
        }
      ],
      "source": [
        "i = 0\n",
        "while i < 5:\n",
        "    print('Hello World', i)\n",
        "    i += 1"
      ]
    },
    {
      "cell_type": "markdown",
      "source": [
        "### 17.2 반복횟수가 정해져 있지 않은 경우"
      ],
      "metadata": {
        "id": "pgOq0TeFffIx"
      }
    },
    {
      "cell_type": "code",
      "source": [
        "import random"
      ],
      "metadata": {
        "id": "SFfPAmcifGQU"
      },
      "execution_count": 2,
      "outputs": []
    },
    {
      "cell_type": "code",
      "source": [
        "dice = 0\n",
        "while dice != 3:\n",
        "    dice = random.randint(1, 6)\n",
        "    print(dice, end=' ')"
      ],
      "metadata": {
        "colab": {
          "base_uri": "https://localhost:8080/"
        },
        "id": "3Qu0ZulIfqs4",
        "outputId": "95ae2fc8-1913-47c2-8766-85edebbe1244"
      },
      "execution_count": 6,
      "outputs": [
        {
          "output_type": "stream",
          "name": "stdout",
          "text": [
            "4 5 2 1 5 5 4 1 6 3 "
          ]
        }
      ]
    },
    {
      "cell_type": "code",
      "source": [
        "while True:                     # 무한 루프\n",
        "    dice = random.randint(1, 6)\n",
        "    print(dice, end=' ')\n",
        "    if dice == 3:\n",
        "        break"
      ],
      "metadata": {
        "colab": {
          "base_uri": "https://localhost:8080/"
        },
        "id": "Jf-ycp6wf6VW",
        "outputId": "4f9ae312-ebc9-4fce-963f-588dbb93fb8d"
      },
      "execution_count": 7,
      "outputs": [
        {
          "output_type": "stream",
          "name": "stdout",
          "text": [
            "6 1 6 3 "
          ]
        }
      ]
    },
    {
      "cell_type": "code",
      "source": [
        ""
      ],
      "metadata": {
        "id": "TChNzNgIgkts"
      },
      "execution_count": null,
      "outputs": []
    }
  ]
}
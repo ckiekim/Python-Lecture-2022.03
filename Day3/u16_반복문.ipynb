{
  "nbformat": 4,
  "nbformat_minor": 0,
  "metadata": {
    "colab": {
      "name": "u16_반복문.ipynb",
      "provenance": [],
      "collapsed_sections": []
    },
    "kernelspec": {
      "name": "python3",
      "display_name": "Python 3"
    },
    "language_info": {
      "name": "python"
    }
  },
  "cells": [
    {
      "cell_type": "markdown",
      "source": [
        "# Unit 16. 반복문"
      ],
      "metadata": {
        "id": "aE3-1yH-HcAB"
      }
    },
    {
      "cell_type": "markdown",
      "source": [
        "### 16.1 for, range"
      ],
      "metadata": {
        "id": "K8rkEKZEHgG2"
      }
    },
    {
      "cell_type": "code",
      "execution_count": 1,
      "metadata": {
        "colab": {
          "base_uri": "https://localhost:8080/"
        },
        "id": "MFqBIO_2HJNU",
        "outputId": "896bdb16-937c-4f57-919b-e12fd4636fc9"
      },
      "outputs": [
        {
          "output_type": "stream",
          "name": "stdout",
          "text": [
            "Hello World!\n",
            "Hello World!\n",
            "Hello World!\n"
          ]
        }
      ],
      "source": [
        "for i in range(3):\n",
        "    print('Hello World!')"
      ]
    },
    {
      "cell_type": "code",
      "source": [
        "for i in range(3):\n",
        "    print('안녕하세요.', i)"
      ],
      "metadata": {
        "colab": {
          "base_uri": "https://localhost:8080/"
        },
        "id": "dwn23CDeHzVh",
        "outputId": "94f8306d-03ed-4416-e84e-a11526cadbd1"
      },
      "execution_count": 2,
      "outputs": [
        {
          "output_type": "stream",
          "name": "stdout",
          "text": [
            "안녕하세요. 0\n",
            "안녕하세요. 1\n",
            "안녕하세요. 2\n"
          ]
        }
      ]
    },
    {
      "cell_type": "markdown",
      "source": [
        "### 16.2 for, range 응용"
      ],
      "metadata": {
        "id": "Vr0Cc8qxLu9o"
      }
    },
    {
      "cell_type": "code",
      "source": [
        "for i in range(5, 12):\n",
        "    print(i, end=' ')"
      ],
      "metadata": {
        "colab": {
          "base_uri": "https://localhost:8080/"
        },
        "id": "Kn94oRchIIs4",
        "outputId": "19a62a48-d8ab-4aea-88f8-360bf3f59e44"
      },
      "execution_count": 3,
      "outputs": [
        {
          "output_type": "stream",
          "name": "stdout",
          "text": [
            "5 6 7 8 9 10 11 "
          ]
        }
      ]
    },
    {
      "cell_type": "code",
      "source": [
        "for i in range(10, 0, -1):\n",
        "    print(i, end=' ')"
      ],
      "metadata": {
        "colab": {
          "base_uri": "https://localhost:8080/"
        },
        "id": "UzDoAbFTKa-x",
        "outputId": "a3c25ca4-1bc3-4098-8642-a64532ad57b4"
      },
      "execution_count": 4,
      "outputs": [
        {
          "output_type": "stream",
          "name": "stdout",
          "text": [
            "10 9 8 7 6 5 4 3 2 1 "
          ]
        }
      ]
    },
    {
      "cell_type": "code",
      "source": [
        "# Loop안에서 index 값이 필요하지 않으면 i 대신 _ 를 쓸 수 있다.\n",
        "for _ in range(3):\n",
        "    print('Hello')"
      ],
      "metadata": {
        "colab": {
          "base_uri": "https://localhost:8080/"
        },
        "id": "0BOT4K6sKjXm",
        "outputId": "f57a21ed-0f4f-4856-f2ef-af6ea3f3e595"
      },
      "execution_count": 5,
      "outputs": [
        {
          "output_type": "stream",
          "name": "stdout",
          "text": [
            "Hello\n",
            "Hello\n",
            "Hello\n"
          ]
        }
      ]
    },
    {
      "cell_type": "code",
      "source": [
        "# for-loop에서는 loop 안에서 index 값을 변경시키지 말 것\n",
        "for i in range(10):\n",
        "    print(i, end=' ')\n",
        "    i += 5              # 금기 사항"
      ],
      "metadata": {
        "colab": {
          "base_uri": "https://localhost:8080/"
        },
        "id": "rZhsLyhTK3Ih",
        "outputId": "6d0f0a86-655c-4439-da36-01589ed472ce"
      },
      "execution_count": 7,
      "outputs": [
        {
          "output_type": "stream",
          "name": "stdout",
          "text": [
            "0 1 2 3 4 5 6 7 8 9 "
          ]
        }
      ]
    },
    {
      "cell_type": "code",
      "source": [
        "count = int(input())\n",
        "for i in range(count):      # count가 0이면 반복하지 않는다\n",
        "    print(i, end=' ')"
      ],
      "metadata": {
        "colab": {
          "base_uri": "https://localhost:8080/"
        },
        "id": "iOu9E0NWMJha",
        "outputId": "1eeac249-80ea-423e-9a0e-b92a285c2fd2"
      },
      "execution_count": 10,
      "outputs": [
        {
          "name": "stdout",
          "output_type": "stream",
          "text": [
            "0\n"
          ]
        }
      ]
    },
    {
      "cell_type": "markdown",
      "source": [
        "### 16.3 시퀀스 객체로 반복"
      ],
      "metadata": {
        "id": "PHuJ1tW0NWQg"
      }
    },
    {
      "cell_type": "code",
      "source": [
        "a = [10,20,30,40,50]\n",
        "for element in a:\n",
        "    print(element, end=' ')"
      ],
      "metadata": {
        "colab": {
          "base_uri": "https://localhost:8080/"
        },
        "id": "hICh1VuzM-Os",
        "outputId": "0140183a-7e3f-4914-ae79-4a7bcd36b1cd"
      },
      "execution_count": 14,
      "outputs": [
        {
          "output_type": "stream",
          "name": "stdout",
          "text": [
            "10 20 30 40 50 "
          ]
        }
      ]
    },
    {
      "cell_type": "code",
      "source": [
        "fruits = ('사과','배','감','귤')\n",
        "for fruit in fruits:\n",
        "    print(fruit)"
      ],
      "metadata": {
        "colab": {
          "base_uri": "https://localhost:8080/"
        },
        "id": "UFFPjjuwNjJQ",
        "outputId": "156fdecd-2c69-4299-dfcf-228a65fbc107"
      },
      "execution_count": 15,
      "outputs": [
        {
          "output_type": "stream",
          "name": "stdout",
          "text": [
            "사과\n",
            "배\n",
            "감\n",
            "귤\n"
          ]
        }
      ]
    },
    {
      "cell_type": "code",
      "source": [
        "for letter in 'python':\n",
        "    print(letter, end=' ')"
      ],
      "metadata": {
        "colab": {
          "base_uri": "https://localhost:8080/"
        },
        "id": "mjqYxsJYN2cp",
        "outputId": "872972e1-1c90-4a19-8a07-e6f10e7997a7"
      },
      "execution_count": 16,
      "outputs": [
        {
          "output_type": "stream",
          "name": "stdout",
          "text": [
            "p y t h o n "
          ]
        }
      ]
    },
    {
      "cell_type": "code",
      "source": [
        "for letter in reversed('python'):\n",
        "    print(letter, end=' ')"
      ],
      "metadata": {
        "colab": {
          "base_uri": "https://localhost:8080/"
        },
        "id": "xk3s8-5_ONXv",
        "outputId": "4e06ccab-4eee-4f25-a60c-50a97e279497"
      },
      "execution_count": 17,
      "outputs": [
        {
          "output_type": "stream",
          "name": "stdout",
          "text": [
            "n o h t y p "
          ]
        }
      ]
    },
    {
      "cell_type": "code",
      "source": [
        "for letter in 'python'[::-1]:\n",
        "    print(letter, end=' ')"
      ],
      "metadata": {
        "colab": {
          "base_uri": "https://localhost:8080/"
        },
        "id": "LYAIgR1cOb_L",
        "outputId": "091de60e-5283-44cf-d3aa-5564d752cb82"
      },
      "execution_count": 18,
      "outputs": [
        {
          "output_type": "stream",
          "name": "stdout",
          "text": [
            "n o h t y p "
          ]
        }
      ]
    },
    {
      "cell_type": "markdown",
      "source": [
        "- 반복문 응용"
      ],
      "metadata": {
        "id": "E-tJQ02QOtZR"
      }
    },
    {
      "cell_type": "code",
      "source": [
        "# 1에서 100까지 합\n",
        "sum100 = 0\n",
        "for i in range(1,101):\n",
        "    sum100 += i\n",
        "print(sum100)"
      ],
      "metadata": {
        "colab": {
          "base_uri": "https://localhost:8080/"
        },
        "id": "G-QTnkKbOkHR",
        "outputId": "f382aa21-c0f6-4a15-8304-06c70b622945"
      },
      "execution_count": 20,
      "outputs": [
        {
          "output_type": "stream",
          "name": "stdout",
          "text": [
            "5050\n"
          ]
        }
      ]
    },
    {
      "cell_type": "code",
      "source": [
        "# 1에서 10까지 sqrt 값을 갖는 리스트를 만드세요.\n",
        "import math\n",
        "sqrt_list = []\n",
        "for i in range(1,11):\n",
        "    sqrt_list.append(round(math.sqrt(i), 4))\n",
        "print(sqrt_list)"
      ],
      "metadata": {
        "colab": {
          "base_uri": "https://localhost:8080/"
        },
        "id": "umIti0QvO7bv",
        "outputId": "24529763-ceea-4fad-9bcc-89e768c22ec1"
      },
      "execution_count": 27,
      "outputs": [
        {
          "output_type": "stream",
          "name": "stdout",
          "text": [
            "[1.0, 1.4142, 1.7321, 2.0, 2.2361, 2.4495, 2.6458, 2.8284, 3.0, 3.1623]\n"
          ]
        }
      ]
    },
    {
      "cell_type": "code",
      "source": [
        ""
      ],
      "metadata": {
        "id": "lhpdX_PAPkjY"
      },
      "execution_count": null,
      "outputs": []
    }
  ]
}
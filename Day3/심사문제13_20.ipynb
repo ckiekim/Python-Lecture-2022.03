{
  "cells": [
    {
      "cell_type": "markdown",
      "source": [
        "### 심사문제 13.7\n",
        "<pre>\n",
        "표준 입력으로 가격(정수)과 쿠폰 이름이 각 줄에 입력됩니다.\n",
        "Cash3000 쿠폰은 3,000원, Cash5000 쿠폰은 5,000원을 할인합니다. \n",
        "쿠폰에 따라 할인된 가격을 출력하는 프로그램을 만드세요.\n",
        "</pre>"
      ],
      "metadata": {
        "id": "vUtLdwWDAFDc"
      }
    },
    {
      "cell_type": "code",
      "source": [
        "price = int(input())\n",
        "coupon = input()\n",
        "if coupon == 'Cash3000':\n",
        "    price -= 3000\n",
        "if coupon == 'Cash5000':\n",
        "    price -= 5000\n",
        "print(price)"
      ],
      "metadata": {
        "id": "aSo0dtb2BU9a"
      },
      "execution_count": null,
      "outputs": []
    },
    {
      "cell_type": "markdown",
      "source": [
        "### 심사문제 14.7\n",
        "<pre>\n",
        "표준 입력으로 국어, 영어, 수학, 과학 점수가 입력됩니다. \n",
        "여기서 네 과목의 평균 점수가 80점 이상일 때 합격이라고 정했습니다.\n",
        "평균 점수에 따라 '합격', '불합격'을 출력하는 프로그램을 만드세요. \n",
        "단, 점수는 0점부터 100점까지만 입력받을 수 있으며 범위를 벗어났다면 '잘못된 점수'를 출력하고 \n",
        "합격, 불합격 여부는 출력하지 않아야 합니다.\n",
        "</pre>"
      ],
      "metadata": {
        "id": "NDEx-O9WAt4X"
      }
    },
    {
      "cell_type": "code",
      "source": [
        "kor, eng, mat, sci = map(int, input().split())\n",
        "if 0<=kor<=100 and 0<=eng<=100 and 0<=mat<=100 and 0<=sci<=100:\n",
        "    avg = (kor + eng + mat + sci) / 4\n",
        "    if avg >= 80:\n",
        "        print('합격')\n",
        "    else:\n",
        "        print('불합격')\n",
        "else:\n",
        "    print('잘못된 점수')"
      ],
      "metadata": {
        "id": "LS4yfV2BCY0c"
      },
      "execution_count": null,
      "outputs": []
    },
    {
      "cell_type": "code",
      "source": [
        "score = list(map(int, input('국어, 영어, 수학, 과학 점수').split()))\n",
        "if min(score) < 0 or max(score) > 100:\n",
        "    print('잘못된 점수')\n",
        "else:\n",
        "    if sum(score) / len(score) >= 80:\n",
        "        print('합격')\n",
        "    else:\n",
        "        print('불합격')"
      ],
      "metadata": {
        "id": "BgsLlIpsD98P"
      },
      "execution_count": null,
      "outputs": []
    },
    {
      "cell_type": "markdown",
      "metadata": {
        "id": "nuUVZoEXACGJ"
      },
      "source": [
        "### 심사문제 15.4\n",
        "<pre>\n",
        "표준 입력으로 나이(만 나이)가 입력됩니다(입력 값은 7 이상 입력됨).\n",
        "교통카드 시스템에서 시내버스 요금은 다음과 같으며 각 나이에 맞게 요금을 차감한 뒤 \n",
        "잔액이 출력되게 만드세요(if, elif 사용).\n",
        "현재 교통카드에는 9,000원이 들어있습니다.\n",
        "<pre>\n",
        "- 어린이(초등학생, 만 7세 이상 12세 이하): 650원\n",
        "- 청소년(중∙고등학생, 만 13세 이상 18세 이하): 1,050원\n",
        "- 어른(일반, 만 19세 이상): 1,250원"
      ]
    },
    {
      "cell_type": "code",
      "execution_count": null,
      "metadata": {
        "id": "WeLMxeBTACGO"
      },
      "outputs": [],
      "source": [
        "age = int(input('나이 입력'))\n",
        "balance = 9000\n",
        "\n",
        "if 7 <= age <= 12:\n",
        "    fare = 650\n",
        "elif 13 <= age <= 18:\n",
        "    fare = 1050\n",
        "elif age >= 19:\n",
        "    fare = 1250\n",
        "else:\n",
        "    fare = 0\n",
        "\n",
        "print(f'{age}살의 요금은 {fare:,d}원이고, 잔액은 {balance-fare:,d}원입니다.')"
      ]
    },
    {
      "cell_type": "markdown",
      "metadata": {
        "id": "8fdqSBQ3ACGQ"
      },
      "source": [
        "### 심사문제 16.6\n",
        "<pre>\n",
        "표준 입력으로 정수가 입력됩니다. 입력된 정수의 구구단을 출력하는 프로그램을 만드세요.\n",
        "출력 형식은 숫자 * 숫자 = 숫자처럼 만들고 숫자와 *, = 사이는 공백을 한 칸 띄웁니다.\n",
        "<pre>"
      ]
    },
    {
      "cell_type": "code",
      "execution_count": null,
      "metadata": {
        "id": "CiV-asO1ACGR"
      },
      "outputs": [],
      "source": [
        "n = int(input())\n",
        "for i in range(1, 10):\n",
        "    print(f'{n} * {i} = {n*i}')"
      ]
    },
    {
      "cell_type": "markdown",
      "metadata": {
        "id": "aI5xopc4ACGS"
      },
      "source": [
        "### 심사문제 17.6\n",
        "<pre>\n",
        "표준 입력으로 금액(정수)이 입력됩니다. 1회당 요금은 1,350원이고, \n",
        "교통카드를 사용했을 때마다의 잔액을 각 줄에 출력하는 프로그램을 만드세요.\n",
        "단, 최초 금액은 출력하지 않아야 합니다. \n",
        "그리고 잔액은 음수가 될 수 없으며 잔액이 부족하면 출력을 끝냅니다.\n",
        "</pre>"
      ]
    },
    {
      "cell_type": "code",
      "execution_count": null,
      "metadata": {
        "id": "ls3oS-KfACGS"
      },
      "outputs": [],
      "source": [
        "balance = int(input())\n",
        "fare = 1350\n",
        "\n",
        "while balance >= fare:\n",
        "    balance -= fare\n",
        "    print(balance)"
      ]
    },
    {
      "cell_type": "markdown",
      "metadata": {
        "id": "peVWuAz8ACGT"
      },
      "source": [
        "### 심사문제 18.6\n",
        "<pre>\n",
        "표준 입력으로 정수 두 개가 입력됩니다(첫 번째 입력 값의 범위는 1~200,\n",
        "두 번째 입력 값의 범위는 10~200이며 첫 번째 입력 값은 두 번째 입력 값보다 항상 작습니다).\n",
        "다음 소스 코드를 완성하여 첫 번째 정수와 두 번째 정수 사이의 숫자 중 3으로 끝나지 않는 숫자가 출력되게 만드세요.\n",
        "정답에 코드를 작성할 때는 while True:에 맞춰서 들여쓰기를 해주세요.\n",
        "</pre>"
      ]
    },
    {
      "cell_type": "code",
      "execution_count": null,
      "metadata": {
        "id": "Z9UJTA9aACGU"
      },
      "outputs": [],
      "source": [
        "start, stop = map(int, input().split())\n",
        "i = start\n",
        "while True:\n",
        "    if i > stop:\n",
        "        break\n",
        "    if i % 10 == 3:\n",
        "        i += 1\n",
        "        continue\n",
        "    print(i, end=' ')\n",
        "    i += 1"
      ]
    },
    {
      "cell_type": "markdown",
      "metadata": {
        "id": "AbqBsT0rACGU"
      },
      "source": [
        "### 심사문제 19.6\n",
        "<pre>\n",
        "표준 입력으로 삼각형의 높이가 입력됩니다. \n",
        "입력된 높이만큼 산 모양으로 별을 출력하는 프로그램을 만드세요. \n",
        "이때 출력 결과는 예제와 정확히 일치해야 합니다. \n",
        "모양이 같더라도 공백이나 빈 줄이 더 들어가면 틀린 것으로 처리됩니다.\n",
        "</pre>"
      ]
    },
    {
      "cell_type": "code",
      "execution_count": null,
      "metadata": {
        "id": "22CCPeotACGV"
      },
      "outputs": [],
      "source": [
        "n = int(input())\n",
        "\n",
        "for i in range(n):\n",
        "    for k in range(n-i-1):\n",
        "        print(' ', end='')\n",
        "    for k in range(2*i+1):\n",
        "        print('*', end='')\n",
        "    print()"
      ]
    },
    {
      "cell_type": "code",
      "execution_count": null,
      "metadata": {
        "id": "uzcQ2xOpACGV"
      },
      "outputs": [],
      "source": [
        "n = int(input())\n",
        "\n",
        "for i in range(n):\n",
        "    print(' '*(n-i-1) + '*'*(2*i+1))"
      ]
    },
    {
      "cell_type": "markdown",
      "source": [
        "### 심사문제 20.8\n",
        "<pre>\n",
        "표준 입력으로 정수 두 개가 입력됩니다(첫 번째 입력 값의 범위는 1~1000, \n",
        "두 번째 입력 값의 범위는 10~1000이며 첫 번째 입력 값은 두 번째 입력 값보다 항상 작습니다). \n",
        "첫 번째 정수부터 두 번째 정수까지 숫자를 출력하면서 5의 배수일 때는 'Fizz', 7의 배수일 때는 'Buzz', \n",
        "5와 7의 공배수일 때는 'FizzBuzz'를 출력하는 프로그램을 만드세요.\n",
        "</pre>"
      ],
      "metadata": {
        "id": "LhqNvWSAJWgx"
      }
    },
    {
      "cell_type": "code",
      "execution_count": null,
      "metadata": {
        "id": "eXXUZpSWACGW"
      },
      "outputs": [],
      "source": [
        "m, n = map(int, input().split())\n",
        "if 1 <= m <= 1000 and 10 <= n <= 1000 and m < n:\n",
        "    for i in range(m, n+1):\n",
        "        print('Fizz'*(i%5==0)+'Buzz'*(i%7==0) or i, end=' ')"
      ]
    },
    {
      "cell_type": "code",
      "source": [
        ""
      ],
      "metadata": {
        "id": "Nmjgb4LsKZje"
      },
      "execution_count": null,
      "outputs": []
    }
  ],
  "metadata": {
    "interpreter": {
      "hash": "b25c465b1c18d956483426a8691b47b486d8d9b6837da05c7a56549aad74826f"
    },
    "kernelspec": {
      "display_name": "Python 3.8.8 64-bit ('base': conda)",
      "language": "python",
      "name": "python3"
    },
    "language_info": {
      "codemirror_mode": {
        "name": "ipython",
        "version": 3
      },
      "file_extension": ".py",
      "mimetype": "text/x-python",
      "name": "python",
      "nbconvert_exporter": "python",
      "pygments_lexer": "ipython3",
      "version": "3.8.8"
    },
    "orig_nbformat": 4,
    "colab": {
      "name": "심사문제13_20.ipynb",
      "provenance": [],
      "collapsed_sections": []
    }
  },
  "nbformat": 4,
  "nbformat_minor": 0
}
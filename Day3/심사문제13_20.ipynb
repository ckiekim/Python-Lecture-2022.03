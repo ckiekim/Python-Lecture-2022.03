{
  "cells": [
    {
      "cell_type": "markdown",
      "metadata": {
        "id": "vUtLdwWDAFDc"
      },
      "source": [
        "### 심사문제 13.7\n",
        "<pre>\n",
        "표준 입력으로 가격(정수)과 쿠폰 이름이 각 줄에 입력됩니다.\n",
        "Cash3000 쿠폰은 3,000원, Cash5000 쿠폰은 5,000원을 할인합니다. \n",
        "쿠폰에 따라 할인된 가격을 출력하는 프로그램을 만드세요.\n",
        "</pre>"
      ]
    },
    {
      "cell_type": "code",
      "execution_count": 3,
      "metadata": {
        "id": "aSo0dtb2BU9a"
      },
      "outputs": [
        {
          "name": "stdout",
          "output_type": "stream",
          "text": [
            "67000\n"
          ]
        }
      ],
      "source": [
        "price = int(input())\n",
        "coupon = input()\n",
        "if coupon == 'Cash3000':\n",
        "    price -= 3000\n",
        "if coupon == 'Cash5000':\n",
        "    price -= 5000\n",
        "print(price)"
      ]
    },
    {
      "cell_type": "markdown",
      "metadata": {
        "id": "NDEx-O9WAt4X"
      },
      "source": [
        "### 심사문제 14.7\n",
        "<pre>\n",
        "표준 입력으로 국어, 영어, 수학, 과학 점수가 입력됩니다. \n",
        "여기서 네 과목의 평균 점수가 80점 이상일 때 합격이라고 정했습니다.\n",
        "평균 점수에 따라 '합격', '불합격'을 출력하는 프로그램을 만드세요. \n",
        "단, 점수는 0점부터 100점까지만 입력받을 수 있으며 범위를 벗어났다면 '잘못된 점수'를 출력하고 \n",
        "합격, 불합격 여부는 출력하지 않아야 합니다.\n",
        "</pre>"
      ]
    },
    {
      "cell_type": "code",
      "execution_count": 6,
      "metadata": {
        "id": "LS4yfV2BCY0c"
      },
      "outputs": [
        {
          "name": "stdout",
          "output_type": "stream",
          "text": [
            "합격\n"
          ]
        }
      ],
      "source": [
        "kor, eng, mat, sci = map(int, input().split())\n",
        "if 0<=kor<=100 and 0<=eng<=100 and 0<=mat<=100 and 0<=sci<=100:\n",
        "    avg = (kor + eng + mat + sci) / 4\n",
        "    if avg >= 80:\n",
        "        print('합격')\n",
        "    else:\n",
        "        print('불합격')\n",
        "else:\n",
        "    print('잘못된 점수')"
      ]
    },
    {
      "cell_type": "code",
      "execution_count": 8,
      "metadata": {
        "id": "BgsLlIpsD98P"
      },
      "outputs": [
        {
          "name": "stdout",
          "output_type": "stream",
          "text": [
            "합격\n"
          ]
        }
      ],
      "source": [
        "score = list(map(int, input('국어, 영어, 수학, 과학 점수').split()))\n",
        "if min(score) < 0 or max(score) > 100:\n",
        "    print('잘못된 점수')\n",
        "else:\n",
        "    if sum(score) / len(score) >= 80:\n",
        "        print('합격')\n",
        "    else:\n",
        "        print('불합격')"
      ]
    },
    {
      "cell_type": "code",
      "execution_count": 9,
      "metadata": {},
      "outputs": [],
      "source": [
        "def is_valid(score):\n",
        "    return 0 <= score <= 100"
      ]
    },
    {
      "cell_type": "code",
      "execution_count": 10,
      "metadata": {},
      "outputs": [
        {
          "name": "stdout",
          "output_type": "stream",
          "text": [
            "잘못된 점수\n"
          ]
        }
      ],
      "source": [
        "kor, eng, mat, sci = map(int, input().split())\n",
        "if is_valid(kor) and is_valid(eng) and is_valid(mat) and is_valid(sci):\n",
        "    avg = (kor + eng + mat + sci) / 4\n",
        "    if avg >= 80:\n",
        "        print('합격')\n",
        "    else:\n",
        "        print('불합격')\n",
        "else:\n",
        "    print('잘못된 점수')"
      ]
    },
    {
      "cell_type": "markdown",
      "metadata": {
        "id": "nuUVZoEXACGJ"
      },
      "source": [
        "### 심사문제 15.4\n",
        "<pre>\n",
        "표준 입력으로 나이(만 나이)가 입력됩니다(입력 값은 7 이상 입력됨).\n",
        "교통카드 시스템에서 시내버스 요금은 다음과 같으며 각 나이에 맞게 요금을 차감한 뒤 \n",
        "잔액이 출력되게 만드세요(if, elif 사용).\n",
        "현재 교통카드에는 9,000원이 들어있습니다.\n",
        "<pre>\n",
        "- 어린이(초등학생, 만 7세 이상 12세 이하): 650원\n",
        "- 청소년(중∙고등학생, 만 13세 이상 18세 이하): 1,050원\n",
        "- 어른(일반, 만 19세 이상): 1,250원"
      ]
    },
    {
      "cell_type": "code",
      "execution_count": 12,
      "metadata": {
        "id": "WeLMxeBTACGO"
      },
      "outputs": [
        {
          "name": "stdout",
          "output_type": "stream",
          "text": [
            "30살의 요금은 1,250원이고, 잔액은 7,750원입니다.\n"
          ]
        }
      ],
      "source": [
        "age = int(input('나이 입력'))\n",
        "balance = 9000\n",
        "\n",
        "if 7 <= age <= 12:\n",
        "    fare = 650\n",
        "elif 13 <= age <= 18:\n",
        "    fare = 1050\n",
        "elif age >= 19:\n",
        "    fare = 1250\n",
        "else:\n",
        "    fare = 0\n",
        "\n",
        "print(f'{age}살의 요금은 {fare:,d}원이고, 잔액은 {balance-fare:,d}원입니다.')"
      ]
    },
    {
      "cell_type": "markdown",
      "metadata": {
        "id": "8fdqSBQ3ACGQ"
      },
      "source": [
        "### 심사문제 16.6\n",
        "<pre>\n",
        "표준 입력으로 정수가 입력됩니다. 입력된 정수의 구구단을 출력하는 프로그램을 만드세요.\n",
        "출력 형식은 숫자 * 숫자 = 숫자처럼 만들고 숫자와 *, = 사이는 공백을 한 칸 띄웁니다.\n",
        "<pre>"
      ]
    },
    {
      "cell_type": "code",
      "execution_count": 13,
      "metadata": {
        "id": "CiV-asO1ACGR"
      },
      "outputs": [
        {
          "name": "stdout",
          "output_type": "stream",
          "text": [
            "6 * 1 = 6\n",
            "6 * 2 = 12\n",
            "6 * 3 = 18\n",
            "6 * 4 = 24\n",
            "6 * 5 = 30\n",
            "6 * 6 = 36\n",
            "6 * 7 = 42\n",
            "6 * 8 = 48\n",
            "6 * 9 = 54\n"
          ]
        }
      ],
      "source": [
        "n = int(input())\n",
        "for i in range(1, 10):\n",
        "    print(f'{n} * {i} = {n*i}')"
      ]
    },
    {
      "cell_type": "markdown",
      "metadata": {
        "id": "aI5xopc4ACGS"
      },
      "source": [
        "### 심사문제 17.6\n",
        "<pre>\n",
        "표준 입력으로 금액(정수)이 입력됩니다. 1회당 요금은 1,350원이고, \n",
        "교통카드를 사용했을 때마다의 잔액을 각 줄에 출력하는 프로그램을 만드세요.\n",
        "단, 최초 금액은 출력하지 않아야 합니다. \n",
        "그리고 잔액은 음수가 될 수 없으며 잔액이 부족하면 출력을 끝냅니다.\n",
        "</pre>"
      ]
    },
    {
      "cell_type": "code",
      "execution_count": 14,
      "metadata": {
        "id": "ls3oS-KfACGS"
      },
      "outputs": [
        {
          "name": "stdout",
          "output_type": "stream",
          "text": [
            "8650\n",
            "7300\n",
            "5950\n",
            "4600\n",
            "3250\n",
            "1900\n",
            "550\n"
          ]
        }
      ],
      "source": [
        "balance = int(input())\n",
        "fare = 1350\n",
        "\n",
        "while balance >= fare:\n",
        "    balance -= fare\n",
        "    print(balance)"
      ]
    },
    {
      "cell_type": "markdown",
      "metadata": {
        "id": "peVWuAz8ACGT"
      },
      "source": [
        "### 심사문제 18.6\n",
        "<pre>\n",
        "표준 입력으로 정수 두 개가 입력됩니다(첫 번째 입력 값의 범위는 1~200,\n",
        "두 번째 입력 값의 범위는 10~200이며 첫 번째 입력 값은 두 번째 입력 값보다 항상 작습니다).\n",
        "다음 소스 코드를 완성하여 첫 번째 정수와 두 번째 정수 사이의 숫자 중 3으로 끝나지 않는 숫자가 출력되게 만드세요.\n",
        "정답에 코드를 작성할 때는 while True:에 맞춰서 들여쓰기를 해주세요.\n",
        "</pre>"
      ]
    },
    {
      "cell_type": "code",
      "execution_count": 15,
      "metadata": {
        "id": "Z9UJTA9aACGU"
      },
      "outputs": [
        {
          "name": "stdout",
          "output_type": "stream",
          "text": [
            "8 9 10 11 12 14 15 16 17 18 19 20 21 22 24 25 "
          ]
        }
      ],
      "source": [
        "start, stop = map(int, input().split())\n",
        "i = start\n",
        "while True:\n",
        "    if i > stop:\n",
        "        break\n",
        "    if i % 10 == 3:\n",
        "        i += 1\n",
        "        continue\n",
        "    print(i, end=' ')\n",
        "    i += 1"
      ]
    },
    {
      "cell_type": "markdown",
      "metadata": {
        "id": "AbqBsT0rACGU"
      },
      "source": [
        "### 심사문제 19.6\n",
        "<pre>\n",
        "표준 입력으로 삼각형의 높이가 입력됩니다. \n",
        "입력된 높이만큼 산 모양으로 별을 출력하는 프로그램을 만드세요. \n",
        "이때 출력 결과는 예제와 정확히 일치해야 합니다. \n",
        "모양이 같더라도 공백이나 빈 줄이 더 들어가면 틀린 것으로 처리됩니다.\n",
        "</pre>"
      ]
    },
    {
      "cell_type": "code",
      "execution_count": 16,
      "metadata": {
        "id": "22CCPeotACGV"
      },
      "outputs": [
        {
          "name": "stdout",
          "output_type": "stream",
          "text": [
            "    *\n",
            "   ***\n",
            "  *****\n",
            " *******\n",
            "*********\n"
          ]
        }
      ],
      "source": [
        "n = int(input())\n",
        "\n",
        "for i in range(n):\n",
        "    for k in range(n-i-1):\n",
        "        print(' ', end='')\n",
        "    for k in range(2*i+1):\n",
        "        print('*', end='')\n",
        "    print()"
      ]
    },
    {
      "cell_type": "code",
      "execution_count": null,
      "metadata": {
        "id": "uzcQ2xOpACGV"
      },
      "outputs": [],
      "source": [
        "n = int(input())\n",
        "\n",
        "for i in range(n):\n",
        "    print(' '*(n-i-1) + '*'*(2*i+1))"
      ]
    },
    {
      "cell_type": "markdown",
      "metadata": {
        "id": "LhqNvWSAJWgx"
      },
      "source": [
        "### 심사문제 20.8\n",
        "<pre>\n",
        "표준 입력으로 정수 두 개가 입력됩니다(첫 번째 입력 값의 범위는 1~1000, \n",
        "두 번째 입력 값의 범위는 10~1000이며 첫 번째 입력 값은 두 번째 입력 값보다 항상 작습니다). \n",
        "첫 번째 정수부터 두 번째 정수까지 숫자를 출력하면서 5의 배수일 때는 'Fizz', 7의 배수일 때는 'Buzz', \n",
        "5와 7의 공배수일 때는 'FizzBuzz'를 출력하는 프로그램을 만드세요.\n",
        "</pre>"
      ]
    },
    {
      "cell_type": "code",
      "execution_count": 18,
      "metadata": {
        "id": "eXXUZpSWACGW"
      },
      "outputs": [
        {
          "name": "stdout",
          "output_type": "stream",
          "text": [
            "12 13 Buzz Fizz 16 17 18 19 Fizz Buzz 22 23 24 Fizz 26 27 Buzz 29 Fizz 31 32 33 34 FizzBuzz 36 37 38 39 Fizz 41 Buzz 43 44 Fizz 46 47 48 Buzz Fizz "
          ]
        }
      ],
      "source": [
        "m, n = map(int, input().split())\n",
        "if 1 <= m <= 1000 and 10 <= n <= 1000 and m < n:\n",
        "    for i in range(m, n+1):\n",
        "        print('Fizz'*(i%5==0)+'Buzz'*(i%7==0) or i, end=' ')"
      ]
    },
    {
      "cell_type": "markdown",
      "metadata": {},
      "source": [
        "### 연습문제\n",
        "<pre>\n",
        "자기자신을 제외한 약수의 합이 자신이 되는 수를 완전수(perfect number)라 한다.\n",
        "예를 들어, 6의 자신을 제외한 약수의 합 1 + 2 + 3 = 6 이므로 완전수이다.\n",
        "1에서 10000까지는 4개의 완전수가 있다. 이를 찾아보세요.\n",
        "</pre>"
      ]
    },
    {
      "cell_type": "code",
      "execution_count": 20,
      "metadata": {
        "id": "Nmjgb4LsKZje"
      },
      "outputs": [
        {
          "name": "stdout",
          "output_type": "stream",
          "text": [
            "1 2 3 4 5 6 10 12 15 20 30 60 "
          ]
        }
      ],
      "source": [
        "# 약수를 구하는 방법\n",
        "n = int(input())\n",
        "for i in range(1, n+1):\n",
        "    if n % i == 0:\n",
        "        print(i, end=' ')"
      ]
    },
    {
      "cell_type": "code",
      "execution_count": 21,
      "metadata": {},
      "outputs": [
        {
          "name": "stdout",
          "output_type": "stream",
          "text": [
            "6\n",
            "28\n",
            "496\n",
            "8128\n"
          ]
        }
      ],
      "source": [
        "for i in range(2, 10001):\n",
        "    # 약수(divisor)의 합\n",
        "    div_sum = 0\n",
        "    for k in range(1, i):\n",
        "        if i % k == 0:\n",
        "            div_sum += k\n",
        "    # 완전수(perfect number 인가?)\n",
        "    if i == div_sum:\n",
        "        print(i)"
      ]
    },
    {
      "cell_type": "code",
      "execution_count": null,
      "metadata": {},
      "outputs": [],
      "source": []
    }
  ],
  "metadata": {
    "colab": {
      "collapsed_sections": [],
      "name": "심사문제13_20.ipynb",
      "provenance": []
    },
    "interpreter": {
      "hash": "b25c465b1c18d956483426a8691b47b486d8d9b6837da05c7a56549aad74826f"
    },
    "kernelspec": {
      "display_name": "Python 3.8.8 64-bit ('base': conda)",
      "language": "python",
      "name": "python3"
    },
    "language_info": {
      "codemirror_mode": {
        "name": "ipython",
        "version": 3
      },
      "file_extension": ".py",
      "mimetype": "text/x-python",
      "name": "python",
      "nbconvert_exporter": "python",
      "pygments_lexer": "ipython3",
      "version": "3.9.7"
    },
    "orig_nbformat": 4
  },
  "nbformat": 4,
  "nbformat_minor": 0
}

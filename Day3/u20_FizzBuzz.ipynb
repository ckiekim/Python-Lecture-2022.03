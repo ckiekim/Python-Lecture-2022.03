{
  "nbformat": 4,
  "nbformat_minor": 0,
  "metadata": {
    "colab": {
      "name": "u20FizzBuzz.ipynb",
      "provenance": [],
      "collapsed_sections": []
    },
    "kernelspec": {
      "name": "python3",
      "display_name": "Python 3"
    },
    "language_info": {
      "name": "python"
    }
  },
  "cells": [
    {
      "cell_type": "markdown",
      "source": [
        "# Unit 20. FizzBuzz"
      ],
      "metadata": {
        "id": "CgOEkZHQxcVR"
      }
    },
    {
      "cell_type": "code",
      "execution_count": 1,
      "metadata": {
        "colab": {
          "base_uri": "https://localhost:8080/"
        },
        "id": "AXvcSX8UxXMP",
        "outputId": "3e7d7c7d-423a-408c-bf1f-8a4f6e56aec9"
      },
      "outputs": [
        {
          "output_type": "stream",
          "name": "stdout",
          "text": [
            "1 2 Fizz 4 Buzz Fizz 7 8 Fizz Buzz 11 Fizz 13 14 FizzBuzz 16 17 Fizz 19 Buzz Fizz 22 23 Fizz Buzz 26 Fizz 28 29 FizzBuzz 31 32 Fizz 34 Buzz Fizz 37 38 Fizz Buzz 41 Fizz 43 44 FizzBuzz 46 47 Fizz 49 Buzz Fizz 52 53 Fizz Buzz 56 Fizz 58 59 FizzBuzz 61 62 Fizz 64 Buzz Fizz 67 68 Fizz Buzz 71 Fizz 73 74 FizzBuzz 76 77 Fizz 79 Buzz Fizz 82 83 Fizz Buzz 86 Fizz 88 89 FizzBuzz 91 92 Fizz 94 Buzz Fizz 97 98 Fizz Buzz "
          ]
        }
      ],
      "source": [
        "for i in range(1, 101):\n",
        "    if i % 15 == 0:\n",
        "        print('FizzBuzz', end=' ')\n",
        "    elif i % 3 == 0:\n",
        "        print('Fizz', end=' ')\n",
        "    elif i % 5 == 0:\n",
        "        print('Buzz', end=' ')\n",
        "    else:\n",
        "        print(i, end=' ')"
      ]
    },
    {
      "cell_type": "code",
      "source": [
        "for i in range(1, 101):\n",
        "    print('Fizz'*(i%3==0) + 'Buzz'*(i%5==0) or i, end=' ')"
      ],
      "metadata": {
        "colab": {
          "base_uri": "https://localhost:8080/"
        },
        "id": "7qWNNUGky_Bm",
        "outputId": "c1f32a58-90de-41ed-e2f1-c554de16c30a"
      },
      "execution_count": 2,
      "outputs": [
        {
          "output_type": "stream",
          "name": "stdout",
          "text": [
            "1 2 Fizz 4 Buzz Fizz 7 8 Fizz Buzz 11 Fizz 13 14 FizzBuzz 16 17 Fizz 19 Buzz Fizz 22 23 Fizz Buzz 26 Fizz 28 29 FizzBuzz 31 32 Fizz 34 Buzz Fizz 37 38 Fizz Buzz 41 Fizz 43 44 FizzBuzz 46 47 Fizz 49 Buzz Fizz 52 53 Fizz Buzz 56 Fizz 58 59 FizzBuzz 61 62 Fizz 64 Buzz Fizz 67 68 Fizz Buzz 71 Fizz 73 74 FizzBuzz 76 77 Fizz 79 Buzz Fizz 82 83 Fizz Buzz 86 Fizz 88 89 FizzBuzz 91 92 Fizz 94 Buzz Fizz 97 98 Fizz Buzz "
          ]
        }
      ]
    },
    {
      "cell_type": "markdown",
      "source": [
        "### 연습문제\n",
        "<pre>\n",
        "세자리수 두개를 곱해서 만든 수가 대칭수(palindrome)일 때\n",
        "가장 큰 대칭수와 그 경우 두 수를 구하시오.\n",
        "</pre>"
      ],
      "metadata": {
        "id": "aJNuSexk0g-r"
      }
    },
    {
      "cell_type": "code",
      "source": [
        "# 세자리수 두개를 곱해서 만든 수\n",
        "for i in range(100,1000):\n",
        "    for k in range(i,1000):\n",
        "        mul = i * k"
      ],
      "metadata": {
        "id": "X8l4TWga0PRG"
      },
      "execution_count": null,
      "outputs": []
    },
    {
      "cell_type": "code",
      "source": [
        "# 대칭수인지를 판단해주는 함수\n",
        "def is_palindrome(n):\n",
        "    s = str(n)\n",
        "    return s == s[::-1]"
      ],
      "metadata": {
        "id": "Lxa0mFEe1RPr"
      },
      "execution_count": 3,
      "outputs": []
    },
    {
      "cell_type": "code",
      "source": [
        "is_palindrome(12321)"
      ],
      "metadata": {
        "colab": {
          "base_uri": "https://localhost:8080/"
        },
        "id": "cSpqnTvX1dun",
        "outputId": "1f586e5b-f235-4d61-b04e-f890d5bde125"
      },
      "execution_count": 5,
      "outputs": [
        {
          "output_type": "execute_result",
          "data": {
            "text/plain": [
              "True"
            ]
          },
          "metadata": {},
          "execution_count": 5
        }
      ]
    },
    {
      "cell_type": "code",
      "source": [
        "# num_list중 최대값은?\n",
        "num_list = [34, 25, 4, 9, 19, 83, 62]\n",
        "max_num = 0\n",
        "for num in num_list:\n",
        "    if num > max_num:\n",
        "        max_num = num\n",
        "print(max_num)"
      ],
      "metadata": {
        "colab": {
          "base_uri": "https://localhost:8080/"
        },
        "id": "_QcUsiJj1hqP",
        "outputId": "65ec9d5d-0f42-4ba7-b58c-4bb874e7d1d3"
      },
      "execution_count": 6,
      "outputs": [
        {
          "output_type": "stream",
          "name": "stdout",
          "text": [
            "83\n"
          ]
        }
      ]
    },
    {
      "cell_type": "code",
      "source": [
        "# num_list중 최소값은?\n",
        "min_num = 100\n",
        "for num in num_list:\n",
        "    if num < min_num:\n",
        "        min_num = num\n",
        "print(min_num)"
      ],
      "metadata": {
        "colab": {
          "base_uri": "https://localhost:8080/"
        },
        "id": "PKpcdRdf7Jc9",
        "outputId": "8f2b4c3b-848e-43b0-e782-f84e741fbd67"
      },
      "execution_count": 7,
      "outputs": [
        {
          "output_type": "stream",
          "name": "stdout",
          "text": [
            "4\n"
          ]
        }
      ]
    },
    {
      "cell_type": "code",
      "source": [
        "max_num = 0\n",
        "for i in range(100, 1000):\n",
        "    for k in range(i, 1000):\n",
        "        mul = i * k\n",
        "        if is_palindrome(mul):\n",
        "            if mul > max_num:\n",
        "                max_num = mul\n",
        "                num1, num2 = i, k\n",
        "\n",
        "print(num1, num2, max_num)"
      ],
      "metadata": {
        "colab": {
          "base_uri": "https://localhost:8080/"
        },
        "id": "eNqXH7kd7ceS",
        "outputId": "155719b0-b83f-427e-f37e-5c7565cf60c2"
      },
      "execution_count": 8,
      "outputs": [
        {
          "output_type": "stream",
          "name": "stdout",
          "text": [
            "913 993 906609\n"
          ]
        }
      ]
    },
    {
      "cell_type": "code",
      "source": [
        ""
      ],
      "metadata": {
        "id": "tP0krYh48sau"
      },
      "execution_count": null,
      "outputs": []
    }
  ]
}
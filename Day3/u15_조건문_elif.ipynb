{
  "nbformat": 4,
  "nbformat_minor": 0,
  "metadata": {
    "colab": {
      "name": "u15_조건문_elif.ipynb",
      "provenance": []
    },
    "kernelspec": {
      "name": "python3",
      "display_name": "Python 3"
    },
    "language_info": {
      "name": "python"
    }
  },
  "cells": [
    {
      "cell_type": "markdown",
      "source": [
        "# Unit 15. 조건문 elif"
      ],
      "metadata": {
        "id": "a_9fzwO26otq"
      }
    },
    {
      "cell_type": "code",
      "source": [
        "import random"
      ],
      "metadata": {
        "id": "9nZLIldp8pkt"
      },
      "execution_count": 1,
      "outputs": []
    },
    {
      "cell_type": "code",
      "execution_count": 15,
      "metadata": {
        "colab": {
          "base_uri": "https://localhost:8080/"
        },
        "id": "71-iB2KE6lAV",
        "outputId": "e8b687b8-4daf-4dda-a160-524dd2efc57f"
      },
      "outputs": [
        {
          "output_type": "stream",
          "name": "stdout",
          "text": [
            "90 A\n"
          ]
        }
      ],
      "source": [
        "# 90점 이상 A, 80점 이상 B, 70점 이상 C, 60점 이상 D, 나머지 F\n",
        "score = random.randint(40, 100)\n",
        "if score >= 90:\n",
        "    grade = 'A'\n",
        "elif score >= 80:\n",
        "    grade = 'B'\n",
        "elif score >= 70:\n",
        "    grade = 'C'\n",
        "elif score >= 60:\n",
        "    grade = 'D'\n",
        "else:\n",
        "    grade = 'F'\n",
        "print(score, grade)"
      ]
    },
    {
      "cell_type": "code",
      "source": [
        "score = random.randint(40, 100)\n",
        "grade = 'A' if score >= 90 else \\\n",
        "            'B' if score >=80 else \\\n",
        "                'C' if score >= 70 else \\\n",
        "                    'D' if score >= 60 else 'F'\n",
        "print(score, grade)"
      ],
      "metadata": {
        "colab": {
          "base_uri": "https://localhost:8080/"
        },
        "id": "EYoYRiqF9G2Y",
        "outputId": "7c9c6b80-2f49-4a66-cf20-02ced36a0934"
      },
      "execution_count": 16,
      "outputs": [
        {
          "output_type": "stream",
          "name": "stdout",
          "text": [
            "88 B\n"
          ]
        }
      ]
    },
    {
      "cell_type": "markdown",
      "source": [
        "### 연습문제\n",
        "<pre>\n",
        "생일을 입력으로 받아 오늘 현재의 만 나이를 계산하세요.\n",
        "</pre>"
      ],
      "metadata": {
        "id": "zhs0WmJ4-eZE"
      }
    },
    {
      "cell_type": "code",
      "source": [
        "import datetime as dt\n",
        "today = dt.date.today()\n",
        "today.year, today.month, today.day"
      ],
      "metadata": {
        "colab": {
          "base_uri": "https://localhost:8080/"
        },
        "id": "9Bf58rFK98RW",
        "outputId": "bb8b918d-37f3-4449-cea1-da4ea6882595"
      },
      "execution_count": 19,
      "outputs": [
        {
          "output_type": "execute_result",
          "data": {
            "text/plain": [
              "(2022, 3, 25)"
            ]
          },
          "metadata": {},
          "execution_count": 19
        }
      ]
    },
    {
      "cell_type": "code",
      "source": [
        "birth_year, birth_month, birth_day = map(int, input('생년월일 ').split())"
      ],
      "metadata": {
        "colab": {
          "base_uri": "https://localhost:8080/"
        },
        "id": "jiJz56X_-0T1",
        "outputId": "5bb1353b-46e3-42c3-cf44-fe8d03957820"
      },
      "execution_count": 30,
      "outputs": [
        {
          "name": "stdout",
          "output_type": "stream",
          "text": [
            "생년월일 1991 3 25\n"
          ]
        }
      ]
    },
    {
      "cell_type": "code",
      "source": [
        "if today.month < birth_month:           # 생월이 아직 안왔으면\n",
        "    age = today.year - birth_year - 1\n",
        "elif today.month > birth_month:         # 생월이 지났으면\n",
        "    age = today.year - birth_year\n",
        "else:                                   # 생월이 같으면\n",
        "    if today.day < birth_day:              # 생일이 아직 안왔으면\n",
        "        age = today.year - birth_year - 1\n",
        "    else:                                   # 생일이 같거나 지났으면\n",
        "        age = today.year - birth_year\n",
        "print(birth_year, birth_month, birth_day, age)"
      ],
      "metadata": {
        "colab": {
          "base_uri": "https://localhost:8080/"
        },
        "id": "-q-v_llbAGqT",
        "outputId": "90595ec4-3c98-4ecc-f809-4f533d2dd545"
      },
      "execution_count": 31,
      "outputs": [
        {
          "output_type": "stream",
          "name": "stdout",
          "text": [
            "1991 3 25 31\n"
          ]
        }
      ]
    },
    {
      "cell_type": "code",
      "source": [
        ""
      ],
      "metadata": {
        "id": "63LDcmabDC4U"
      },
      "execution_count": null,
      "outputs": []
    }
  ]
}
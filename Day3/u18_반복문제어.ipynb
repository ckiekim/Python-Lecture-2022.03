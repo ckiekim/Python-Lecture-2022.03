{
  "nbformat": 4,
  "nbformat_minor": 0,
  "metadata": {
    "colab": {
      "name": "u18_반복문제어.ipynb",
      "provenance": [],
      "collapsed_sections": []
    },
    "kernelspec": {
      "name": "python3",
      "display_name": "Python 3"
    },
    "language_info": {
      "name": "python"
    }
  },
  "cells": [
    {
      "cell_type": "markdown",
      "source": [
        "# Unit 18. 반복문 제어\n",
        "### 18.1 break"
      ],
      "metadata": {
        "id": "2eQv_tpAhHLJ"
      }
    },
    {
      "cell_type": "code",
      "execution_count": 2,
      "metadata": {
        "colab": {
          "base_uri": "https://localhost:8080/"
        },
        "id": "2J5TOSXBhCTq",
        "outputId": "7f96d422-8866-4116-9d08-52624ec81ebf"
      },
      "outputs": [
        {
          "output_type": "stream",
          "name": "stdout",
          "text": [
            "(6, 6)  "
          ]
        }
      ],
      "source": [
        "# 주사위를 두번 굴려서 눈의 합이 8 이상이면 탈출\n",
        "import random\n",
        "\n",
        "while True:\n",
        "    dice1 = random.randint(1,6)\n",
        "    dice2 = random.randint(1,6)\n",
        "    print(f'({dice1}, {dice2})', end='  ')\n",
        "    if dice1 + dice2 >= 8:\n",
        "        break"
      ]
    },
    {
      "cell_type": "code",
      "source": [
        "# for - break\n",
        "# 1에서 몇까지 더하면 누적합이 300을 초과하는가?\n",
        "cum_sum = 0\n",
        "for i in range(100):\n",
        "    cum_sum += i\n",
        "    if cum_sum > 300:\n",
        "        print(i, cum_sum)\n",
        "        break"
      ],
      "metadata": {
        "colab": {
          "base_uri": "https://localhost:8080/"
        },
        "id": "F8hjztFdh4ez",
        "outputId": "5bd7062a-dd09-473b-fc45-49ad976d5dd3"
      },
      "execution_count": 3,
      "outputs": [
        {
          "output_type": "stream",
          "name": "stdout",
          "text": [
            "25 325\n"
          ]
        }
      ]
    },
    {
      "cell_type": "code",
      "source": [
        "# 중첩 반복문에서는 루프 1개만 탈출\n",
        "for i in range(100):\n",
        "    for k in range(i+1):\n",
        "        break"
      ],
      "metadata": {
        "id": "KUnD9kFuisPK"
      },
      "execution_count": 4,
      "outputs": []
    },
    {
      "cell_type": "markdown",
      "source": [
        "### 18.2 continue"
      ],
      "metadata": {
        "id": "E8ItphMRjUWX"
      }
    },
    {
      "cell_type": "code",
      "source": [
        "# 홀수만 출력\n",
        "for i in range(10):\n",
        "    if i % 2 == 0:\n",
        "        continue\n",
        "    print(i, end=' ')"
      ],
      "metadata": {
        "colab": {
          "base_uri": "https://localhost:8080/"
        },
        "id": "VxPuW1hFjOic",
        "outputId": "a99b20dc-6352-4f22-856d-376f669b0fcf"
      },
      "execution_count": 5,
      "outputs": [
        {
          "output_type": "stream",
          "name": "stdout",
          "text": [
            "1 3 5 7 9 "
          ]
        }
      ]
    },
    {
      "cell_type": "code",
      "source": [
        "i = 0\n",
        "while i < 10:\n",
        "    i += 1\n",
        "    if i % 2 == 0:\n",
        "        continue\n",
        "    print(i, end=' ')"
      ],
      "metadata": {
        "colab": {
          "base_uri": "https://localhost:8080/"
        },
        "id": "7Szuv6hUkBvO",
        "outputId": "bca77095-14d6-4e67-d02b-2eb722a8e240"
      },
      "execution_count": 7,
      "outputs": [
        {
          "output_type": "stream",
          "name": "stdout",
          "text": [
            "1 3 5 7 9 "
          ]
        }
      ]
    },
    {
      "cell_type": "code",
      "source": [
        ""
      ],
      "metadata": {
        "id": "gFMiGMhMkcTg"
      },
      "execution_count": null,
      "outputs": []
    }
  ]
}
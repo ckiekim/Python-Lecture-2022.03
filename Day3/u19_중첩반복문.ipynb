{
  "nbformat": 4,
  "nbformat_minor": 0,
  "metadata": {
    "colab": {
      "name": "u19_중첩반복문.ipynb",
      "provenance": [],
      "collapsed_sections": []
    },
    "kernelspec": {
      "name": "python3",
      "display_name": "Python 3"
    },
    "language_info": {
      "name": "python"
    }
  },
  "cells": [
    {
      "cell_type": "markdown",
      "source": [
        "# Unit 19. 중첩(Nested) 반복문"
      ],
      "metadata": {
        "id": "vgiMzwWKk-ve"
      }
    },
    {
      "cell_type": "markdown",
      "source": [
        "### 19.1 중첩 Loop"
      ],
      "metadata": {
        "id": "GlkKvFeKlG8M"
      }
    },
    {
      "cell_type": "code",
      "source": [
        "for i in range(1,6):\n",
        "    print('*' * i)"
      ],
      "metadata": {
        "colab": {
          "base_uri": "https://localhost:8080/"
        },
        "id": "PC08__UymLlH",
        "outputId": "ba11df34-eec4-48bb-e461-4c1ec936e1ed"
      },
      "execution_count": 2,
      "outputs": [
        {
          "output_type": "stream",
          "name": "stdout",
          "text": [
            "*\n",
            "**\n",
            "***\n",
            "****\n",
            "*****\n"
          ]
        }
      ]
    },
    {
      "cell_type": "code",
      "execution_count": 1,
      "metadata": {
        "colab": {
          "base_uri": "https://localhost:8080/"
        },
        "id": "xpJhwbGxk6_q",
        "outputId": "2c1a1ccb-2d91-4cd4-dd98-0360dbe39d12"
      },
      "outputs": [
        {
          "output_type": "stream",
          "name": "stdout",
          "text": [
            "*\n",
            "**\n",
            "***\n",
            "****\n",
            "*****\n"
          ]
        }
      ],
      "source": [
        "for i in range(1,6):\n",
        "    for k in range(i):\n",
        "        print('*', end='')\n",
        "    print()"
      ]
    },
    {
      "cell_type": "markdown",
      "source": [
        "### 19.2 사각형으로 별 출력"
      ],
      "metadata": {
        "id": "y_6_qZagnsFa"
      }
    },
    {
      "cell_type": "code",
      "source": [
        "width, height = 5, 3\n",
        "for i in range(height):\n",
        "    for k in range(width):\n",
        "        print('*', end='')\n",
        "    print()        "
      ],
      "metadata": {
        "colab": {
          "base_uri": "https://localhost:8080/"
        },
        "id": "FxftHCbmmit_",
        "outputId": "a65b2423-658d-4477-ed88-606b45d2900d"
      },
      "execution_count": 4,
      "outputs": [
        {
          "output_type": "stream",
          "name": "stdout",
          "text": [
            "*****\n",
            "*****\n",
            "*****\n"
          ]
        }
      ]
    },
    {
      "cell_type": "markdown",
      "source": [
        "### 19.3 계단식 별모양"
      ],
      "metadata": {
        "id": "JWaklpU7qsr6"
      }
    },
    {
      "cell_type": "code",
      "source": [
        "for i in range(5):\n",
        "    for k in range(4-i):\n",
        "        print(' ', end='')\n",
        "    for k in range(i+1):\n",
        "        print('*', end='')\n",
        "    print()"
      ],
      "metadata": {
        "colab": {
          "base_uri": "https://localhost:8080/"
        },
        "id": "kIlZEoe7oB_j",
        "outputId": "a61eac6e-2068-4643-91ef-fa9575862037"
      },
      "execution_count": 5,
      "outputs": [
        {
          "output_type": "stream",
          "name": "stdout",
          "text": [
            "    *\n",
            "   **\n",
            "  ***\n",
            " ****\n",
            "*****\n"
          ]
        }
      ]
    },
    {
      "cell_type": "code",
      "source": [
        "# Diamond 그리기\n",
        "# 가운데 행의 별의 갯수가 7인 경우\n",
        "for i in range(4):\n",
        "    for k in range(3-i):\n",
        "        print(' ', end='')\n",
        "    for k in range(2*i+1):\n",
        "        print('*', end='')\n",
        "    print()\n",
        "for i in range(2, -1, -1):\n",
        "    for k in range(3-i):\n",
        "        print(' ', end='')\n",
        "    for k in range(2*i+1):\n",
        "        print('*', end='')\n",
        "    print()"
      ],
      "metadata": {
        "colab": {
          "base_uri": "https://localhost:8080/"
        },
        "id": "aUBoAdGYs5Tz",
        "outputId": "b320904b-0a56-42b6-b2ff-1345bef062de"
      },
      "execution_count": 7,
      "outputs": [
        {
          "output_type": "stream",
          "name": "stdout",
          "text": [
            "   *\n",
            "  ***\n",
            " *****\n",
            "*******\n",
            " *****\n",
            "  ***\n",
            "   *\n"
          ]
        }
      ]
    },
    {
      "cell_type": "code",
      "source": [
        "# 가운데 행의 별의 갯수를 입력으로 받아 다이아몬드 그리기\n",
        "N = int(input())\n",
        "n = N // 2 + 1\n",
        "for i in range(n):\n",
        "    for k in range(n-1-i):\n",
        "        print(' ', end='')\n",
        "    for k in range(2*i+1):\n",
        "        print('*', end='')\n",
        "    print()\n",
        "for i in range(n-2, -1, -1):\n",
        "    for k in range(n-1-i):\n",
        "        print(' ', end='')\n",
        "    for k in range(2*i+1):\n",
        "        print('*', end='')\n",
        "    print()"
      ],
      "metadata": {
        "colab": {
          "base_uri": "https://localhost:8080/"
        },
        "id": "YdgI7QEEvNyz",
        "outputId": "292b8ecc-55d9-43e6-d03c-40db9d36be8f"
      },
      "execution_count": 9,
      "outputs": [
        {
          "output_type": "stream",
          "name": "stdout",
          "text": [
            "11\n",
            "     *\n",
            "    ***\n",
            "   *****\n",
            "  *******\n",
            " *********\n",
            "***********\n",
            " *********\n",
            "  *******\n",
            "   *****\n",
            "    ***\n",
            "     *\n"
          ]
        }
      ]
    },
    {
      "cell_type": "code",
      "source": [
        ""
      ],
      "metadata": {
        "id": "lziK2P_gwAPh"
      },
      "execution_count": null,
      "outputs": []
    }
  ]
}
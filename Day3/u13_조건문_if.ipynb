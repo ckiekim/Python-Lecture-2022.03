{
  "nbformat": 4,
  "nbformat_minor": 0,
  "metadata": {
    "colab": {
      "name": "u13_조건문_if.ipynb",
      "provenance": []
    },
    "kernelspec": {
      "name": "python3",
      "display_name": "Python 3"
    },
    "language_info": {
      "name": "python"
    }
  },
  "cells": [
    {
      "cell_type": "markdown",
      "source": [
        "# Unit 13. if 조건문"
      ],
      "metadata": {
        "id": "qoluA4wxe_HE"
      }
    },
    {
      "cell_type": "markdown",
      "source": [
        "### 13.1 if 조건문"
      ],
      "metadata": {
        "id": "Q7bTaHsFfnS9"
      }
    },
    {
      "cell_type": "code",
      "source": [
        "import random"
      ],
      "metadata": {
        "id": "YpibztJn6VU2"
      },
      "execution_count": 1,
      "outputs": []
    },
    {
      "cell_type": "code",
      "source": [
        "x = random.randint(9, 11)\n",
        "if x == 10:\n",
        "    print('10입니다.')"
      ],
      "metadata": {
        "colab": {
          "base_uri": "https://localhost:8080/"
        },
        "id": "_4lgs4fvf6uH",
        "outputId": "1fdcd0d6-a40c-4646-8719-6438dbf1b758"
      },
      "execution_count": 6,
      "outputs": [
        {
          "output_type": "stream",
          "name": "stdout",
          "text": [
            "10입니다.\n"
          ]
        }
      ]
    },
    {
      "cell_type": "code",
      "source": [
        "if x == 10:\n",
        "    pass        # Todo: x가 10일때 처리할 코드\n",
        "print(x)"
      ],
      "metadata": {
        "colab": {
          "base_uri": "https://localhost:8080/"
        },
        "id": "poXMgdPzgHsr",
        "outputId": "16726908-e8c9-46f2-8e61-2deb1513f572"
      },
      "execution_count": 7,
      "outputs": [
        {
          "output_type": "stream",
          "name": "stdout",
          "text": [
            "10\n"
          ]
        }
      ]
    },
    {
      "cell_type": "code",
      "source": [
        "if x:\n",
        "    print(x)"
      ],
      "metadata": {
        "colab": {
          "base_uri": "https://localhost:8080/"
        },
        "id": "f8hdKtOYgvE2",
        "outputId": "1bc63d55-dfc8-433b-ddb1-b9dcc04feea1"
      },
      "execution_count": 8,
      "outputs": [
        {
          "output_type": "stream",
          "name": "stdout",
          "text": [
            "10\n"
          ]
        }
      ]
    },
    {
      "cell_type": "markdown",
      "source": [
        "### 13.2 if 조건문과 들여쓰기"
      ],
      "metadata": {
        "id": "cY1m9D8SifFO"
      }
    },
    {
      "cell_type": "code",
      "source": [
        "if x == 10:\n",
        "    print(x, '입니다.')\n",
        "    print('들여쓰기한 이 부분은 조건이 참일 경우에 실행됩니다.')\n",
        "print('들여쓰기가 끝나면 조건에 관계없이 실행됩니다.')"
      ],
      "metadata": {
        "colab": {
          "base_uri": "https://localhost:8080/"
        },
        "id": "3nUAc-XQhcsl",
        "outputId": "19b5c459-a755-4a21-99f7-6c6ce8047989"
      },
      "execution_count": 12,
      "outputs": [
        {
          "output_type": "stream",
          "name": "stdout",
          "text": [
            "10 입니다.\n",
            "들여쓰기한 이 부분은 조건이 참일 경우에 실행됩니다.\n",
            "들여쓰기가 끝나면 조건에 관계없이 실행됩니다.\n"
          ]
        }
      ]
    },
    {
      "cell_type": "markdown",
      "source": [
        "### 13.3 중첩(Nested) 조건문"
      ],
      "metadata": {
        "id": "7CZPDEV9hVAv"
      }
    },
    {
      "cell_type": "code",
      "source": [
        "x = random.randint(1,20)\n",
        "if x >= 10:\n",
        "    print('10 이상입니다.')\n",
        "    if x >= 15:\n",
        "        print('15 이상입니다.')\n",
        "print(x)"
      ],
      "metadata": {
        "colab": {
          "base_uri": "https://localhost:8080/"
        },
        "id": "7wGk2CpJg8Q2",
        "outputId": "300fcf33-5619-42e1-943f-1345aea751ff"
      },
      "execution_count": 13,
      "outputs": [
        {
          "output_type": "stream",
          "name": "stdout",
          "text": [
            "10 이상입니다.\n",
            "15 이상입니다.\n",
            "17\n"
          ]
        }
      ]
    },
    {
      "cell_type": "code",
      "source": [
        "# 10 이상 정수, 3의 배수를 찾기\n",
        "x = random.randint(1,20)\n",
        "if x >= 10:\n",
        "    print('10 이상입니다.')\n",
        "    if x % 3 == 0:\n",
        "        print('3의 배수입니다.')\n",
        "print(x)"
      ],
      "metadata": {
        "colab": {
          "base_uri": "https://localhost:8080/"
        },
        "id": "33rTO2vYjS3A",
        "outputId": "7e321cc8-664f-44c8-afc9-27673e326bf7"
      },
      "execution_count": 16,
      "outputs": [
        {
          "output_type": "stream",
          "name": "stdout",
          "text": [
            "10 이상입니다.\n",
            "3의 배수입니다.\n",
            "15\n"
          ]
        }
      ]
    },
    {
      "cell_type": "code",
      "source": [
        ""
      ],
      "metadata": {
        "id": "rUGpbBGsjvKV"
      },
      "execution_count": null,
      "outputs": []
    }
  ]
}
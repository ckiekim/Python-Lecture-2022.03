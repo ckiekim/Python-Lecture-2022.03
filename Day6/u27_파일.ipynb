{
  "nbformat": 4,
  "nbformat_minor": 0,
  "metadata": {
    "colab": {
      "name": "u27_파일.ipynb",
      "provenance": [],
      "collapsed_sections": []
    },
    "kernelspec": {
      "name": "python3",
      "display_name": "Python 3"
    },
    "language_info": {
      "name": "python"
    }
  },
  "cells": [
    {
      "cell_type": "markdown",
      "source": [
        "# Unit 27. 파일(File)\n",
        "### 27.1 파일 읽기/쓰기(read/write)"
      ],
      "metadata": {
        "id": "RzfieBZAI0hT"
      }
    },
    {
      "cell_type": "markdown",
      "source": [
        "- 파일에 문자열 쓰기"
      ],
      "metadata": {
        "id": "McCFqNKcPqw1"
      }
    },
    {
      "cell_type": "code",
      "execution_count": 1,
      "metadata": {
        "id": "fgKRHVRsFdNp"
      },
      "outputs": [],
      "source": [
        "file = open('hello.txt', 'w')   # hello.txt 파일을 쓰기모드(w)로 open\n",
        "file.write('Hello, world!')\n",
        "file.write('안녕하세요?')\n",
        "file.close()"
      ]
    },
    {
      "cell_type": "code",
      "source": [
        "!cat hello.txt"
      ],
      "metadata": {
        "colab": {
          "base_uri": "https://localhost:8080/"
        },
        "id": "xqmNH4c6RJIA",
        "outputId": "f1aa2adc-c733-44b7-d2ba-11c44d8b4659"
      },
      "execution_count": 2,
      "outputs": [
        {
          "output_type": "stream",
          "name": "stdout",
          "text": [
            "Hello, world!안녕하세요?"
          ]
        }
      ]
    },
    {
      "cell_type": "code",
      "source": [
        "file = open('hello.txt', 'w')   # hello.txt 파일을 쓰기모드(w)로 open\n",
        "file.write('Hello, world!\\n')\n",
        "file.write('안녕하세요?')\n",
        "file.close()"
      ],
      "metadata": {
        "id": "9p3Z-Qj3Rph5"
      },
      "execution_count": 7,
      "outputs": []
    },
    {
      "cell_type": "code",
      "source": [
        "!cat hello.txt"
      ],
      "metadata": {
        "colab": {
          "base_uri": "https://localhost:8080/"
        },
        "id": "p2GobkzXTfNC",
        "outputId": "16171091-1f9b-4402-a99d-c25afff1ed68"
      },
      "execution_count": 4,
      "outputs": [
        {
          "output_type": "stream",
          "name": "stdout",
          "text": [
            "Hello, world!\n",
            "안녕하세요?"
          ]
        }
      ]
    },
    {
      "cell_type": "markdown",
      "source": [
        "- 파일로부터 텍스트 읽기"
      ],
      "metadata": {
        "id": "P2B0prHtTsS6"
      }
    },
    {
      "cell_type": "code",
      "source": [
        "file = open('hello.txt', 'r')   # hello.txt 파일을 읽기모드(w)로 open\n",
        "text = file.read()              # 크기 정보를 안주면 처음부터 끝까지 읽음\n",
        "print(text)\n",
        "file.close()"
      ],
      "metadata": {
        "colab": {
          "base_uri": "https://localhost:8080/"
        },
        "id": "wBYrWTkIThT-",
        "outputId": "4e8c6a6d-248f-49fe-dca8-7eb009d9c346"
      },
      "execution_count": 8,
      "outputs": [
        {
          "output_type": "stream",
          "name": "stdout",
          "text": [
            "Hello, world!\n",
            "안녕하세요?\n"
          ]
        }
      ]
    },
    {
      "cell_type": "code",
      "source": [
        "file = open('hello.txt')   # 모드 정보의 default 값은 'r'(read)\n",
        "text = file.read(15)       # 15글자 읽음, \\n 도 한글자\n",
        "print(text)\n",
        "file.close()"
      ],
      "metadata": {
        "colab": {
          "base_uri": "https://localhost:8080/"
        },
        "id": "-Vyq3lPzUUMs",
        "outputId": "39123af8-94f9-40aa-8a48-b05a307057d8"
      },
      "execution_count": 9,
      "outputs": [
        {
          "output_type": "stream",
          "name": "stdout",
          "text": [
            "Hello, world!\n",
            "안\n"
          ]
        }
      ]
    },
    {
      "cell_type": "markdown",
      "source": [
        "- 파이썬 스타일(with) : 자동 close"
      ],
      "metadata": {
        "id": "ViLKTvGyVoMh"
      }
    },
    {
      "cell_type": "code",
      "source": [
        "with open('hello.txt') as file:\n",
        "    text = file.read()\n",
        "print(text)"
      ],
      "metadata": {
        "colab": {
          "base_uri": "https://localhost:8080/"
        },
        "id": "d8MoEYrEUwq_",
        "outputId": "d37a6e38-5fc4-4e30-f705-0e852d273ae7"
      },
      "execution_count": 10,
      "outputs": [
        {
          "output_type": "stream",
          "name": "stdout",
          "text": [
            "Hello, world!\n",
            "안녕하세요?\n"
          ]
        }
      ]
    },
    {
      "cell_type": "markdown",
      "source": [
        "### 27.2 문자열 여러줄"
      ],
      "metadata": {
        "id": "bXpTU_r0WLcW"
      }
    },
    {
      "cell_type": "code",
      "source": [
        "with open('hello.txt', 'w') as file:\n",
        "    for i in range(3):\n",
        "        file.write(f'Hello, world! {i}\\n')"
      ],
      "metadata": {
        "id": "ORHmKn39V8Ig"
      },
      "execution_count": 13,
      "outputs": []
    },
    {
      "cell_type": "code",
      "source": [
        "!cat hello.txt"
      ],
      "metadata": {
        "colab": {
          "base_uri": "https://localhost:8080/"
        },
        "id": "gREYLERlWmAX",
        "outputId": "e37a19ba-0aad-437f-8a5f-2f16641cbca8"
      },
      "execution_count": 14,
      "outputs": [
        {
          "output_type": "stream",
          "name": "stdout",
          "text": [
            "Hello, world! 0\n",
            "Hello, world! 1\n",
            "Hello, world! 2\n"
          ]
        }
      ]
    },
    {
      "cell_type": "code",
      "source": [
        "fruits = ['apple\\n', 'banana\\n', 'cherry\\n']\n",
        "with open('hello.txt', 'w') as file:\n",
        "    file.writelines(fruits)"
      ],
      "metadata": {
        "id": "P1vXS1kWWoyn"
      },
      "execution_count": 17,
      "outputs": []
    },
    {
      "cell_type": "code",
      "source": [
        "!cat hello.txt"
      ],
      "metadata": {
        "colab": {
          "base_uri": "https://localhost:8080/"
        },
        "id": "3JFw98xoXKWr",
        "outputId": "79604d52-7c15-448c-e4c0-cfd623c1de2d"
      },
      "execution_count": 18,
      "outputs": [
        {
          "output_type": "stream",
          "name": "stdout",
          "text": [
            "apple\n",
            "banana\n",
            "cherry\n"
          ]
        }
      ]
    },
    {
      "cell_type": "markdown",
      "source": [
        "- 줄 단위로 작업할 내용이 있으면 아래와 같이 사용함"
      ],
      "metadata": {
        "id": "bj5EkHjyXxjc"
      }
    },
    {
      "cell_type": "code",
      "source": [
        "with open('hello.txt') as file:\n",
        "    lines = file.readlines()\n",
        "for line in lines:\n",
        "    print(line, end='')"
      ],
      "metadata": {
        "colab": {
          "base_uri": "https://localhost:8080/"
        },
        "id": "AIZATifTXMVs",
        "outputId": "a326c4a1-06cf-4d9c-ddc4-8f068b13b877"
      },
      "execution_count": 21,
      "outputs": [
        {
          "output_type": "stream",
          "name": "stdout",
          "text": [
            "apple\n",
            "banana\n",
            "cherry\n"
          ]
        }
      ]
    },
    {
      "cell_type": "markdown",
      "source": [
        "### 경로명 지정, 디렉토리 만들기\n",
        "<pre>\n",
        "1. 프로그램 내에서는 Back Slash(\\) 대신에 Slash(/)를 쓸 것\n",
        "2. 경로명에 공백을 두지 말 것\n",
        "3. 프로그램용이라면 디렉토리 이름에 한글을 쓰지 말 것\n",
        "</pre>"
      ],
      "metadata": {
        "id": "U8gM1LthaiXs"
      }
    },
    {
      "cell_type": "code",
      "source": [
        "# data 디렉토리가 있는지 확인, 없으면 만들어 주기\n",
        "import os\n",
        "if not os.path.exists('data'):\n",
        "    os.mkdir('data')"
      ],
      "metadata": {
        "id": "hNl0MyHGXlT9"
      },
      "execution_count": 23,
      "outputs": []
    },
    {
      "cell_type": "code",
      "source": [
        "# 상대 경로\n",
        "os.path.exists('data')"
      ],
      "metadata": {
        "colab": {
          "base_uri": "https://localhost:8080/"
        },
        "id": "oHcIdeMvbCrr",
        "outputId": "6078f887-08cf-40fc-bc0d-8d0df5fce157"
      },
      "execution_count": 24,
      "outputs": [
        {
          "output_type": "execute_result",
          "data": {
            "text/plain": [
              "True"
            ]
          },
          "metadata": {},
          "execution_count": 24
        }
      ]
    },
    {
      "cell_type": "code",
      "source": [
        "!pwd"
      ],
      "metadata": {
        "colab": {
          "base_uri": "https://localhost:8080/"
        },
        "id": "C4sGGM4abPw4",
        "outputId": "d4c4c166-64e9-4e8b-bdeb-163cb2ccbaac"
      },
      "execution_count": 25,
      "outputs": [
        {
          "output_type": "stream",
          "name": "stdout",
          "text": [
            "/content\n"
          ]
        }
      ]
    },
    {
      "cell_type": "code",
      "source": [
        "# 절대 경로\n",
        "os.path.exists('/content/data')"
      ],
      "metadata": {
        "colab": {
          "base_uri": "https://localhost:8080/"
        },
        "id": "og-2LERTbbyQ",
        "outputId": "5b6947bc-0a2c-4774-9e7c-be4f9672ae86"
      },
      "execution_count": 26,
      "outputs": [
        {
          "output_type": "execute_result",
          "data": {
            "text/plain": [
              "True"
            ]
          },
          "metadata": {},
          "execution_count": 26
        }
      ]
    },
    {
      "cell_type": "code",
      "source": [
        "data_file = 'data/hello.txt'\n",
        "with open(data_file, 'w') as file:\n",
        "    file.write('Hello, world!\\n')\n",
        "    file.write('안녕하세요?')"
      ],
      "metadata": {
        "id": "45X3hSpdcaBx"
      },
      "execution_count": 29,
      "outputs": []
    },
    {
      "cell_type": "code",
      "source": [
        "!cat data/hello.txt"
      ],
      "metadata": {
        "colab": {
          "base_uri": "https://localhost:8080/"
        },
        "id": "pjy8dnUleOgE",
        "outputId": "0b58ad5f-dae8-47d9-909c-703db2398417"
      },
      "execution_count": 30,
      "outputs": [
        {
          "output_type": "stream",
          "name": "stdout",
          "text": [
            "Hello, world!\n",
            "안녕하세요?"
          ]
        }
      ]
    },
    {
      "cell_type": "markdown",
      "source": [
        "- append mode"
      ],
      "metadata": {
        "id": "AfUYv0Qoe6Zr"
      }
    },
    {
      "cell_type": "code",
      "source": [
        "!cat hello.txt"
      ],
      "metadata": {
        "colab": {
          "base_uri": "https://localhost:8080/"
        },
        "id": "eu-8p31ZeTUl",
        "outputId": "2d701020-8464-47ba-a5ce-f5ffa7be7be0"
      },
      "execution_count": 31,
      "outputs": [
        {
          "output_type": "stream",
          "name": "stdout",
          "text": [
            "apple\n",
            "banana\n",
            "cherry\n"
          ]
        }
      ]
    },
    {
      "cell_type": "code",
      "source": [
        "with open('hello.txt', 'a') as file:\n",
        "    file.write('Hello, world!\\n')\n",
        "    file.write('안녕하세요?')"
      ],
      "metadata": {
        "id": "irI2tZdve-gB"
      },
      "execution_count": 32,
      "outputs": []
    },
    {
      "cell_type": "code",
      "source": [
        "with open('hello.txt') as file:\n",
        "    text = file.read()\n",
        "print(text)"
      ],
      "metadata": {
        "colab": {
          "base_uri": "https://localhost:8080/"
        },
        "id": "eucQ3NvyfSYW",
        "outputId": "5e7ad8ac-9888-4eeb-c8e0-6033db25bcbb"
      },
      "execution_count": 33,
      "outputs": [
        {
          "output_type": "stream",
          "name": "stdout",
          "text": [
            "apple\n",
            "banana\n",
            "cherry\n",
            "Hello, world!\n",
            "안녕하세요?\n"
          ]
        }
      ]
    },
    {
      "cell_type": "markdown",
      "source": [
        "- 인코딩 설정"
      ],
      "metadata": {
        "id": "WDhx1GeBgVof"
      }
    },
    {
      "cell_type": "code",
      "source": [
        "with open('hello.txt', 'w', encoding='CP949') as file:\n",
        "    file.write('이 글은 EUC-KR(CP 949)로 인코딩 되었습니다.\\n')\n",
        "    file.write('utf-8로 읽으면 글자가 깨집니다.')"
      ],
      "metadata": {
        "id": "Btrj7cMBfZ_p"
      },
      "execution_count": 38,
      "outputs": []
    },
    {
      "cell_type": "markdown",
      "source": [
        "### 27.3 파이썬 객체 저장/로드"
      ],
      "metadata": {
        "id": "LFHepEIihRAM"
      }
    },
    {
      "cell_type": "code",
      "source": [
        "import pickle\n",
        "\n",
        "person = {'name':'james', 'age':17, 'address':'서울시 서초구 반포동'}\n",
        "\n",
        "with open('person.pkl', 'wb') as file:\n",
        "    pickle.dump(person, file)"
      ],
      "metadata": {
        "id": "_BWVvnpngbcI"
      },
      "execution_count": 40,
      "outputs": []
    },
    {
      "cell_type": "code",
      "source": [
        "with open('person.pkl', 'rb') as file:\n",
        "    james = pickle.load(file)\n",
        "james"
      ],
      "metadata": {
        "colab": {
          "base_uri": "https://localhost:8080/"
        },
        "id": "kxGlV53FiDSZ",
        "outputId": "92606a87-d63c-40c0-9f1b-59d3ad6ea023"
      },
      "execution_count": 41,
      "outputs": [
        {
          "output_type": "execute_result",
          "data": {
            "text/plain": [
              "{'address': '서울시 서초구 반포동', 'age': 17, 'name': 'james'}"
            ]
          },
          "metadata": {},
          "execution_count": 41
        }
      ]
    },
    {
      "cell_type": "code",
      "source": [
        "# 파일 오픈이 필요 없는 라이브러리도 있음\n",
        "import joblib\n",
        "joblib.dump(person, 'person.jl')\n",
        "james = joblib.load('person.jl')\n",
        "james"
      ],
      "metadata": {
        "colab": {
          "base_uri": "https://localhost:8080/"
        },
        "id": "KZG5u8H3ibls",
        "outputId": "8a817cdd-f447-4c2a-c128-87891febf01b"
      },
      "execution_count": 42,
      "outputs": [
        {
          "output_type": "execute_result",
          "data": {
            "text/plain": [
              "{'address': '서울시 서초구 반포동', 'age': 17, 'name': 'james'}"
            ]
          },
          "metadata": {},
          "execution_count": 42
        }
      ]
    },
    {
      "cell_type": "code",
      "source": [
        ""
      ],
      "metadata": {
        "id": "GsjegoXOi7VF"
      },
      "execution_count": null,
      "outputs": []
    }
  ]
}
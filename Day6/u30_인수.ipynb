{
  "nbformat": 4,
  "nbformat_minor": 0,
  "metadata": {
    "colab": {
      "name": "u30_인수.ipynb",
      "provenance": [],
      "collapsed_sections": []
    },
    "kernelspec": {
      "name": "python3",
      "display_name": "Python 3"
    },
    "language_info": {
      "name": "python"
    }
  },
  "cells": [
    {
      "cell_type": "markdown",
      "source": [
        "# Unit 30. 위치 인수, 키워드 인수"
      ],
      "metadata": {
        "id": "ZjKS6lZMRUHs"
      }
    },
    {
      "cell_type": "code",
      "source": [
        "# 위치 인수(positional argument): 10, 20\n",
        "# 키워드 인수(keyword argument): sep=', ', end='\\n\\n'\n",
        "print(10, 20, sep=', ', end='\\n\\n')"
      ],
      "metadata": {
        "colab": {
          "base_uri": "https://localhost:8080/"
        },
        "id": "enlByEExQANw",
        "outputId": "ea2e00cc-f816-4ab9-c715-415b6b9ef853"
      },
      "execution_count": 3,
      "outputs": [
        {
          "output_type": "stream",
          "name": "stdout",
          "text": [
            "10, 20\n",
            "\n"
          ]
        }
      ]
    },
    {
      "cell_type": "markdown",
      "source": [
        "### 30.1 위치 인수"
      ],
      "metadata": {
        "id": "9wAYdfpUSA-d"
      }
    },
    {
      "cell_type": "code",
      "source": [
        "print(10, 20, 30, 40, 50)"
      ],
      "metadata": {
        "colab": {
          "base_uri": "https://localhost:8080/"
        },
        "id": "yZc1HdVyRhGk",
        "outputId": "1098453f-ce32-4e3e-e4e2-b921669bda84"
      },
      "execution_count": 5,
      "outputs": [
        {
          "output_type": "stream",
          "name": "stdout",
          "text": [
            "10 20 30 40 50\n"
          ]
        }
      ]
    },
    {
      "cell_type": "code",
      "source": [
        "def print_numbers(a, b, c):\n",
        "    print(a)\n",
        "    print(b)\n",
        "    print(c)"
      ],
      "metadata": {
        "id": "nshCRd4lShh6"
      },
      "execution_count": 6,
      "outputs": []
    },
    {
      "cell_type": "code",
      "source": [
        "print_numbers(10,20,30)"
      ],
      "metadata": {
        "colab": {
          "base_uri": "https://localhost:8080/"
        },
        "id": "cQI89QbgSGpO",
        "outputId": "fab5ffab-92b7-4610-9007-1db1c871e64a"
      },
      "execution_count": 7,
      "outputs": [
        {
          "output_type": "stream",
          "name": "stdout",
          "text": [
            "10\n",
            "20\n",
            "30\n"
          ]
        }
      ]
    },
    {
      "cell_type": "code",
      "source": [
        "x = [10,20,30]\n",
        "print_numbers(*x)       # 리스트 언패킹"
      ],
      "metadata": {
        "colab": {
          "base_uri": "https://localhost:8080/"
        },
        "id": "3xmC2LiFSteE",
        "outputId": "3cc6ba86-a194-4903-c69f-961b5ef7b905"
      },
      "execution_count": 8,
      "outputs": [
        {
          "output_type": "stream",
          "name": "stdout",
          "text": [
            "10\n",
            "20\n",
            "30\n"
          ]
        }
      ]
    },
    {
      "cell_type": "markdown",
      "source": [
        "- 가변 인수"
      ],
      "metadata": {
        "id": "phofSe4tUCAF"
      }
    },
    {
      "cell_type": "code",
      "source": [
        "def print_numbers(*args):\n",
        "    for arg in args:\n",
        "        print(arg)"
      ],
      "metadata": {
        "id": "kBPNRAo2S1Uy"
      },
      "execution_count": 9,
      "outputs": []
    },
    {
      "cell_type": "code",
      "source": [
        "print_numbers(10, 20)"
      ],
      "metadata": {
        "colab": {
          "base_uri": "https://localhost:8080/"
        },
        "id": "CmmhtCUvUenL",
        "outputId": "d319f265-2b7e-4702-d144-29f594786898"
      },
      "execution_count": 10,
      "outputs": [
        {
          "output_type": "stream",
          "name": "stdout",
          "text": [
            "10\n",
            "20\n"
          ]
        }
      ]
    },
    {
      "cell_type": "code",
      "source": [
        "print_numbers(10,20,30,40)"
      ],
      "metadata": {
        "colab": {
          "base_uri": "https://localhost:8080/"
        },
        "id": "U4wwwjncUhcD",
        "outputId": "c3fe3997-8086-498f-ef66-4f6ac387d711"
      },
      "execution_count": 11,
      "outputs": [
        {
          "output_type": "stream",
          "name": "stdout",
          "text": [
            "10\n",
            "20\n",
            "30\n",
            "40\n"
          ]
        }
      ]
    },
    {
      "cell_type": "code",
      "source": [
        "print_numbers()"
      ],
      "metadata": {
        "id": "JMrPZ0msUkyj"
      },
      "execution_count": 12,
      "outputs": []
    },
    {
      "cell_type": "markdown",
      "source": [
        "### 30.2 키워드 인수"
      ],
      "metadata": {
        "id": "X2lEJZkuU3N9"
      }
    },
    {
      "cell_type": "code",
      "source": [
        "def personal_info(name, age, address):\n",
        "    print('이름:', name)\n",
        "    print('나이:', age)\n",
        "    print('주소:', address)"
      ],
      "metadata": {
        "id": "jmhSAIX8UogE"
      },
      "execution_count": 13,
      "outputs": []
    },
    {
      "cell_type": "code",
      "source": [
        "# 위치 인수로 호출\n",
        "personal_info('홍길동', 25, '서울시 서초구 서초동')"
      ],
      "metadata": {
        "colab": {
          "base_uri": "https://localhost:8080/"
        },
        "id": "lS08xARGVXxz",
        "outputId": "59a15d54-21f9-4eb3-d75b-e7c3f4f7f8f0"
      },
      "execution_count": 14,
      "outputs": [
        {
          "output_type": "stream",
          "name": "stdout",
          "text": [
            "이름: 홍길동\n",
            "나이: 25\n",
            "주소: 서울시 서초구 서초동\n"
          ]
        }
      ]
    },
    {
      "cell_type": "code",
      "source": [
        "# 위치 인수로 호출할 경우에는 정확히 위치를 지정해야 함\n",
        "personal_info(25, '홍길동', '서울시 서초구 서초동')"
      ],
      "metadata": {
        "colab": {
          "base_uri": "https://localhost:8080/"
        },
        "id": "sySCKGMAVsWL",
        "outputId": "313a2308-bd54-49f1-d596-2274768385d5"
      },
      "execution_count": 16,
      "outputs": [
        {
          "output_type": "stream",
          "name": "stdout",
          "text": [
            "이름: 25\n",
            "나이: 홍길동\n",
            "주소: 서울시 서초구 서초동\n"
          ]
        }
      ]
    },
    {
      "cell_type": "code",
      "source": [
        "# 키워드로 호출\n",
        "personal_info(age=25, name='홍길동', address='서울시 서초구 서초동')"
      ],
      "metadata": {
        "colab": {
          "base_uri": "https://localhost:8080/"
        },
        "id": "DvQX2awAWCUt",
        "outputId": "b07fc66c-e4b3-49f5-8da8-70e615a48fe5"
      },
      "execution_count": 17,
      "outputs": [
        {
          "output_type": "stream",
          "name": "stdout",
          "text": [
            "이름: 홍길동\n",
            "나이: 25\n",
            "주소: 서울시 서초구 서초동\n"
          ]
        }
      ]
    },
    {
      "cell_type": "markdown",
      "source": [
        "### 30.3 딕셔너리 언패킹"
      ],
      "metadata": {
        "id": "w7dPgzcSWpM0"
      }
    },
    {
      "cell_type": "code",
      "source": [
        "x = {'name': '홍길동', 'age': 30, 'address': '서울시 서초구 서초동'}\n",
        "personal_info(**x)"
      ],
      "metadata": {
        "colab": {
          "base_uri": "https://localhost:8080/"
        },
        "id": "xFFiR41FWdVq",
        "outputId": "07826ccc-cfc8-49f3-a9a0-e6b5068299c6"
      },
      "execution_count": 18,
      "outputs": [
        {
          "output_type": "stream",
          "name": "stdout",
          "text": [
            "이름: 홍길동\n",
            "나이: 30\n",
            "주소: 서울시 서초구 서초동\n"
          ]
        }
      ]
    },
    {
      "cell_type": "markdown",
      "source": [
        "- 가변 키워드 인수"
      ],
      "metadata": {
        "id": "bJaSmlrYXIz5"
      }
    },
    {
      "cell_type": "code",
      "source": [
        "def personal_info2(**kwargs):\n",
        "    for key, value in kwargs.items():\n",
        "        print(f'{key}: {value}')"
      ],
      "metadata": {
        "id": "FocQJrcHW8dD"
      },
      "execution_count": 19,
      "outputs": []
    },
    {
      "cell_type": "code",
      "source": [
        "personal_info2(**x)"
      ],
      "metadata": {
        "colab": {
          "base_uri": "https://localhost:8080/"
        },
        "id": "K7YBKKxSXeU0",
        "outputId": "e836daba-6c3f-4e9b-9d0d-f315fb1b85e0"
      },
      "execution_count": 20,
      "outputs": [
        {
          "output_type": "stream",
          "name": "stdout",
          "text": [
            "name: 홍길동\n",
            "age: 30\n",
            "address: 서울시 서초구 서초동\n"
          ]
        }
      ]
    },
    {
      "cell_type": "code",
      "source": [
        "x['성별'] = '남자'\n",
        "x['고향'] = '서울'\n",
        "x"
      ],
      "metadata": {
        "colab": {
          "base_uri": "https://localhost:8080/"
        },
        "id": "A6bzVXmzXi5j",
        "outputId": "91281fa0-7170-41f6-ff03-610e9ad6d891"
      },
      "execution_count": 21,
      "outputs": [
        {
          "output_type": "execute_result",
          "data": {
            "text/plain": [
              "{'address': '서울시 서초구 서초동', 'age': 30, 'name': '홍길동', '고향': '서울', '성별': '남자'}"
            ]
          },
          "metadata": {},
          "execution_count": 21
        }
      ]
    },
    {
      "cell_type": "code",
      "source": [
        "personal_info2(**x)"
      ],
      "metadata": {
        "colab": {
          "base_uri": "https://localhost:8080/"
        },
        "id": "YGTAs9B3X8Vz",
        "outputId": "5eb8a724-5222-4505-80c4-620b6614c97c"
      },
      "execution_count": 22,
      "outputs": [
        {
          "output_type": "stream",
          "name": "stdout",
          "text": [
            "name: 홍길동\n",
            "age: 30\n",
            "address: 서울시 서초구 서초동\n",
            "성별: 남자\n",
            "고향: 서울\n"
          ]
        }
      ]
    },
    {
      "cell_type": "markdown",
      "source": [
        "- 호출하는 순서: 위치 인수가 키워드 인수보다 먼저 나와야 함"
      ],
      "metadata": {
        "id": "o3r8h84-aZhK"
      }
    },
    {
      "cell_type": "code",
      "source": [
        "personal_info('홍길동', address='경기도 용인시 수지구', age= 28)"
      ],
      "metadata": {
        "colab": {
          "base_uri": "https://localhost:8080/"
        },
        "id": "2LIslWv4anzA",
        "outputId": "5ef6bcfc-9198-4a49-f12e-a34316eca59c"
      },
      "execution_count": 23,
      "outputs": [
        {
          "output_type": "stream",
          "name": "stdout",
          "text": [
            "이름: 홍길동\n",
            "나이: 28\n",
            "주소: 경기도 용인시 수지구\n"
          ]
        }
      ]
    },
    {
      "cell_type": "code",
      "source": [
        "personal_info(address='경기도 용인시 수지구', '홍길동', age= 28)"
      ],
      "metadata": {
        "colab": {
          "base_uri": "https://localhost:8080/",
          "height": 158
        },
        "id": "4gQHY4mqX_ta",
        "outputId": "24d272a4-a1fa-4060-d54f-c57cd6191874"
      },
      "execution_count": 24,
      "outputs": [
        {
          "output_type": "error",
          "ename": "SyntaxError",
          "evalue": "ignored",
          "traceback": [
            "\u001b[0;36m  File \u001b[0;32m\"<ipython-input-24-2cb47a861da1>\"\u001b[0;36m, line \u001b[0;32m1\u001b[0m\n\u001b[0;31m    personal_info(address='경기도 용인시 수지구', '홍길동', age= 28)\u001b[0m\n\u001b[0m                                                        \n^\u001b[0m\n\u001b[0;31mSyntaxError\u001b[0m\u001b[0;31m:\u001b[0m positional argument follows keyword argument\n"
          ]
        }
      ]
    },
    {
      "cell_type": "markdown",
      "source": [
        "- 가변 위치 인수, 가변 키워드 인수"
      ],
      "metadata": {
        "id": "-oM80tKLbJpV"
      }
    },
    {
      "cell_type": "code",
      "source": [
        "def custom_print(*args, **kwargs):\n",
        "    print(*args, **kwargs)"
      ],
      "metadata": {
        "id": "a034UF-LbCPu"
      },
      "execution_count": 25,
      "outputs": []
    },
    {
      "cell_type": "code",
      "source": [
        "custom_print(10,20,30, sep=', ', end='')"
      ],
      "metadata": {
        "colab": {
          "base_uri": "https://localhost:8080/"
        },
        "id": "9XHAi03ubg7x",
        "outputId": "9d64ea5e-5cfb-42f9-d1a9-95c1aed44b07"
      },
      "execution_count": 26,
      "outputs": [
        {
          "output_type": "stream",
          "name": "stdout",
          "text": [
            "10, 20, 30"
          ]
        }
      ]
    },
    {
      "cell_type": "markdown",
      "source": [
        "### 30.4 매개변수에 초기값 지정"
      ],
      "metadata": {
        "id": "TMGKhADvb5u-"
      }
    },
    {
      "cell_type": "code",
      "source": [
        "def personal_info(name, age, address='비공개'):\n",
        "    print('이름:', name)\n",
        "    print('나이:', age)\n",
        "    print('주소:', address)"
      ],
      "metadata": {
        "id": "of-BJHFhbxhl"
      },
      "execution_count": 27,
      "outputs": []
    },
    {
      "cell_type": "code",
      "source": [
        "personal_info('홍길동', 25, '서울시 서초구 서초동')"
      ],
      "metadata": {
        "colab": {
          "base_uri": "https://localhost:8080/"
        },
        "id": "Md-q3eWdcJrp",
        "outputId": "cb8fe14e-c57f-4a85-d3d6-3db595a49d81"
      },
      "execution_count": 28,
      "outputs": [
        {
          "output_type": "stream",
          "name": "stdout",
          "text": [
            "이름: 홍길동\n",
            "나이: 25\n",
            "주소: 서울시 서초구 서초동\n"
          ]
        }
      ]
    },
    {
      "cell_type": "code",
      "source": [
        "personal_info('홍길동', 25)"
      ],
      "metadata": {
        "colab": {
          "base_uri": "https://localhost:8080/"
        },
        "id": "CZL-hSgUcSRt",
        "outputId": "6992a736-40de-4465-a848-0883fc815397"
      },
      "execution_count": 29,
      "outputs": [
        {
          "output_type": "stream",
          "name": "stdout",
          "text": [
            "이름: 홍길동\n",
            "나이: 25\n",
            "주소: 비공개\n"
          ]
        }
      ]
    },
    {
      "cell_type": "code",
      "source": [
        ""
      ],
      "metadata": {
        "id": "8stSynBwcVdT"
      },
      "execution_count": null,
      "outputs": []
    }
  ]
}
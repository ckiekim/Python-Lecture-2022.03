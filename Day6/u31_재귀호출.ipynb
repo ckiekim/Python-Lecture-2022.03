{
  "nbformat": 4,
  "nbformat_minor": 0,
  "metadata": {
    "colab": {
      "name": "u31_재귀호출.ipynb",
      "provenance": []
    },
    "kernelspec": {
      "name": "python3",
      "display_name": "Python 3"
    },
    "language_info": {
      "name": "python"
    }
  },
  "cells": [
    {
      "cell_type": "markdown",
      "source": [
        "# Unit 31. 재귀 호출(Recursive call)"
      ],
      "metadata": {
        "id": "rF6LdyPSddTZ"
      }
    },
    {
      "cell_type": "markdown",
      "source": [
        "- factorial\n",
        "<pre>\n",
        "n * (n-1)!       n > 0,\n",
        "0                n = 0\n",
        "</pre>"
      ],
      "metadata": {
        "id": "TXwSxF-ZeUdO"
      }
    },
    {
      "cell_type": "code",
      "execution_count": 1,
      "metadata": {
        "id": "tHzzlU8gdYvz"
      },
      "outputs": [],
      "source": [
        "def fact(n):\n",
        "    if n == 0:\n",
        "        return 1\n",
        "    return n * fact(n-1)"
      ]
    },
    {
      "cell_type": "code",
      "source": [
        "fact(3)"
      ],
      "metadata": {
        "colab": {
          "base_uri": "https://localhost:8080/"
        },
        "id": "jOJ4MgZ_eILY",
        "outputId": "eda9f1fe-3878-47cc-db49-7c91b46d5cdd"
      },
      "execution_count": 2,
      "outputs": [
        {
          "output_type": "execute_result",
          "data": {
            "text/plain": [
              "6"
            ]
          },
          "metadata": {},
          "execution_count": 2
        }
      ]
    },
    {
      "cell_type": "code",
      "source": [
        "fact(5)"
      ],
      "metadata": {
        "colab": {
          "base_uri": "https://localhost:8080/"
        },
        "id": "XW21QM1DeMm1",
        "outputId": "39cee9f1-a90c-4ffb-c658-9a568640c08e"
      },
      "execution_count": 3,
      "outputs": [
        {
          "output_type": "execute_result",
          "data": {
            "text/plain": [
              "120"
            ]
          },
          "metadata": {},
          "execution_count": 3
        }
      ]
    },
    {
      "cell_type": "markdown",
      "source": [
        "- fibonacci 수열\n",
        "<pre>\n",
        "fibo(n) = fibo(n-1) + fibo(n-2),        n >= 2\n",
        "fibo(1), fibo(0) = 1                    n = 0, 1"
      ],
      "metadata": {
        "id": "ehwJg43BeYkK"
      }
    },
    {
      "cell_type": "code",
      "source": [
        "def fibo(n):\n",
        "    if n == 1 or n == 0:\n",
        "        return 1\n",
        "    return fibo(n-1) + fibo(n-2)"
      ],
      "metadata": {
        "id": "t9sn2vkRePgJ"
      },
      "execution_count": 4,
      "outputs": []
    },
    {
      "cell_type": "code",
      "source": [
        "for i in range(11):\n",
        "    print(f'{i:2d}: {fibo(i)}')"
      ],
      "metadata": {
        "colab": {
          "base_uri": "https://localhost:8080/"
        },
        "id": "G02KxgnJfVwe",
        "outputId": "a4b896ee-39e5-4713-9ba7-03bbd5f7e84c"
      },
      "execution_count": 5,
      "outputs": [
        {
          "output_type": "stream",
          "name": "stdout",
          "text": [
            " 0: 1\n",
            " 1: 1\n",
            " 2: 2\n",
            " 3: 3\n",
            " 4: 5\n",
            " 5: 8\n",
            " 6: 13\n",
            " 7: 21\n",
            " 8: 34\n",
            " 9: 55\n",
            "10: 89\n"
          ]
        }
      ]
    },
    {
      "cell_type": "code",
      "source": [
        ""
      ],
      "metadata": {
        "id": "WDUSOdmNfkgU"
      },
      "execution_count": null,
      "outputs": []
    }
  ]
}
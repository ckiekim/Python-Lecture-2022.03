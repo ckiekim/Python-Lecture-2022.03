{
  "nbformat": 4,
  "nbformat_minor": 0,
  "metadata": {
    "colab": {
      "name": "u29_함수.ipynb",
      "provenance": [],
      "collapsed_sections": []
    },
    "kernelspec": {
      "name": "python3",
      "display_name": "Python 3"
    },
    "language_info": {
      "name": "python"
    }
  },
  "cells": [
    {
      "cell_type": "markdown",
      "source": [
        "# Unit 29. 함수(Function)\n",
        "### 29.1 간단한 출력 함수 만들기"
      ],
      "metadata": {
        "id": "5mdzYA8eohZR"
      }
    },
    {
      "cell_type": "code",
      "execution_count": 1,
      "metadata": {
        "id": "MfcltO2HoLLr"
      },
      "outputs": [],
      "source": [
        "def hello():\n",
        "    print('Hello, world!')"
      ]
    },
    {
      "cell_type": "code",
      "source": [
        "hello()"
      ],
      "metadata": {
        "colab": {
          "base_uri": "https://localhost:8080/"
        },
        "id": "j1ZPbdADtfX4",
        "outputId": "ab96c172-b3e3-4260-9ebc-2789a5ae4311"
      },
      "execution_count": 2,
      "outputs": [
        {
          "output_type": "stream",
          "name": "stdout",
          "text": [
            "Hello, world!\n"
          ]
        }
      ]
    },
    {
      "cell_type": "markdown",
      "source": [
        "- 함수를 사용하기 전에 반드시 함수가 정의되어 있어야 함"
      ],
      "metadata": {
        "id": "CtvBLZHRuAgl"
      }
    },
    {
      "cell_type": "code",
      "source": [
        "hello2()\n",
        "\n",
        "def hello2():\n",
        "    print('Hello, world!')"
      ],
      "metadata": {
        "colab": {
          "base_uri": "https://localhost:8080/",
          "height": 234
        },
        "id": "fhlQkX6vtiwZ",
        "outputId": "62e3b5d1-df70-441a-8167-de8558e2a2ab"
      },
      "execution_count": 3,
      "outputs": [
        {
          "output_type": "error",
          "ename": "NameError",
          "evalue": "ignored",
          "traceback": [
            "\u001b[0;31m---------------------------------------------------------------------------\u001b[0m",
            "\u001b[0;31mNameError\u001b[0m                                 Traceback (most recent call last)",
            "\u001b[0;32m<ipython-input-3-a34688f1e84f>\u001b[0m in \u001b[0;36m<module>\u001b[0;34m()\u001b[0m\n\u001b[0;32m----> 1\u001b[0;31m \u001b[0mhello2\u001b[0m\u001b[0;34m(\u001b[0m\u001b[0;34m)\u001b[0m\u001b[0;34m\u001b[0m\u001b[0;34m\u001b[0m\u001b[0m\n\u001b[0m\u001b[1;32m      2\u001b[0m \u001b[0;34m\u001b[0m\u001b[0m\n\u001b[1;32m      3\u001b[0m \u001b[0;32mdef\u001b[0m \u001b[0mhello2\u001b[0m\u001b[0;34m(\u001b[0m\u001b[0;34m)\u001b[0m\u001b[0;34m:\u001b[0m\u001b[0;34m\u001b[0m\u001b[0;34m\u001b[0m\u001b[0m\n\u001b[1;32m      4\u001b[0m     \u001b[0mprint\u001b[0m\u001b[0;34m(\u001b[0m\u001b[0;34m'Hello, world!'\u001b[0m\u001b[0;34m)\u001b[0m\u001b[0;34m\u001b[0m\u001b[0;34m\u001b[0m\u001b[0m\n",
            "\u001b[0;31mNameError\u001b[0m: name 'hello2' is not defined"
          ]
        }
      ]
    },
    {
      "cell_type": "markdown",
      "source": [
        "- 빈 함수 만들기"
      ],
      "metadata": {
        "id": "s0-wsUK8uuqI"
      }
    },
    {
      "cell_type": "code",
      "source": [
        "def hello3():\n",
        "    pass"
      ],
      "metadata": {
        "id": "yz10F_qhuP8S"
      },
      "execution_count": 4,
      "outputs": []
    },
    {
      "cell_type": "markdown",
      "source": [
        "### 29.2 덧셈 함수"
      ],
      "metadata": {
        "id": "pmUkOrIDu8_R"
      }
    },
    {
      "cell_type": "code",
      "source": [
        "# callee, a와 b의 값은 함수가 호출되어지는 순간 결정이 됨\n",
        "def add(a, b):\n",
        "    \"\"\"숫자 두개를 입력하면 덧셈 결과를 출력해주는 함수\n",
        "    이것을 독스트링(Docstring)이라고 한다.\"\"\"\n",
        "    print(a+b)"
      ],
      "metadata": {
        "id": "ugtnSsB0u71S"
      },
      "execution_count": 10,
      "outputs": []
    },
    {
      "cell_type": "code",
      "source": [
        "# caller\n",
        "add(3,4)"
      ],
      "metadata": {
        "colab": {
          "base_uri": "https://localhost:8080/"
        },
        "id": "eIdUJai_vZ6R",
        "outputId": "a03f1769-b822-4cf4-bea3-42146a147eef"
      },
      "execution_count": 8,
      "outputs": [
        {
          "output_type": "stream",
          "name": "stdout",
          "text": [
            "7\n"
          ]
        }
      ]
    },
    {
      "cell_type": "code",
      "source": [
        "add(10,20)"
      ],
      "metadata": {
        "colab": {
          "base_uri": "https://localhost:8080/"
        },
        "id": "sX5jPT39vb6K",
        "outputId": "dbd81040-1abf-4efa-bf2c-32affa64601a"
      },
      "execution_count": 11,
      "outputs": [
        {
          "output_type": "stream",
          "name": "stdout",
          "text": [
            "30\n"
          ]
        }
      ]
    },
    {
      "cell_type": "markdown",
      "source": [
        "### 29.3 함수결과 반환"
      ],
      "metadata": {
        "id": "nHnidYO2w551"
      }
    },
    {
      "cell_type": "code",
      "source": [
        "a, b = 12000, 24000\n",
        "f'{a} + {b} --> {a+b}'"
      ],
      "metadata": {
        "colab": {
          "base_uri": "https://localhost:8080/",
          "height": 36
        },
        "id": "TDYpuqSfvkqZ",
        "outputId": "50f6f096-c119-4141-ba40-9ad42fd914a1"
      },
      "execution_count": 14,
      "outputs": [
        {
          "output_type": "execute_result",
          "data": {
            "text/plain": [
              "'12000 + 24000 --> 36000'"
            ],
            "application/vnd.google.colaboratory.intrinsic+json": {
              "type": "string"
            }
          },
          "metadata": {},
          "execution_count": 14
        }
      ]
    },
    {
      "cell_type": "code",
      "source": [
        "f'{a} + {b} --> {add(a,b)}'"
      ],
      "metadata": {
        "colab": {
          "base_uri": "https://localhost:8080/",
          "height": 55
        },
        "id": "m0_P3bvLxRvS",
        "outputId": "f7cbe8f9-438e-4516-ab6f-a6f51f1ef199"
      },
      "execution_count": 15,
      "outputs": [
        {
          "output_type": "stream",
          "name": "stdout",
          "text": [
            "36000\n"
          ]
        },
        {
          "output_type": "execute_result",
          "data": {
            "text/plain": [
              "'12000 + 24000 --> None'"
            ],
            "application/vnd.google.colaboratory.intrinsic+json": {
              "type": "string"
            }
          },
          "metadata": {},
          "execution_count": 15
        }
      ]
    },
    {
      "cell_type": "code",
      "source": [
        "f'{a:,d} + {b:,d} --> {a+b:,d}'"
      ],
      "metadata": {
        "colab": {
          "base_uri": "https://localhost:8080/",
          "height": 36
        },
        "id": "Rjw--Sk2xrk8",
        "outputId": "bac66716-9db2-44cb-83e4-523c26005301"
      },
      "execution_count": 16,
      "outputs": [
        {
          "output_type": "execute_result",
          "data": {
            "text/plain": [
              "'12,000 + 24,000 --> 36,000'"
            ],
            "application/vnd.google.colaboratory.intrinsic+json": {
              "type": "string"
            }
          },
          "metadata": {},
          "execution_count": 16
        }
      ]
    },
    {
      "cell_type": "code",
      "source": [
        "# 결과값을 반환해주는 함수\n",
        "def add2(a,b):\n",
        "    return a+b"
      ],
      "metadata": {
        "id": "-hhaEib8xwvE"
      },
      "execution_count": 17,
      "outputs": []
    },
    {
      "cell_type": "code",
      "source": [
        "f'{a:,d} + {b:,d} --> {add2(a,b):,d}'"
      ],
      "metadata": {
        "colab": {
          "base_uri": "https://localhost:8080/",
          "height": 36
        },
        "id": "XYPtgWjlx-rR",
        "outputId": "a2baafdb-300e-4b71-ca5a-0dbce14d8a2d"
      },
      "execution_count": 18,
      "outputs": [
        {
          "output_type": "execute_result",
          "data": {
            "text/plain": [
              "'12,000 + 24,000 --> 36,000'"
            ],
            "application/vnd.google.colaboratory.intrinsic+json": {
              "type": "string"
            }
          },
          "metadata": {},
          "execution_count": 18
        }
      ]
    },
    {
      "cell_type": "code",
      "source": [
        "x = add2(10, 20)\n",
        "x"
      ],
      "metadata": {
        "colab": {
          "base_uri": "https://localhost:8080/"
        },
        "id": "IeTqeoLLyNE5",
        "outputId": "fb59a1de-63dc-43fd-9204-89fc93d1f311"
      },
      "execution_count": 19,
      "outputs": [
        {
          "output_type": "execute_result",
          "data": {
            "text/plain": [
              "30"
            ]
          },
          "metadata": {},
          "execution_count": 19
        }
      ]
    },
    {
      "cell_type": "code",
      "source": [
        "def even_odd(num):\n",
        "    if num % 2 == 0:\n",
        "        return 'Even'\n",
        "    else:\n",
        "        return 'Odd'"
      ],
      "metadata": {
        "id": "WiwhTMkhylqt"
      },
      "execution_count": 20,
      "outputs": []
    },
    {
      "cell_type": "code",
      "source": [
        "def even_odd2(num):\n",
        "    if num % 2 == 0:\n",
        "        return 'Even'\n",
        "    return 'Odd'"
      ],
      "metadata": {
        "id": "SWTrHIaXzKr8"
      },
      "execution_count": 21,
      "outputs": []
    },
    {
      "cell_type": "code",
      "source": [
        "even_odd(9), even_odd2(9)"
      ],
      "metadata": {
        "colab": {
          "base_uri": "https://localhost:8080/"
        },
        "id": "j69FkA9-zeYu",
        "outputId": "6144f743-661a-4617-a5a9-5d3af7b3498c"
      },
      "execution_count": 25,
      "outputs": [
        {
          "output_type": "execute_result",
          "data": {
            "text/plain": [
              "('Odd', 'Odd')"
            ]
          },
          "metadata": {},
          "execution_count": 25
        }
      ]
    },
    {
      "cell_type": "code",
      "source": [
        "# num 이라는 정수를 받아서 num 보다 큰 7의 배수(제일 작은)를 찾는 함수\n",
        "def seven(num):\n",
        "    for i in range(num, num+10):\n",
        "        if i % 7 == 0:\n",
        "            return i\n",
        "        print('for loop', i)"
      ],
      "metadata": {
        "id": "4ikFsVVc1x8L"
      },
      "execution_count": 28,
      "outputs": []
    },
    {
      "cell_type": "code",
      "source": [
        "seven(3125)"
      ],
      "metadata": {
        "colab": {
          "base_uri": "https://localhost:8080/"
        },
        "id": "-9gTJMne3BEy",
        "outputId": "40b3acb1-f6d8-4b67-8d87-0d83b857fa73"
      },
      "execution_count": 29,
      "outputs": [
        {
          "output_type": "stream",
          "name": "stdout",
          "text": [
            "for loop 3125\n",
            "for loop 3126\n",
            "for loop 3127\n",
            "for loop 3128\n"
          ]
        },
        {
          "output_type": "execute_result",
          "data": {
            "text/plain": [
              "3129"
            ]
          },
          "metadata": {},
          "execution_count": 29
        }
      ]
    },
    {
      "cell_type": "markdown",
      "source": [
        "### 29.4 여러개 값 반환"
      ],
      "metadata": {
        "id": "XEV7Oe053l_A"
      }
    },
    {
      "cell_type": "code",
      "source": [
        "a, b = 1, 2         # tuple unpacking"
      ],
      "metadata": {
        "id": "tc1l2edR3Dpx"
      },
      "execution_count": 30,
      "outputs": []
    },
    {
      "cell_type": "code",
      "source": [
        "def add_sub(a, b):\n",
        "    return a+b, a-b"
      ],
      "metadata": {
        "id": "-xCSDpL34Q2S"
      },
      "execution_count": 31,
      "outputs": []
    },
    {
      "cell_type": "code",
      "source": [
        "x, y = add_sub(3,4)\n",
        "x, y"
      ],
      "metadata": {
        "colab": {
          "base_uri": "https://localhost:8080/"
        },
        "id": "R1m0PFVD4bSD",
        "outputId": "b3e1ceee-8a2e-4d86-e437-5c33df0b91a9"
      },
      "execution_count": 33,
      "outputs": [
        {
          "output_type": "execute_result",
          "data": {
            "text/plain": [
              "(7, -1)"
            ]
          },
          "metadata": {},
          "execution_count": 33
        }
      ]
    },
    {
      "cell_type": "code",
      "source": [
        "# tuple로 받는 경우\n",
        "t = add_sub(3,4)\n",
        "t"
      ],
      "metadata": {
        "colab": {
          "base_uri": "https://localhost:8080/"
        },
        "id": "mSmiJM6A4gkk",
        "outputId": "9da67f02-4837-4234-d738-c291db88d987"
      },
      "execution_count": 34,
      "outputs": [
        {
          "output_type": "execute_result",
          "data": {
            "text/plain": [
              "(7, -1)"
            ]
          },
          "metadata": {},
          "execution_count": 34
        }
      ]
    },
    {
      "cell_type": "code",
      "source": [
        "# 뺄셈은 필요 없는 경우\n",
        "x, _ = add_sub(3,4)\n",
        "x"
      ],
      "metadata": {
        "colab": {
          "base_uri": "https://localhost:8080/"
        },
        "id": "YMbr7TtW4nw5",
        "outputId": "8abe6f06-4aa0-4d70-a916-f77d598060c3"
      },
      "execution_count": 35,
      "outputs": [
        {
          "output_type": "execute_result",
          "data": {
            "text/plain": [
              "7"
            ]
          },
          "metadata": {},
          "execution_count": 35
        }
      ]
    },
    {
      "cell_type": "markdown",
      "source": [
        "### 29.5 호출 과정"
      ],
      "metadata": {
        "id": "ILe6zNqk5pVw"
      }
    },
    {
      "cell_type": "code",
      "source": [
        "def mul(a, b):\n",
        "    c = a * b\n",
        "    return c\n",
        " \n",
        "def add(a, b):\n",
        "    c = a + b\n",
        "    print(c)\n",
        "    d = mul(a, b)\n",
        "    print(d)"
      ],
      "metadata": {
        "id": "SV0kTgUP42di"
      },
      "execution_count": 36,
      "outputs": []
    },
    {
      "cell_type": "code",
      "source": [
        "x, y = 10, 20\n",
        "add(x, y)"
      ],
      "metadata": {
        "colab": {
          "base_uri": "https://localhost:8080/"
        },
        "id": "XTbdkzpD5wGJ",
        "outputId": "8da3d4de-00ec-4406-a900-b9188faa20d7"
      },
      "execution_count": 37,
      "outputs": [
        {
          "output_type": "stream",
          "name": "stdout",
          "text": [
            "30\n",
            "200\n"
          ]
        }
      ]
    },
    {
      "cell_type": "markdown",
      "source": [
        "### 연습문제\n",
        "<pre>\n",
        "약수를 구한 뒤 리스트로 만들어서 반환하는 함수 get_divisors(num) 을 만드세요.\n",
        "</pre>"
      ],
      "metadata": {
        "id": "bwSjZyG78cAf"
      }
    },
    {
      "cell_type": "code",
      "source": [
        "def get_divisors(num):\n",
        "    div_list = []\n",
        "    for i in range(1, num+1):\n",
        "        if num % i == 0:\n",
        "            div_list.append(i)\n",
        "    return div_list"
      ],
      "metadata": {
        "id": "-BbGEV-K52OJ"
      },
      "execution_count": 38,
      "outputs": []
    },
    {
      "cell_type": "code",
      "source": [
        "get_divisors(12)"
      ],
      "metadata": {
        "colab": {
          "base_uri": "https://localhost:8080/"
        },
        "id": "qnZtVZZk_CB_",
        "outputId": "3953b649-c131-45e4-ed1d-c6e6592cea51"
      },
      "execution_count": 39,
      "outputs": [
        {
          "output_type": "execute_result",
          "data": {
            "text/plain": [
              "[1, 2, 3, 4, 6, 12]"
            ]
          },
          "metadata": {},
          "execution_count": 39
        }
      ]
    },
    {
      "cell_type": "code",
      "source": [
        "def get_divisors2(num):\n",
        "    div_list = [i for i in range(1, num+1) if num % i == 0]\n",
        "    return div_list"
      ],
      "metadata": {
        "id": "mFzWs37e_EnC"
      },
      "execution_count": 40,
      "outputs": []
    },
    {
      "cell_type": "code",
      "source": [
        "get_divisors2(12)"
      ],
      "metadata": {
        "colab": {
          "base_uri": "https://localhost:8080/"
        },
        "id": "y1QCaFL8_bKp",
        "outputId": "71a0520f-95cf-4578-8c72-02338ca0b1c4"
      },
      "execution_count": 41,
      "outputs": [
        {
          "output_type": "execute_result",
          "data": {
            "text/plain": [
              "[1, 2, 3, 4, 6, 12]"
            ]
          },
          "metadata": {},
          "execution_count": 41
        }
      ]
    },
    {
      "cell_type": "code",
      "source": [
        "def get_divisors3(num):\n",
        "    if num <= 0:\n",
        "        return []\n",
        "    return [i for i in range(1, num+1) if num % i == 0]"
      ],
      "metadata": {
        "id": "Z4IagXdC_efa"
      },
      "execution_count": 42,
      "outputs": []
    },
    {
      "cell_type": "code",
      "source": [
        "get_divisors3(-12)"
      ],
      "metadata": {
        "colab": {
          "base_uri": "https://localhost:8080/"
        },
        "id": "ktZP5wXQ_27L",
        "outputId": "698363d1-96b1-4d6c-e480-e1e193da5ded"
      },
      "execution_count": 43,
      "outputs": [
        {
          "output_type": "execute_result",
          "data": {
            "text/plain": [
              "[]"
            ]
          },
          "metadata": {},
          "execution_count": 43
        }
      ]
    },
    {
      "cell_type": "code",
      "source": [
        "get_divisors3(12)"
      ],
      "metadata": {
        "colab": {
          "base_uri": "https://localhost:8080/"
        },
        "id": "ePkCogiP_6KK",
        "outputId": "8a74ce60-3035-4e89-8e50-8048dc4ea9c2"
      },
      "execution_count": 44,
      "outputs": [
        {
          "output_type": "execute_result",
          "data": {
            "text/plain": [
              "[1, 2, 3, 4, 6, 12]"
            ]
          },
          "metadata": {},
          "execution_count": 44
        }
      ]
    },
    {
      "cell_type": "code",
      "source": [
        ""
      ],
      "metadata": {
        "id": "ip_Ra9RF_9Uq"
      },
      "execution_count": null,
      "outputs": []
    }
  ]
}
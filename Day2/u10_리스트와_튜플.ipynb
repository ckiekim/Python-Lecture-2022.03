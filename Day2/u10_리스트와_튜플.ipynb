{
  "nbformat": 4,
  "nbformat_minor": 0,
  "metadata": {
    "colab": {
      "name": "u10_리스트와 튜플.ipynb",
      "provenance": []
    },
    "kernelspec": {
      "name": "python3",
      "display_name": "Python 3"
    },
    "language_info": {
      "name": "python"
    }
  },
  "cells": [
    {
      "cell_type": "markdown",
      "source": [
        "# Unit 10. 리스트와 튜플"
      ],
      "metadata": {
        "id": "K9WbsPoHhYR1"
      }
    },
    {
      "cell_type": "markdown",
      "source": [
        "### 10.1 리스트(List)"
      ],
      "metadata": {
        "id": "-9XoWtIOh75l"
      }
    },
    {
      "cell_type": "code",
      "execution_count": 1,
      "metadata": {
        "colab": {
          "base_uri": "https://localhost:8080/"
        },
        "id": "vc2rNquNhSLx",
        "outputId": "5c97eaa2-04d1-4cb9-ec11-b3b5b3c35530"
      },
      "outputs": [
        {
          "output_type": "execute_result",
          "data": {
            "text/plain": [
              "[38, 21, 53, 62, 19]"
            ]
          },
          "metadata": {},
          "execution_count": 1
        }
      ],
      "source": [
        "a = [38, 21, 53, 62, 19]\n",
        "a"
      ]
    },
    {
      "cell_type": "code",
      "source": [
        "import numpy as np\n",
        "b = list(np.random.randint(10,70,10))\n",
        "b"
      ],
      "metadata": {
        "colab": {
          "base_uri": "https://localhost:8080/"
        },
        "id": "T2LE9peciSds",
        "outputId": "2d3b7285-d95c-4c84-ffc0-d8b85dccbc42"
      },
      "execution_count": 5,
      "outputs": [
        {
          "output_type": "execute_result",
          "data": {
            "text/plain": [
              "[34, 66, 39, 47, 31, 53, 57, 27, 66, 45]"
            ]
          },
          "metadata": {},
          "execution_count": 5
        }
      ]
    },
    {
      "cell_type": "code",
      "source": [
        "# 리스트에는 여러 자료형을 사용할 수 있음\n",
        "person = ['james', 27, 175.3, '남']\n",
        "person"
      ],
      "metadata": {
        "colab": {
          "base_uri": "https://localhost:8080/"
        },
        "id": "bib1viGyimGC",
        "outputId": "f1f6cfef-badc-455b-c89c-03df4d22ff09"
      },
      "execution_count": 6,
      "outputs": [
        {
          "output_type": "execute_result",
          "data": {
            "text/plain": [
              "['james', 27, 175.3, '남']"
            ]
          },
          "metadata": {},
          "execution_count": 6
        }
      ]
    },
    {
      "cell_type": "code",
      "source": [
        "# 위의 리스트는 아래와 같은 딕셔너리로 표현하는 것이 더 좋다\n",
        "{'name':'james', 'age':27, 'height':175.3, 'gender':'남'}"
      ],
      "metadata": {
        "colab": {
          "base_uri": "https://localhost:8080/"
        },
        "id": "sWDqSBWmjj0j",
        "outputId": "c106df7b-6ab5-46c2-a7f3-1c6065d89414"
      },
      "execution_count": 8,
      "outputs": [
        {
          "output_type": "execute_result",
          "data": {
            "text/plain": [
              "{'age': 27, 'gender': '남', 'height': 175.3, 'name': 'james'}"
            ]
          },
          "metadata": {},
          "execution_count": 8
        }
      ]
    },
    {
      "cell_type": "markdown",
      "source": [
        "- 빈 리스트 만들기"
      ],
      "metadata": {
        "id": "t3LjMTKIkFQQ"
      }
    },
    {
      "cell_type": "code",
      "source": [
        "a = []\n",
        "b = list()\n",
        "a, b = [], []"
      ],
      "metadata": {
        "id": "7Eni_9Qij1Oi"
      },
      "execution_count": 9,
      "outputs": []
    },
    {
      "cell_type": "code",
      "source": [
        "import random\n",
        "a = []\n",
        "for i in range(5):\n",
        "    a.append(random.randint(60,100))\n",
        "a"
      ],
      "metadata": {
        "colab": {
          "base_uri": "https://localhost:8080/"
        },
        "id": "Nxddz4lmkkeb",
        "outputId": "f6eb39b9-f333-4f8a-ac98-16a021fd833e"
      },
      "execution_count": 11,
      "outputs": [
        {
          "output_type": "execute_result",
          "data": {
            "text/plain": [
              "[75, 98, 62, 82, 74]"
            ]
          },
          "metadata": {},
          "execution_count": 11
        }
      ]
    },
    {
      "cell_type": "markdown",
      "source": [
        "- range 객체"
      ],
      "metadata": {
        "id": "ahV-1nePlJF4"
      }
    },
    {
      "cell_type": "code",
      "source": [
        "# range parameter 1개: 횟수 의미(0 ~ n-1)\n",
        "list(range(5))"
      ],
      "metadata": {
        "colab": {
          "base_uri": "https://localhost:8080/"
        },
        "id": "NRRRnh8bk1-U",
        "outputId": "1a4a3011-68d6-4427-adf1-2b5a51b2b461"
      },
      "execution_count": 13,
      "outputs": [
        {
          "output_type": "execute_result",
          "data": {
            "text/plain": [
              "[0, 1, 2, 3, 4]"
            ]
          },
          "metadata": {},
          "execution_count": 13
        }
      ]
    },
    {
      "cell_type": "code",
      "source": [
        "# range parameter 2개: 시작, 끝 의미(시작 ~ 끝-1)\n",
        "list(range(1,10))"
      ],
      "metadata": {
        "colab": {
          "base_uri": "https://localhost:8080/"
        },
        "id": "-LVPPGX7lNt2",
        "outputId": "1349ff4d-40ed-49ba-9b46-c1b47cafdbc4"
      },
      "execution_count": 14,
      "outputs": [
        {
          "output_type": "execute_result",
          "data": {
            "text/plain": [
              "[1, 2, 3, 4, 5, 6, 7, 8, 9]"
            ]
          },
          "metadata": {},
          "execution_count": 14
        }
      ]
    },
    {
      "cell_type": "code",
      "source": [
        "# range parameter 3개: 시작, 끝, 증가폭 의미\n",
        "list(range(1,10,2))"
      ],
      "metadata": {
        "colab": {
          "base_uri": "https://localhost:8080/"
        },
        "id": "B9pWH50nlvLr",
        "outputId": "59a815a1-5b23-4316-ddf3-a60ec5aaec5e"
      },
      "execution_count": 15,
      "outputs": [
        {
          "output_type": "execute_result",
          "data": {
            "text/plain": [
              "[1, 3, 5, 7, 9]"
            ]
          },
          "metadata": {},
          "execution_count": 15
        }
      ]
    },
    {
      "cell_type": "code",
      "source": [
        "list(range(10,0,-2))"
      ],
      "metadata": {
        "colab": {
          "base_uri": "https://localhost:8080/"
        },
        "id": "lGVY92RNl-n4",
        "outputId": "b210eaf3-edae-412c-8b89-c04de91ffc9e"
      },
      "execution_count": 16,
      "outputs": [
        {
          "output_type": "execute_result",
          "data": {
            "text/plain": [
              "[10, 8, 6, 4, 2]"
            ]
          },
          "metadata": {},
          "execution_count": 16
        }
      ]
    },
    {
      "cell_type": "markdown",
      "source": [
        "### 10.2 튜플(tuple)"
      ],
      "metadata": {
        "id": "RTfPwsDcm5bg"
      }
    },
    {
      "cell_type": "code",
      "source": [
        "a = (38, 21, 53, 62, 19)\n",
        "a"
      ],
      "metadata": {
        "colab": {
          "base_uri": "https://localhost:8080/"
        },
        "id": "oQrA_weXnE4N",
        "outputId": "596645e5-dc28-4d3f-edee-2e34162dd5fa"
      },
      "execution_count": 19,
      "outputs": [
        {
          "output_type": "execute_result",
          "data": {
            "text/plain": [
              "(38, 21, 53, 62, 19)"
            ]
          },
          "metadata": {},
          "execution_count": 19
        }
      ]
    },
    {
      "cell_type": "code",
      "source": [
        "person = ('james', 27, 175.3, '남')\n",
        "person"
      ],
      "metadata": {
        "colab": {
          "base_uri": "https://localhost:8080/"
        },
        "id": "sbfVNjQ7m-x1",
        "outputId": "ae3a0024-655b-4da1-cdb5-02807c5a0378"
      },
      "execution_count": 18,
      "outputs": [
        {
          "output_type": "execute_result",
          "data": {
            "text/plain": [
              "('james', 27, 175.3, '남')"
            ]
          },
          "metadata": {},
          "execution_count": 18
        }
      ]
    },
    {
      "cell_type": "code",
      "source": [
        "size = (3)\n",
        "type(size)"
      ],
      "metadata": {
        "colab": {
          "base_uri": "https://localhost:8080/"
        },
        "id": "6gc01B6gntYB",
        "outputId": "9a212996-0d88-4393-b4e8-cc0b126329d2"
      },
      "execution_count": 22,
      "outputs": [
        {
          "output_type": "execute_result",
          "data": {
            "text/plain": [
              "int"
            ]
          },
          "metadata": {},
          "execution_count": 22
        }
      ]
    },
    {
      "cell_type": "code",
      "source": [
        "size = (3,)\n",
        "type(size)"
      ],
      "metadata": {
        "colab": {
          "base_uri": "https://localhost:8080/"
        },
        "id": "gQJxQ3iInz3O",
        "outputId": "79e53746-4beb-4963-82f5-dbc928a6e529"
      },
      "execution_count": 23,
      "outputs": [
        {
          "output_type": "execute_result",
          "data": {
            "text/plain": [
              "tuple"
            ]
          },
          "metadata": {},
          "execution_count": 23
        }
      ]
    },
    {
      "cell_type": "code",
      "source": [
        "size = 3,\n",
        "type(size)"
      ],
      "metadata": {
        "colab": {
          "base_uri": "https://localhost:8080/"
        },
        "id": "T-dpAmXRoA8s",
        "outputId": "da1d4d50-f590-41b5-a1cb-f14d83ea210e"
      },
      "execution_count": 24,
      "outputs": [
        {
          "output_type": "execute_result",
          "data": {
            "text/plain": [
              "tuple"
            ]
          },
          "metadata": {},
          "execution_count": 24
        }
      ]
    },
    {
      "cell_type": "markdown",
      "source": [
        "- 튜플은 요소를 변경, 추가, 삭제할 수도 없다."
      ],
      "metadata": {
        "id": "Aa-LufrtoRJk"
      }
    },
    {
      "cell_type": "code",
      "source": [
        "t = ()\n",
        "type(t)"
      ],
      "metadata": {
        "colab": {
          "base_uri": "https://localhost:8080/"
        },
        "id": "QHojY2UIoG0V",
        "outputId": "928df82c-b2ca-4a86-9e88-cd44aab36431"
      },
      "execution_count": 25,
      "outputs": [
        {
          "output_type": "execute_result",
          "data": {
            "text/plain": [
              "tuple"
            ]
          },
          "metadata": {},
          "execution_count": 25
        }
      ]
    },
    {
      "cell_type": "code",
      "source": [
        "t = tuple(range(5))\n",
        "t"
      ],
      "metadata": {
        "colab": {
          "base_uri": "https://localhost:8080/"
        },
        "id": "j5eBjyUBofYL",
        "outputId": "8f5c0405-489c-44a6-da6c-74b3a17f10f3"
      },
      "execution_count": 26,
      "outputs": [
        {
          "output_type": "execute_result",
          "data": {
            "text/plain": [
              "(0, 1, 2, 3, 4)"
            ]
          },
          "metadata": {},
          "execution_count": 26
        }
      ]
    },
    {
      "cell_type": "markdown",
      "source": [
        "- 리스트 <--> 튜플"
      ],
      "metadata": {
        "id": "NnDtRou9o0oc"
      }
    },
    {
      "cell_type": "code",
      "source": [
        "l = list(t)\n",
        "type(l)"
      ],
      "metadata": {
        "colab": {
          "base_uri": "https://localhost:8080/"
        },
        "id": "ThUHSh1QoxJy",
        "outputId": "b8ec1071-2934-467c-de1b-bae5b4fd14ea"
      },
      "execution_count": 27,
      "outputs": [
        {
          "output_type": "execute_result",
          "data": {
            "text/plain": [
              "list"
            ]
          },
          "metadata": {},
          "execution_count": 27
        }
      ]
    },
    {
      "cell_type": "code",
      "source": [
        "type(tuple(l))"
      ],
      "metadata": {
        "colab": {
          "base_uri": "https://localhost:8080/"
        },
        "id": "jRfp0T36o-Dz",
        "outputId": "e5b796b7-cd9d-480b-d085-88503f9a6e6d"
      },
      "execution_count": 28,
      "outputs": [
        {
          "output_type": "execute_result",
          "data": {
            "text/plain": [
              "tuple"
            ]
          },
          "metadata": {},
          "execution_count": 28
        }
      ]
    },
    {
      "cell_type": "markdown",
      "source": [
        "- 리스트에 문자열 넣기"
      ],
      "metadata": {
        "id": "Zf6F4koZpWVh"
      }
    },
    {
      "cell_type": "code",
      "source": [
        "list('안녕하세요')"
      ],
      "metadata": {
        "colab": {
          "base_uri": "https://localhost:8080/"
        },
        "id": "b2BCdeKEpFec",
        "outputId": "293d51c1-5a28-4f0f-8e72-6a0f53e3b00a"
      },
      "execution_count": 29,
      "outputs": [
        {
          "output_type": "execute_result",
          "data": {
            "text/plain": [
              "['안', '녕', '하', '세', '요']"
            ]
          },
          "metadata": {},
          "execution_count": 29
        }
      ]
    },
    {
      "cell_type": "code",
      "source": [
        "list('ABCD')"
      ],
      "metadata": {
        "colab": {
          "base_uri": "https://localhost:8080/"
        },
        "id": "JzK6tcyvpfks",
        "outputId": "476ea955-8c22-49d3-b263-9cb60e96ee7b"
      },
      "execution_count": 30,
      "outputs": [
        {
          "output_type": "execute_result",
          "data": {
            "text/plain": [
              "['A', 'B', 'C', 'D']"
            ]
          },
          "metadata": {},
          "execution_count": 30
        }
      ]
    },
    {
      "cell_type": "markdown",
      "source": [
        "- list/tuple unpacking"
      ],
      "metadata": {
        "id": "ZfvXR-fLptK_"
      }
    },
    {
      "cell_type": "code",
      "source": [
        "a, b, c, d = 'a', 'b', 'c', 'd'\n",
        "a, b, c, d"
      ],
      "metadata": {
        "colab": {
          "base_uri": "https://localhost:8080/"
        },
        "id": "yprwa0w1poYj",
        "outputId": "ad36cabc-f95c-4a86-99aa-4ae9c3055a20"
      },
      "execution_count": 32,
      "outputs": [
        {
          "output_type": "execute_result",
          "data": {
            "text/plain": [
              "('a', 'b', 'c', 'd')"
            ]
          },
          "metadata": {},
          "execution_count": 32
        }
      ]
    },
    {
      "cell_type": "code",
      "source": [
        "a, b, c, d = list('abcd')\n",
        "a, b, c, d"
      ],
      "metadata": {
        "colab": {
          "base_uri": "https://localhost:8080/"
        },
        "id": "-Fzgh-FBp5ry",
        "outputId": "7d87b0d8-a550-415b-d313-4d199e074a88"
      },
      "execution_count": 33,
      "outputs": [
        {
          "output_type": "execute_result",
          "data": {
            "text/plain": [
              "('a', 'b', 'c', 'd')"
            ]
          },
          "metadata": {},
          "execution_count": 33
        }
      ]
    },
    {
      "cell_type": "code",
      "source": [
        "x, y, z = range(3)\n",
        "x, y, z"
      ],
      "metadata": {
        "colab": {
          "base_uri": "https://localhost:8080/"
        },
        "id": "EXdOADliqEpU",
        "outputId": "5ce8ff6d-2189-4548-8972-a2732f7f49d5"
      },
      "execution_count": 34,
      "outputs": [
        {
          "output_type": "execute_result",
          "data": {
            "text/plain": [
              "(0, 1, 2)"
            ]
          },
          "metadata": {},
          "execution_count": 34
        }
      ]
    },
    {
      "cell_type": "code",
      "source": [
        "x, y, z = input().split()\n",
        "x, y, z"
      ],
      "metadata": {
        "colab": {
          "base_uri": "https://localhost:8080/"
        },
        "id": "yZlQNVLMqOhR",
        "outputId": "1eeafae6-b4d0-4ab1-d956-bce6f87182cd"
      },
      "execution_count": 35,
      "outputs": [
        {
          "name": "stdout",
          "output_type": "stream",
          "text": [
            "10 20 30\n"
          ]
        },
        {
          "output_type": "execute_result",
          "data": {
            "text/plain": [
              "('10', '20', '30')"
            ]
          },
          "metadata": {},
          "execution_count": 35
        }
      ]
    },
    {
      "cell_type": "code",
      "source": [
        "x, y, z = map(int, input().split())\n",
        "x, y, z"
      ],
      "metadata": {
        "colab": {
          "base_uri": "https://localhost:8080/"
        },
        "id": "FCUycXyTqdN7",
        "outputId": "aef4625b-6cbc-4b5a-f15e-2f38d78c5f8d"
      },
      "execution_count": 36,
      "outputs": [
        {
          "name": "stdout",
          "output_type": "stream",
          "text": [
            "10 20 30\n"
          ]
        },
        {
          "output_type": "execute_result",
          "data": {
            "text/plain": [
              "(10, 20, 30)"
            ]
          },
          "metadata": {},
          "execution_count": 36
        }
      ]
    },
    {
      "cell_type": "code",
      "source": [
        "x, y, z = map(lambda x: int(x)*2 + 5, input().split())\n",
        "x, y, z"
      ],
      "metadata": {
        "colab": {
          "base_uri": "https://localhost:8080/"
        },
        "id": "991HS9NCqq9F",
        "outputId": "601b5d85-89c3-443b-b512-4fe47f5843bd"
      },
      "execution_count": 37,
      "outputs": [
        {
          "name": "stdout",
          "output_type": "stream",
          "text": [
            "10 20 30\n"
          ]
        },
        {
          "output_type": "execute_result",
          "data": {
            "text/plain": [
              "(25, 45, 65)"
            ]
          },
          "metadata": {},
          "execution_count": 37
        }
      ]
    },
    {
      "cell_type": "code",
      "source": [
        ""
      ],
      "metadata": {
        "id": "KOF7roHzq4XT"
      },
      "execution_count": null,
      "outputs": []
    }
  ]
}
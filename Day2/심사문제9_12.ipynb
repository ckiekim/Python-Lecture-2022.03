{
  "nbformat": 4,
  "nbformat_minor": 0,
  "metadata": {
    "colab": {
      "name": "심사문제9-12.ipynb",
      "provenance": [],
      "collapsed_sections": []
    },
    "kernelspec": {
      "name": "python3",
      "display_name": "Python 3"
    },
    "language_info": {
      "name": "python"
    }
  },
  "cells": [
    {
      "cell_type": "markdown",
      "source": [
        "### 심사문제 9.4\n",
        "<pre>\n",
        "다음 소스 코드를 완성하여 실행 결과대로 문자열이 출력되게 만드세요.\n",
        "</pre>"
      ],
      "metadata": {
        "id": "3Be-9Zr4_Gya"
      }
    },
    {
      "cell_type": "code",
      "source": [
        "s = \"\"\"'Python' is a \"programming language\"\n",
        "that lets you work quickly\n",
        "and\n",
        "integrate systems more effectively.\"\"\"\n",
        "print(s)"
      ],
      "metadata": {
        "id": "xfUGvyVchcyA",
        "colab": {
          "base_uri": "https://localhost:8080/"
        },
        "outputId": "5bbfb027-77f9-4061-8145-343f50144b4a"
      },
      "execution_count": 1,
      "outputs": [
        {
          "output_type": "stream",
          "name": "stdout",
          "text": [
            "'Python' is a \"programming language\"\n",
            "that lets you work quickly\n",
            "and\n",
            "integrate systems more effectively.\n"
          ]
        }
      ]
    },
    {
      "cell_type": "markdown",
      "source": [
        "### 심사문제 10.5\n",
        "<pre>\n",
        "표준 입력으로 정수가 입력됩니다. \n",
        "range의 시작하는 숫자는 -10, 끝나는 숫자는 10이며 입력된 정수만큼 증가하는 숫자가 들어가도록 튜플을 만들고, \n",
        "해당 튜플을 출력하는 프로그램을 만드세요(input에서 안내 문자열은 출력하지 않아야 합니다).\n",
        "</pre>"
      ],
      "metadata": {
        "id": "cOcosz2PACf4"
      }
    },
    {
      "cell_type": "code",
      "source": [
        "inc = int(input())\n",
        "t = tuple(range(-10,10,inc))\n",
        "print(t)"
      ],
      "metadata": {
        "id": "PdMSz25h_75V",
        "colab": {
          "base_uri": "https://localhost:8080/"
        },
        "outputId": "975a4c37-74a9-4719-9231-fa9fa854935d"
      },
      "execution_count": 4,
      "outputs": [
        {
          "output_type": "stream",
          "name": "stdout",
          "text": [
            "3\n",
            "(-10, -7, -4, -1, 2, 5, 8)\n"
          ]
        }
      ]
    },
    {
      "cell_type": "markdown",
      "source": [
        "### 심사문제 11.8\n",
        "<pre>\n",
        "표준 입력으로 숫자 또는 문자열 여러 개가 입력되어 리스트 x에 저장됩니다(입력되는 숫자 또는 문자열의 개수는 정해져 있지 않음). \n",
        "다음 소스 코드를 완성하여 리스트 x의 마지막 요소 5개를 삭제한 뒤 튜플로 출력되게 만드세요.\n",
        "</pre>"
      ],
      "metadata": {
        "id": "ju9tNL07AXoU"
      }
    },
    {
      "cell_type": "code",
      "source": [
        "x = input().split()\n",
        "del x[-5:]\n",
        "print(tuple(x))"
      ],
      "metadata": {
        "id": "h8LN1bb7AWAC",
        "colab": {
          "base_uri": "https://localhost:8080/"
        },
        "outputId": "f150706f-7fc6-41f3-dff4-eb2dec0b9dbe"
      },
      "execution_count": 5,
      "outputs": [
        {
          "output_type": "stream",
          "name": "stdout",
          "text": [
            "1 2 3 4 5 6 7 8 9 10\n",
            "('1', '2', '3', '4', '5')\n"
          ]
        }
      ]
    },
    {
      "cell_type": "markdown",
      "source": [
        "### 심사문제 11.9\n",
        "<pre>\n",
        "표준 입력으로 문자열 두 개가 각 줄에 입력됩니다(문자열의 길이는 정해져 있지 않음). \n",
        "첫 번째 문자열에서 인덱스가 홀수인 문자와 두 번째 문자열에서 인덱스가 짝수인 문자를 연결하여 출력하는 \n",
        "프로그램을 만드세요(input에서 안내 문자열은 출력하지 않아야 합니다). \n",
        "연결 순서는 첫 번째 문자열, 두 번째 문자열 순입니다. \n",
        "그리고 0은 짝수로 처리합니다.\n",
        "</pre>"
      ],
      "metadata": {
        "id": "7MPEenRFAmHB"
      }
    },
    {
      "cell_type": "code",
      "source": [
        "first = input() \n",
        "second = input()\n",
        "print(first[1::2] + second[::2])"
      ],
      "metadata": {
        "id": "1t09eRMSAnRu",
        "colab": {
          "base_uri": "https://localhost:8080/"
        },
        "outputId": "9b92f03e-f105-4102-bc0c-021fb0b874e7"
      },
      "execution_count": 7,
      "outputs": [
        {
          "output_type": "stream",
          "name": "stdout",
          "text": [
            "python\n",
            "python\n",
            "yhnpto\n"
          ]
        }
      ]
    },
    {
      "cell_type": "code",
      "source": [
        "first, second = input().split()\n",
        "print(first[1::2] + second[::2])"
      ],
      "metadata": {
        "id": "dWl_3f8pD636",
        "colab": {
          "base_uri": "https://localhost:8080/"
        },
        "outputId": "bb8caebe-788c-4a52-b6b4-f15f820876f4"
      },
      "execution_count": 8,
      "outputs": [
        {
          "output_type": "stream",
          "name": "stdout",
          "text": [
            "apple strawberry\n",
            "plsrwer\n"
          ]
        }
      ]
    },
    {
      "cell_type": "markdown",
      "source": [
        "### 심사문제 12.5\n",
        "<pre>\n",
        "표준 입력으로 문자열 여러 개와 숫자(실수) 여러 개가 두 줄로 입력됩니다. \n",
        "입력된 첫 번째 줄은 키, 두 번째 줄은 값으로 하여 딕셔너리를 생성한 뒤 딕셔너리를 출력하는 프로그램을 만드세요. \n",
        "input().split()의 결과를 변수 한 개에 저장하면 리스트로 저장됩니다.\n",
        "</pre>"
      ],
      "metadata": {
        "id": "yqM-mqLxAn93"
      }
    },
    {
      "cell_type": "code",
      "source": [
        "keys = input().split()\n",
        "values = map(float, input().split())\n",
        "d = dict(zip(keys, values))\n",
        "print(d)"
      ],
      "metadata": {
        "id": "3TR0lDOYAo-Z",
        "colab": {
          "base_uri": "https://localhost:8080/"
        },
        "outputId": "b0068c77-9edd-4e99-e7a3-bef26ccec680"
      },
      "execution_count": 9,
      "outputs": [
        {
          "output_type": "stream",
          "name": "stdout",
          "text": [
            "a b c d\n",
            "3.1 2.3 4.5 9.1\n",
            "{'a': 3.1, 'b': 2.3, 'c': 4.5, 'd': 9.1}\n"
          ]
        }
      ]
    },
    {
      "cell_type": "markdown",
      "source": [
        "### HTML로 변환"
      ],
      "metadata": {
        "id": "lu3WHhGGFd3V"
      }
    },
    {
      "cell_type": "code",
      "source": [
        "%%shell\n",
        "jupyter nbconvert --to html /content/drive/MyDrive/\"Colab Notebooks\"/심사문제9-12.ipynb"
      ],
      "metadata": {
        "id": "ryqed1hNIeVD",
        "colab": {
          "base_uri": "https://localhost:8080/"
        },
        "outputId": "2736df48-94e3-4f3a-e57d-1817912343ee"
      },
      "execution_count": 10,
      "outputs": [
        {
          "output_type": "stream",
          "name": "stdout",
          "text": [
            "[NbConvertApp] Converting notebook /content/drive/MyDrive/Colab Notebooks/심사문제9-12.ipynb to html\n",
            "[NbConvertApp] Writing 282052 bytes to /content/drive/MyDrive/Colab Notebooks/심사문제9-12.html\n"
          ]
        },
        {
          "output_type": "execute_result",
          "data": {
            "text/plain": [
              ""
            ]
          },
          "metadata": {},
          "execution_count": 10
        }
      ]
    }
  ]
}
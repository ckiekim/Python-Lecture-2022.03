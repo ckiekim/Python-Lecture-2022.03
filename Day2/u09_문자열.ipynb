{
  "nbformat": 4,
  "nbformat_minor": 0,
  "metadata": {
    "colab": {
      "name": "u09_문자열.ipynb",
      "provenance": []
    },
    "kernelspec": {
      "name": "python3",
      "display_name": "Python 3"
    },
    "language_info": {
      "name": "python"
    }
  },
  "cells": [
    {
      "cell_type": "markdown",
      "source": [
        "# Unit 9. 문자열(String)"
      ],
      "metadata": {
        "id": "V5PSigSscPHK"
      }
    },
    {
      "cell_type": "markdown",
      "source": [
        "### 9.1 문자열 사용"
      ],
      "metadata": {
        "id": "vv28EJ7WebfL"
      }
    },
    {
      "cell_type": "code",
      "execution_count": 1,
      "metadata": {
        "colab": {
          "base_uri": "https://localhost:8080/",
          "height": 36
        },
        "id": "RWkvW9ctcN7x",
        "outputId": "d6675aff-d08d-4057-d4e0-f23f96c1e448"
      },
      "outputs": [
        {
          "output_type": "execute_result",
          "data": {
            "text/plain": [
              "'Hello, world!\\n안녕하세요.\\nPython입니다.'"
            ],
            "application/vnd.google.colaboratory.intrinsic+json": {
              "type": "string"
            }
          },
          "metadata": {},
          "execution_count": 1
        }
      ],
      "source": [
        "multi_line = '''Hello, world!\n",
        "안녕하세요.\n",
        "Python입니다.'''\n",
        "multi_line"
      ]
    },
    {
      "cell_type": "code",
      "source": [
        "print(multi_line)"
      ],
      "metadata": {
        "colab": {
          "base_uri": "https://localhost:8080/"
        },
        "id": "b5bfA54Yc75d",
        "outputId": "680ebe61-05e5-4cb0-b3c3-958389ee1b48"
      },
      "execution_count": 2,
      "outputs": [
        {
          "output_type": "stream",
          "name": "stdout",
          "text": [
            "Hello, world!\n",
            "안녕하세요.\n",
            "Python입니다.\n"
          ]
        }
      ]
    },
    {
      "cell_type": "code",
      "source": [
        "s1 = \"Python isn't difficult.\"\n",
        "s2 = 'He said. \"They are all well.\"'\n",
        "print(s1, s2)"
      ],
      "metadata": {
        "colab": {
          "base_uri": "https://localhost:8080/"
        },
        "id": "DGOSSgWidBDr",
        "outputId": "eca58584-6eb9-4a25-fa81-03d885044242"
      },
      "execution_count": 4,
      "outputs": [
        {
          "output_type": "stream",
          "name": "stdout",
          "text": [
            "Python isn't difficult. He said. \"They are all well.\"\n"
          ]
        }
      ]
    },
    {
      "cell_type": "code",
      "source": [
        "s = 'Python isn\\'t difficult.'\n",
        "s"
      ],
      "metadata": {
        "colab": {
          "base_uri": "https://localhost:8080/",
          "height": 36
        },
        "id": "0jERvjA4dkZm",
        "outputId": "e7797363-f0a3-41f4-ba01-8782ebbb3d47"
      },
      "execution_count": 5,
      "outputs": [
        {
          "output_type": "execute_result",
          "data": {
            "text/plain": [
              "\"Python isn't difficult.\""
            ],
            "application/vnd.google.colaboratory.intrinsic+json": {
              "type": "string"
            }
          },
          "metadata": {},
          "execution_count": 5
        }
      ]
    },
    {
      "cell_type": "code",
      "source": [
        "s = '안녕하세요?'\n",
        "s"
      ],
      "metadata": {
        "colab": {
          "base_uri": "https://localhost:8080/",
          "height": 36
        },
        "id": "CyOJsTHzd0m0",
        "outputId": "4e03b698-7a66-49e7-edf4-bdee24de7055"
      },
      "execution_count": 6,
      "outputs": [
        {
          "output_type": "execute_result",
          "data": {
            "text/plain": [
              "'안녕하세요?'"
            ],
            "application/vnd.google.colaboratory.intrinsic+json": {
              "type": "string"
            }
          },
          "metadata": {},
          "execution_count": 6
        }
      ]
    },
    {
      "cell_type": "code",
      "source": [
        ""
      ],
      "metadata": {
        "id": "7vcmclrleH7q"
      },
      "execution_count": null,
      "outputs": []
    }
  ]
}
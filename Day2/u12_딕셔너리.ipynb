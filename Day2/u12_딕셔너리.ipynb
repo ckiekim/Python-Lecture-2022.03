{
  "nbformat": 4,
  "nbformat_minor": 0,
  "metadata": {
    "colab": {
      "name": "u12_딕셔너리.ipynb",
      "provenance": []
    },
    "kernelspec": {
      "name": "python3",
      "display_name": "Python 3"
    },
    "language_info": {
      "name": "python"
    }
  },
  "cells": [
    {
      "cell_type": "markdown",
      "source": [
        "# Unit 12. 딕셔너리(Dictionary)"
      ],
      "metadata": {
        "id": "Q4tf0uIuU7qp"
      }
    },
    {
      "cell_type": "code",
      "execution_count": 1,
      "metadata": {
        "colab": {
          "base_uri": "https://localhost:8080/"
        },
        "id": "Zi_dLL__U1yB",
        "outputId": "fa2e3d0e-c72f-46e8-cedc-d8868021aaad"
      },
      "outputs": [
        {
          "output_type": "execute_result",
          "data": {
            "text/plain": [
              "{'armor': 18.72, 'health': 490, 'mana': 334, 'melee': 550}"
            ]
          },
          "metadata": {},
          "execution_count": 1
        }
      ],
      "source": [
        "lux1 = [490, 334, 550, 18.72]\n",
        "lux2 = {'health':490, 'mana':334, 'melee':550, 'armor':18.72}\n",
        "lux2"
      ]
    },
    {
      "cell_type": "code",
      "source": [
        "armor = lux1[-1]\n",
        "armor"
      ],
      "metadata": {
        "colab": {
          "base_uri": "https://localhost:8080/"
        },
        "id": "wC-fQsgcXC8I",
        "outputId": "b60e51bb-66bd-499e-e0ea-d1ea0b571e3d"
      },
      "execution_count": 4,
      "outputs": [
        {
          "output_type": "execute_result",
          "data": {
            "text/plain": [
              "18.72"
            ]
          },
          "metadata": {},
          "execution_count": 4
        }
      ]
    },
    {
      "cell_type": "code",
      "source": [
        "armor = lux2['armor']\n",
        "armor"
      ],
      "metadata": {
        "colab": {
          "base_uri": "https://localhost:8080/"
        },
        "id": "VzbndAwcXIi1",
        "outputId": "4d6b3990-a5c3-49c1-8ae9-aeddbe98ecaf"
      },
      "execution_count": 5,
      "outputs": [
        {
          "output_type": "execute_result",
          "data": {
            "text/plain": [
              "18.72"
            ]
          },
          "metadata": {},
          "execution_count": 5
        }
      ]
    },
    {
      "cell_type": "markdown",
      "source": [
        "### 12.1 딕셔너리 만들기"
      ],
      "metadata": {
        "id": "ZODuA0wKXZyQ"
      }
    },
    {
      "cell_type": "code",
      "source": [
        "# key값의 순서가 보장되지 않음\n",
        "lux = {'health':490, 'mana':334, 'melee':550, 'armor':18.72}\n",
        "lux"
      ],
      "metadata": {
        "colab": {
          "base_uri": "https://localhost:8080/"
        },
        "id": "cgN0woY6XOYe",
        "outputId": "dee282cb-9bfa-4d2c-8573-90bef7131944"
      },
      "execution_count": 6,
      "outputs": [
        {
          "output_type": "execute_result",
          "data": {
            "text/plain": [
              "{'armor': 18.72, 'health': 490, 'mana': 334, 'melee': 550}"
            ]
          },
          "metadata": {},
          "execution_count": 6
        }
      ]
    },
    {
      "cell_type": "code",
      "source": [
        "lux = {'health':490, 'mana':334, 'melee':550, 'armor':18.72, 'mana':430}\n",
        "lux"
      ],
      "metadata": {
        "colab": {
          "base_uri": "https://localhost:8080/"
        },
        "id": "eBblYOoyXk6f",
        "outputId": "a169dbc4-6ba6-4989-fee6-e98de83613e1"
      },
      "execution_count": 7,
      "outputs": [
        {
          "output_type": "execute_result",
          "data": {
            "text/plain": [
              "{'armor': 18.72, 'health': 490, 'mana': 430, 'melee': 550}"
            ]
          },
          "metadata": {},
          "execution_count": 7
        }
      ]
    },
    {
      "cell_type": "code",
      "source": [
        "# key값의 순서(입력한 순서)가 보장\n",
        "from collections import OrderedDict\n",
        "d = OrderedDict()\n",
        "d['health'] = 490\n",
        "d['mana'] = 334\n",
        "d['armor'] = 18.72\n",
        "d"
      ],
      "metadata": {
        "colab": {
          "base_uri": "https://localhost:8080/"
        },
        "id": "8MQGj4nRXxME",
        "outputId": "37b35cba-c88c-4a36-e93e-904ca51c2efe"
      },
      "execution_count": 8,
      "outputs": [
        {
          "output_type": "execute_result",
          "data": {
            "text/plain": [
              "OrderedDict([('health', 490), ('mana', 334), ('armor', 18.72)])"
            ]
          },
          "metadata": {},
          "execution_count": 8
        }
      ]
    },
    {
      "cell_type": "markdown",
      "source": [
        "- 빈 딕셔너리 생성"
      ],
      "metadata": {
        "id": "Ayok3semZPS0"
      }
    },
    {
      "cell_type": "code",
      "source": [
        "a = {}\n",
        "b = dict()\n",
        "type(a), type(b)"
      ],
      "metadata": {
        "colab": {
          "base_uri": "https://localhost:8080/"
        },
        "id": "1eBHxq5SYRpG",
        "outputId": "a2aa19a8-722e-44ff-a520-e1e38595a279"
      },
      "execution_count": 9,
      "outputs": [
        {
          "output_type": "execute_result",
          "data": {
            "text/plain": [
              "(dict, dict)"
            ]
          },
          "metadata": {},
          "execution_count": 9
        }
      ]
    },
    {
      "cell_type": "code",
      "source": [
        "c = set([1,2,3])\n",
        "type(c)"
      ],
      "metadata": {
        "colab": {
          "base_uri": "https://localhost:8080/"
        },
        "id": "uH12yBQvZYAQ",
        "outputId": "79a90f9e-21ab-4f84-a272-db07de99fbb9"
      },
      "execution_count": 12,
      "outputs": [
        {
          "output_type": "execute_result",
          "data": {
            "text/plain": [
              "set"
            ]
          },
          "metadata": {},
          "execution_count": 12
        }
      ]
    },
    {
      "cell_type": "code",
      "source": [
        "c"
      ],
      "metadata": {
        "colab": {
          "base_uri": "https://localhost:8080/"
        },
        "id": "93lNvkvLZeXk",
        "outputId": "c098e3cf-25f1-416e-e8dc-0491043d5cf0"
      },
      "execution_count": 13,
      "outputs": [
        {
          "output_type": "execute_result",
          "data": {
            "text/plain": [
              "{1, 2, 3}"
            ]
          },
          "metadata": {},
          "execution_count": 13
        }
      ]
    },
    {
      "cell_type": "markdown",
      "source": [
        "- dict() 로 딕셔너리 생성"
      ],
      "metadata": {
        "id": "8kNn5aEhZ1T2"
      }
    },
    {
      "cell_type": "code",
      "source": [
        "lux1 = dict(health=490, mana=334, melee=550, armor=18.72)    # 키=값 형식\n",
        "lux1"
      ],
      "metadata": {
        "colab": {
          "base_uri": "https://localhost:8080/"
        },
        "id": "Wk8ahalWZfog",
        "outputId": "fbb7c885-6980-41ad-f475-7d70e1af8fc7"
      },
      "execution_count": 14,
      "outputs": [
        {
          "output_type": "execute_result",
          "data": {
            "text/plain": [
              "{'armor': 18.72, 'health': 490, 'mana': 334, 'melee': 550}"
            ]
          },
          "metadata": {},
          "execution_count": 14
        }
      ]
    },
    {
      "cell_type": "code",
      "source": [
        "keys = ['health','mana','melee','armor']\n",
        "values = [490, 334, 550, 18.72]\n",
        "list(zip(keys, values))"
      ],
      "metadata": {
        "colab": {
          "base_uri": "https://localhost:8080/"
        },
        "id": "y8PIJEJbaDCv",
        "outputId": "6fbfe0f0-2904-4228-cf6c-a2b2c2347e9e"
      },
      "execution_count": 16,
      "outputs": [
        {
          "output_type": "execute_result",
          "data": {
            "text/plain": [
              "[('health', 490), ('mana', 334), ('melee', 550), ('armor', 18.72)]"
            ]
          },
          "metadata": {},
          "execution_count": 16
        }
      ]
    },
    {
      "cell_type": "code",
      "source": [
        "lux2 = dict(zip(keys, values))\n",
        "lux2"
      ],
      "metadata": {
        "colab": {
          "base_uri": "https://localhost:8080/"
        },
        "id": "w430c1vbacX-",
        "outputId": "aaac4fb5-8016-4f8c-ad7b-d73c0ea9a490"
      },
      "execution_count": 17,
      "outputs": [
        {
          "output_type": "execute_result",
          "data": {
            "text/plain": [
              "{'armor': 18.72, 'health': 490, 'mana': 334, 'melee': 550}"
            ]
          },
          "metadata": {},
          "execution_count": 17
        }
      ]
    },
    {
      "cell_type": "code",
      "source": [
        "lux3 = dict([('health', 490), ('mana', 334), ('melee', 550), ('armor', 18.72)])\n",
        "lux3"
      ],
      "metadata": {
        "colab": {
          "base_uri": "https://localhost:8080/"
        },
        "id": "d6raTq41as91",
        "outputId": "6cddda8f-08f0-46d4-dcef-2de137f8c0f1"
      },
      "execution_count": 18,
      "outputs": [
        {
          "output_type": "execute_result",
          "data": {
            "text/plain": [
              "{'armor': 18.72, 'health': 490, 'mana': 334, 'melee': 550}"
            ]
          },
          "metadata": {},
          "execution_count": 18
        }
      ]
    },
    {
      "cell_type": "code",
      "source": [
        "lux4 = dict({'health':490, 'mana':334, 'melee':550, 'armor':18.72})\n",
        "lux4"
      ],
      "metadata": {
        "colab": {
          "base_uri": "https://localhost:8080/"
        },
        "id": "vmmmCASOa9mm",
        "outputId": "cc49f6bf-f7cc-42f3-a6ef-3b6e9d83a1f7"
      },
      "execution_count": 20,
      "outputs": [
        {
          "output_type": "execute_result",
          "data": {
            "text/plain": [
              "{'armor': 18.72, 'health': 490, 'mana': 334, 'melee': 550}"
            ]
          },
          "metadata": {},
          "execution_count": 20
        }
      ]
    },
    {
      "cell_type": "markdown",
      "source": [
        "- 추천 방법"
      ],
      "metadata": {
        "id": "iHaf4IGNbhrO"
      }
    },
    {
      "cell_type": "code",
      "source": [
        "lux = {'health':490, 'mana':334, 'melee':550, 'armor':18.72}\n",
        "lux2 = dict(zip(keys, values))"
      ],
      "metadata": {
        "id": "uyt-1dFlbGmF"
      },
      "execution_count": 21,
      "outputs": []
    },
    {
      "cell_type": "markdown",
      "source": [
        "### 12.2 딕셔너리 키에 접근하고 값 할당하기"
      ],
      "metadata": {
        "id": "YXTbYh-OcwEu"
      }
    },
    {
      "cell_type": "code",
      "source": [
        "lux['mana']"
      ],
      "metadata": {
        "colab": {
          "base_uri": "https://localhost:8080/"
        },
        "id": "LG2P4s0abrUt",
        "outputId": "33e32996-2e33-4127-8790-f0fedce773fe"
      },
      "execution_count": 22,
      "outputs": [
        {
          "output_type": "execute_result",
          "data": {
            "text/plain": [
              "334"
            ]
          },
          "metadata": {},
          "execution_count": 22
        }
      ]
    },
    {
      "cell_type": "code",
      "source": [
        "lux['armor'] = 21.34\n",
        "lux"
      ],
      "metadata": {
        "colab": {
          "base_uri": "https://localhost:8080/"
        },
        "id": "E0DlztX5c-Cg",
        "outputId": "a1028732-ec17-424f-aeb4-16eee5c9dd3e"
      },
      "execution_count": 23,
      "outputs": [
        {
          "output_type": "execute_result",
          "data": {
            "text/plain": [
              "{'armor': 21.34, 'health': 490, 'mana': 334, 'melee': 550}"
            ]
          },
          "metadata": {},
          "execution_count": 23
        }
      ]
    },
    {
      "cell_type": "code",
      "source": [
        "lux['new'] = 'Kim'\n",
        "lux"
      ],
      "metadata": {
        "colab": {
          "base_uri": "https://localhost:8080/"
        },
        "id": "OsolyUXtdHER",
        "outputId": "0b50caec-c2b0-418c-83c9-7f12edc1f1e8"
      },
      "execution_count": 24,
      "outputs": [
        {
          "output_type": "execute_result",
          "data": {
            "text/plain": [
              "{'armor': 21.34, 'health': 490, 'mana': 334, 'melee': 550, 'new': 'Kim'}"
            ]
          },
          "metadata": {},
          "execution_count": 24
        }
      ]
    },
    {
      "cell_type": "code",
      "source": [
        "lux['origin']"
      ],
      "metadata": {
        "colab": {
          "base_uri": "https://localhost:8080/",
          "height": 177
        },
        "id": "gCm9ZAoKdQRT",
        "outputId": "c80b54e6-4a47-4292-f00d-6a89099c0d0f"
      },
      "execution_count": 25,
      "outputs": [
        {
          "output_type": "error",
          "ename": "KeyError",
          "evalue": "ignored",
          "traceback": [
            "\u001b[0;31m---------------------------------------------------------------------------\u001b[0m",
            "\u001b[0;31mKeyError\u001b[0m                                  Traceback (most recent call last)",
            "\u001b[0;32m<ipython-input-25-69b3bda4e409>\u001b[0m in \u001b[0;36m<module>\u001b[0;34m()\u001b[0m\n\u001b[0;32m----> 1\u001b[0;31m \u001b[0mlux\u001b[0m\u001b[0;34m[\u001b[0m\u001b[0;34m'origin'\u001b[0m\u001b[0;34m]\u001b[0m\u001b[0;34m\u001b[0m\u001b[0;34m\u001b[0m\u001b[0m\n\u001b[0m",
            "\u001b[0;31mKeyError\u001b[0m: 'origin'"
          ]
        }
      ]
    },
    {
      "cell_type": "markdown",
      "source": [
        "- in 연산자: key 가 있는지 확인"
      ],
      "metadata": {
        "id": "PELGIId4gzAg"
      }
    },
    {
      "cell_type": "code",
      "source": [
        "'health' in lux"
      ],
      "metadata": {
        "colab": {
          "base_uri": "https://localhost:8080/"
        },
        "id": "FB1amNVDeCNB",
        "outputId": "9c5bc1b9-229e-4c8a-ee73-b3d63bead87e"
      },
      "execution_count": 26,
      "outputs": [
        {
          "output_type": "execute_result",
          "data": {
            "text/plain": [
              "True"
            ]
          },
          "metadata": {},
          "execution_count": 26
        }
      ]
    },
    {
      "cell_type": "markdown",
      "source": [
        "- key 갯수"
      ],
      "metadata": {
        "id": "TB-Ci4Nag_Th"
      }
    },
    {
      "cell_type": "code",
      "source": [
        "len(lux)"
      ],
      "metadata": {
        "colab": {
          "base_uri": "https://localhost:8080/"
        },
        "id": "ZaU-JO_ag66O",
        "outputId": "f5c4e327-1f20-40cd-8f7f-66d7dff25016"
      },
      "execution_count": 27,
      "outputs": [
        {
          "output_type": "execute_result",
          "data": {
            "text/plain": [
              "5"
            ]
          },
          "metadata": {},
          "execution_count": 27
        }
      ]
    },
    {
      "cell_type": "code",
      "source": [
        "lux"
      ],
      "metadata": {
        "colab": {
          "base_uri": "https://localhost:8080/"
        },
        "id": "8dcg73lbhBwo",
        "outputId": "702f51ae-973d-43e1-ee6c-3e0854f4f5b2"
      },
      "execution_count": 28,
      "outputs": [
        {
          "output_type": "execute_result",
          "data": {
            "text/plain": [
              "{'armor': 21.34, 'health': 490, 'mana': 334, 'melee': 550, 'new': 'Kim'}"
            ]
          },
          "metadata": {},
          "execution_count": 28
        }
      ]
    },
    {
      "cell_type": "code",
      "source": [
        ""
      ],
      "metadata": {
        "id": "MueYLm8ghC5W"
      },
      "execution_count": null,
      "outputs": []
    }
  ]
}
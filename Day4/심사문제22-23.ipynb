{
 "cells": [
  {
   "cell_type": "markdown",
   "metadata": {},
   "source": [
    "### 심사문제 22.10\n",
    "<pre>\n",
    "표준 입력으로 정수 두 개가 입력됩니다(첫 번째 입력 값의 범위는 1~20, \n",
    "두 번째 입력 값의 범위는 10~30이며 첫 번째 입력 값은 두 번째 입력 값보다 항상 작습니다). \n",
    "첫 번째 정수부터 두 번째 정수까지를 지수로 하는 2의 거듭제곱 리스트를 \n",
    "출력하는 프로그램을 만드세요(input에서 안내 문자열은 출력하지 않아야 합니다). \n",
    "단, 리스트의 두 번째 요소와 뒤에서 두 번째 요소는 삭제한 뒤 출력하세요. \n",
    "출력 결과는 리스트 형태라야 합니다.\n",
    "</pre>"
   ]
  },
  {
   "cell_type": "code",
   "execution_count": 9,
   "metadata": {},
   "outputs": [
    {
     "name": "stdout",
     "output_type": "stream",
     "text": [
      "[2, 8, 16, 32, 64, 128, 256, 512, 1024, 2048, 4096, 8192, 16384, 32768, 65536, 131072, 262144, 1048576]\n"
     ]
    }
   ],
   "source": [
    "m, n = map(int, input().split())\n",
    "if 1 <= m <= 20 and 10 <= n <= 30 and m < n:\n",
    "    power_list = []\n",
    "    for i in range(m, n+1):\n",
    "        power_list.append(2 ** i)\n",
    "    del power_list[1], power_list[-2]\n",
    "    print(power_list)"
   ]
  },
  {
   "cell_type": "code",
   "execution_count": 10,
   "metadata": {},
   "outputs": [
    {
     "name": "stdout",
     "output_type": "stream",
     "text": [
      "[2, 8, 16, 32, 64, 128, 256, 512, 1024, 2048, 4096, 8192, 16384, 32768, 65536, 131072, 262144, 1048576]\n"
     ]
    }
   ],
   "source": [
    "m, n = map(int, input().split())\n",
    "power_list = [2**i for i in range(m, n+1)]\n",
    "del power_list[1], power_list[-2]\n",
    "print(power_list)"
   ]
  },
  {
   "cell_type": "markdown",
   "metadata": {},
   "source": [
    "### 심사문제 23.7\n",
    "<pre>\n",
    "표준 입력으로 2차원 리스트의 가로(col)와 세로(row)가 입력되고 \n",
    "그 다음 줄부터 리스트의 요소로 들어갈 문자가 입력됩니다. \n",
    "이때 2차원 리스트 안에서 *는 지뢰이고 .은 지뢰가 아닙니다. \n",
    "지뢰가 아닌 요소에는 인접한 지뢰의 개수를 출력하는 프로그램을 만드세요.\n",
    "\n",
    "여러 줄을 입력 받으려면 다음과 같이 for 반복문에서 input을 호출한 뒤 \n",
    "append로 각 줄을 추가하면 됩니다\n",
    "(list 안에 문자열을 넣으면 문자열이 문자 리스트로 변환됩니다).\n",
    "</pre>"
   ]
  },
  {
   "cell_type": "code",
   "execution_count": 13,
   "metadata": {},
   "outputs": [
    {
     "name": "stdout",
     "output_type": "stream",
     "text": [
      "* * . * . . . . \n",
      "* * * . . * * . \n",
      "* . . * . . * . \n",
      ". . . * . . . * \n",
      ". . * . . . . . \n",
      ". . . * . . . * \n",
      ". . . . * . . * \n",
      ". . * . * . . . \n"
     ]
    }
   ],
   "source": [
    "import random\n",
    "N = 8\n",
    "mines = []\n",
    "for _ in range(N):\n",
    "    row = []\n",
    "    for _ in range(N):\n",
    "        if random.random() > 0.7:\n",
    "            row.append('*')\n",
    "        else:\n",
    "            row.append('.')\n",
    "    mines.append(row)\n",
    "\n",
    "for row in mines:\n",
    "    for element in row:\n",
    "        print(element, end=' ')\n",
    "    print()"
   ]
  },
  {
   "cell_type": "code",
   "execution_count": 14,
   "metadata": {},
   "outputs": [],
   "source": [
    "def print_mines(mat):\n",
    "    for row in mat:\n",
    "        for element in row:\n",
    "            print(element, end=' ')\n",
    "        print()"
   ]
  },
  {
   "cell_type": "code",
   "execution_count": 15,
   "metadata": {},
   "outputs": [
    {
     "name": "stdout",
     "output_type": "stream",
     "text": [
      ". . . * * * \n",
      ". . * . . . \n",
      ". * . * * . \n",
      ". . . . * . \n",
      "* . . * * . \n",
      "* . . . . . \n"
     ]
    }
   ],
   "source": [
    "N = int(input())\n",
    "mines = [['*' if random.random() > 0.7 else '.' for _ in range(N)] for _ in range(N)]\n",
    "print_mines(mines)"
   ]
  },
  {
   "cell_type": "code",
   "execution_count": 17,
   "metadata": {},
   "outputs": [
    {
     "data": {
      "text/plain": [
       "['.', ['*', '*', '*', '*', '*', '*']]"
      ]
     },
     "execution_count": 17,
     "metadata": {},
     "output_type": "execute_result"
    }
   ],
   "source": [
    "line = ['.']\n",
    "line.append(['*']*6)\n",
    "line"
   ]
  },
  {
   "cell_type": "code",
   "execution_count": 19,
   "metadata": {},
   "outputs": [
    {
     "name": "stdout",
     "output_type": "stream",
     "text": [
      ". . . . . . . . \n",
      ". . . . * * * . \n",
      ". . . * . . . . \n",
      ". . * . * * . . \n",
      ". . . . . * . . \n",
      ". * . . * * . . \n",
      ". * . . . . . . \n",
      ". . . . . . . . \n"
     ]
    }
   ],
   "source": [
    "pad_mines = []\n",
    "pad_mines.append(['.'] * (N+2))\n",
    "for row in mines:\n",
    "    line = ['.']\n",
    "    line.extend(row)\n",
    "    ''' for element in row:\n",
    "            line.append(element) '''\n",
    "    line.append('.')\n",
    "    pad_mines.append(line)\n",
    "pad_mines.append(['.'] * (N+2))\n",
    "print_mines(pad_mines)"
   ]
  },
  {
   "cell_type": "code",
   "execution_count": 20,
   "metadata": {},
   "outputs": [
    {
     "name": "stdout",
     "output_type": "stream",
     "text": [
      "0 1 2 * * * \n",
      "1 2 * 5 5 3 \n",
      "1 * 3 * * 2 \n",
      "2 2 3 5 * 3 \n",
      "* 2 1 * * 2 \n",
      "* 2 1 2 2 1 \n"
     ]
    }
   ],
   "source": [
    "final_mines = []\n",
    "for i in range(1, N+1):\n",
    "    row = []\n",
    "    for k in range(1, N+1):\n",
    "        if pad_mines[i][k] == '*':\n",
    "            row.append('*')\n",
    "        else:\n",
    "            count = (pad_mines[i-1][k-1]=='*') + (pad_mines[i-1][k]=='*') + (pad_mines[i-1][k+1]=='*') + \\\n",
    "                    (pad_mines[i][k-1]=='*') +                              (pad_mines[i][k+1]=='*') + \\\n",
    "                    (pad_mines[i+1][k-1]=='*') + (pad_mines[i+1][k]=='*') + (pad_mines[i+1][k+1]=='*')\n",
    "            row.append(str(count))\n",
    "    final_mines.append(row)\n",
    "\n",
    "print_mines(final_mines)"
   ]
  },
  {
   "cell_type": "markdown",
   "metadata": {},
   "source": [
    "연습문제\n",
    "<pre>\n",
    "a + b + c = 1000, a < b < c 를 만족하고,\n",
    "a*a + b*b = c*c 를 만족하는 피타고라스 수 a, b, c 는?\n",
    "</pre>"
   ]
  },
  {
   "cell_type": "code",
   "execution_count": null,
   "metadata": {},
   "outputs": [],
   "source": []
  }
 ],
 "metadata": {
  "interpreter": {
   "hash": "27cc1592400a49e29347d731bddc25ead99330001d369613af25ccd9674a593a"
  },
  "kernelspec": {
   "display_name": "Python 3.9.7 ('base')",
   "language": "python",
   "name": "python3"
  },
  "language_info": {
   "codemirror_mode": {
    "name": "ipython",
    "version": 3
   },
   "file_extension": ".py",
   "mimetype": "text/x-python",
   "name": "python",
   "nbconvert_exporter": "python",
   "pygments_lexer": "ipython3",
   "version": "3.9.7"
  },
  "orig_nbformat": 4
 },
 "nbformat": 4,
 "nbformat_minor": 2
}

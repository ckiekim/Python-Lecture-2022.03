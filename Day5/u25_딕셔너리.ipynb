{
  "nbformat": 4,
  "nbformat_minor": 0,
  "metadata": {
    "colab": {
      "name": "u25_딕셔너리.ipynb",
      "provenance": [],
      "collapsed_sections": []
    },
    "kernelspec": {
      "name": "python3",
      "display_name": "Python 3"
    },
    "language_info": {
      "name": "python"
    }
  },
  "cells": [
    {
      "cell_type": "markdown",
      "source": [
        "# Unit 25. 딕셔너리\n",
        "### 25.1 딕셔너리 조작"
      ],
      "metadata": {
        "id": "kn_Kfcazl1It"
      }
    },
    {
      "cell_type": "markdown",
      "source": [
        "- 추가 및 수정"
      ],
      "metadata": {
        "id": "JhTC0FManPta"
      }
    },
    {
      "cell_type": "code",
      "execution_count": 6,
      "metadata": {
        "colab": {
          "base_uri": "https://localhost:8080/"
        },
        "id": "tACRCf7LlxTQ",
        "outputId": "77ef16a8-805d-43e6-fb59-ef63fa0da7cc"
      },
      "outputs": [
        {
          "output_type": "execute_result",
          "data": {
            "text/plain": [
              "{'a': 10, 'b': 20, 'c': 30, 'd': 40, 'e': 20}"
            ]
          },
          "metadata": {},
          "execution_count": 6
        }
      ],
      "source": [
        "x = {'a': 10, 'b': 20, 'c': 30, 'd': 40}\n",
        "x.setdefault('e')\n",
        "x.update(e=20)\n",
        "x"
      ]
    },
    {
      "cell_type": "code",
      "source": [
        "# 할당 방법으로 키가 없으면 새로운 키-값 쌍을 만들어 줌\n",
        "x['f'] = 100\n",
        "x"
      ],
      "metadata": {
        "colab": {
          "base_uri": "https://localhost:8080/"
        },
        "id": "mk3xwK0FmVeX",
        "outputId": "39aef617-7acd-47f3-e04a-257b05be6d10"
      },
      "execution_count": 2,
      "outputs": [
        {
          "output_type": "execute_result",
          "data": {
            "text/plain": [
              "{'a': 10, 'b': 20, 'c': 30, 'd': 40, 'e': None, 'f': 100}"
            ]
          },
          "metadata": {},
          "execution_count": 2
        }
      ]
    },
    {
      "cell_type": "code",
      "source": [
        "# 할당 방법으로 키가 있으면 값을 변경해 줌\n",
        "x['e'] = 300\n",
        "x"
      ],
      "metadata": {
        "colab": {
          "base_uri": "https://localhost:8080/"
        },
        "id": "kVHzY7hsmfEU",
        "outputId": "8cc64b1a-2aef-491a-b28b-84f6a5f5117d"
      },
      "execution_count": 3,
      "outputs": [
        {
          "output_type": "execute_result",
          "data": {
            "text/plain": [
              "{'a': 10, 'b': 20, 'c': 30, 'd': 40, 'e': 300, 'f': 100}"
            ]
          },
          "metadata": {},
          "execution_count": 3
        }
      ]
    },
    {
      "cell_type": "markdown",
      "source": [
        "- 삭제(pop)"
      ],
      "metadata": {
        "id": "b2DkGC5OnTHS"
      }
    },
    {
      "cell_type": "code",
      "source": [
        "x.pop()"
      ],
      "metadata": {
        "colab": {
          "base_uri": "https://localhost:8080/",
          "height": 177
        },
        "id": "Ng3GNSIamqK8",
        "outputId": "c9e38bf3-d111-445a-ac64-56a568b72d51"
      },
      "execution_count": 7,
      "outputs": [
        {
          "output_type": "error",
          "ename": "TypeError",
          "evalue": "ignored",
          "traceback": [
            "\u001b[0;31m---------------------------------------------------------------------------\u001b[0m",
            "\u001b[0;31mTypeError\u001b[0m                                 Traceback (most recent call last)",
            "\u001b[0;32m<ipython-input-7-22e0729a7b70>\u001b[0m in \u001b[0;36m<module>\u001b[0;34m()\u001b[0m\n\u001b[0;32m----> 1\u001b[0;31m \u001b[0mx\u001b[0m\u001b[0;34m.\u001b[0m\u001b[0mpop\u001b[0m\u001b[0;34m(\u001b[0m\u001b[0;34m)\u001b[0m\u001b[0;34m\u001b[0m\u001b[0;34m\u001b[0m\u001b[0m\n\u001b[0m",
            "\u001b[0;31mTypeError\u001b[0m: pop expected at least 1 arguments, got 0"
          ]
        }
      ]
    },
    {
      "cell_type": "code",
      "source": [
        "x"
      ],
      "metadata": {
        "colab": {
          "base_uri": "https://localhost:8080/"
        },
        "id": "Yly-YvTcntjD",
        "outputId": "1f60bf09-bb6a-47a1-86d6-a85d563b5996"
      },
      "execution_count": 9,
      "outputs": [
        {
          "output_type": "execute_result",
          "data": {
            "text/plain": [
              "{'a': 10, 'b': 20, 'c': 30, 'd': 40, 'e': 20}"
            ]
          },
          "metadata": {},
          "execution_count": 9
        }
      ]
    },
    {
      "cell_type": "code",
      "source": [
        "x.pop('e')"
      ],
      "metadata": {
        "colab": {
          "base_uri": "https://localhost:8080/"
        },
        "id": "GFiWODWRnXov",
        "outputId": "7c77e4c6-beab-4070-909d-c9a884ccd33b"
      },
      "execution_count": 10,
      "outputs": [
        {
          "output_type": "execute_result",
          "data": {
            "text/plain": [
              "20"
            ]
          },
          "metadata": {},
          "execution_count": 10
        }
      ]
    },
    {
      "cell_type": "code",
      "source": [
        "x.pop('e', 0)"
      ],
      "metadata": {
        "colab": {
          "base_uri": "https://localhost:8080/"
        },
        "id": "44MxnlX0nlas",
        "outputId": "200edffd-28d1-4ee6-f68e-6203d6ddccc4"
      },
      "execution_count": 11,
      "outputs": [
        {
          "output_type": "execute_result",
          "data": {
            "text/plain": [
              "0"
            ]
          },
          "metadata": {},
          "execution_count": 11
        }
      ]
    },
    {
      "cell_type": "code",
      "source": [
        "del x['c']"
      ],
      "metadata": {
        "id": "oHDS2UmGn7C0"
      },
      "execution_count": 12,
      "outputs": []
    },
    {
      "cell_type": "code",
      "source": [
        "x"
      ],
      "metadata": {
        "colab": {
          "base_uri": "https://localhost:8080/"
        },
        "id": "Pxi9bXYEoDdC",
        "outputId": "61a55688-22cf-4475-aaf4-fa449052765a"
      },
      "execution_count": 13,
      "outputs": [
        {
          "output_type": "execute_result",
          "data": {
            "text/plain": [
              "{'a': 10, 'b': 20, 'd': 40}"
            ]
          },
          "metadata": {},
          "execution_count": 13
        }
      ]
    },
    {
      "cell_type": "code",
      "source": [
        "x.popitem()"
      ],
      "metadata": {
        "colab": {
          "base_uri": "https://localhost:8080/"
        },
        "id": "IN1Zd0RMoEDv",
        "outputId": "b7b9c678-5015-4bad-e2d0-604ccd37be66"
      },
      "execution_count": 14,
      "outputs": [
        {
          "output_type": "execute_result",
          "data": {
            "text/plain": [
              "('d', 40)"
            ]
          },
          "metadata": {},
          "execution_count": 14
        }
      ]
    },
    {
      "cell_type": "markdown",
      "source": [
        "- 키의 값 가져오기"
      ],
      "metadata": {
        "id": "W8F1EtjEok3h"
      }
    },
    {
      "cell_type": "code",
      "source": [
        "x = {'a': 10, 'b': 20, 'c': 30, 'd': 40}\n",
        "x.get('a')"
      ],
      "metadata": {
        "colab": {
          "base_uri": "https://localhost:8080/"
        },
        "id": "z3nO5PJroYvW",
        "outputId": "4abb87a4-8331-406a-cf60-a763eb75543c"
      },
      "execution_count": 15,
      "outputs": [
        {
          "output_type": "execute_result",
          "data": {
            "text/plain": [
              "10"
            ]
          },
          "metadata": {},
          "execution_count": 15
        }
      ]
    },
    {
      "cell_type": "code",
      "source": [
        "x['a']"
      ],
      "metadata": {
        "colab": {
          "base_uri": "https://localhost:8080/"
        },
        "id": "L4OD4PY6os_F",
        "outputId": "e76ca1eb-9bec-4710-b1d5-4f5a52423494"
      },
      "execution_count": 16,
      "outputs": [
        {
          "output_type": "execute_result",
          "data": {
            "text/plain": [
              "10"
            ]
          },
          "metadata": {},
          "execution_count": 16
        }
      ]
    },
    {
      "cell_type": "markdown",
      "source": [
        "- 키, 값, 키-값 모두 가져오기"
      ],
      "metadata": {
        "id": "SADYMRBko1G6"
      }
    },
    {
      "cell_type": "code",
      "source": [
        "x"
      ],
      "metadata": {
        "colab": {
          "base_uri": "https://localhost:8080/"
        },
        "id": "qK0lKhEoovJH",
        "outputId": "e63170cc-9d30-4803-f0c1-4e9150914f69"
      },
      "execution_count": 17,
      "outputs": [
        {
          "output_type": "execute_result",
          "data": {
            "text/plain": [
              "{'a': 10, 'b': 20, 'c': 30, 'd': 40}"
            ]
          },
          "metadata": {},
          "execution_count": 17
        }
      ]
    },
    {
      "cell_type": "code",
      "source": [
        "# 많이 사용\n",
        "x.keys()"
      ],
      "metadata": {
        "colab": {
          "base_uri": "https://localhost:8080/"
        },
        "id": "uG9RjU3ko872",
        "outputId": "ca294f30-d348-455a-87df-181e51c5535f"
      },
      "execution_count": 18,
      "outputs": [
        {
          "output_type": "execute_result",
          "data": {
            "text/plain": [
              "dict_keys(['a', 'b', 'c', 'd'])"
            ]
          },
          "metadata": {},
          "execution_count": 18
        }
      ]
    },
    {
      "cell_type": "code",
      "source": [
        "x.values()"
      ],
      "metadata": {
        "colab": {
          "base_uri": "https://localhost:8080/"
        },
        "id": "-6dlRebopAIf",
        "outputId": "cb1ef373-1db6-4ef6-d2c9-9ee182ba9f31"
      },
      "execution_count": 19,
      "outputs": [
        {
          "output_type": "execute_result",
          "data": {
            "text/plain": [
              "dict_values([10, 20, 30, 40])"
            ]
          },
          "metadata": {},
          "execution_count": 19
        }
      ]
    },
    {
      "cell_type": "code",
      "source": [
        "# 많이 사용\n",
        "x.items()"
      ],
      "metadata": {
        "colab": {
          "base_uri": "https://localhost:8080/"
        },
        "id": "IMD07Hs8pFWn",
        "outputId": "25077ff5-ac56-4677-b35d-b3a3164bcac7"
      },
      "execution_count": 20,
      "outputs": [
        {
          "output_type": "execute_result",
          "data": {
            "text/plain": [
              "dict_items([('a', 10), ('b', 20), ('c', 30), ('d', 40)])"
            ]
          },
          "metadata": {},
          "execution_count": 20
        }
      ]
    },
    {
      "cell_type": "markdown",
      "source": [
        "### 25.3 딕셔너리와 반복문"
      ],
      "metadata": {
        "id": "kDeNPeN0sTK_"
      }
    },
    {
      "cell_type": "code",
      "source": [
        "# 좋은 방법이 아님\n",
        "for item in x:\n",
        "    print(item)"
      ],
      "metadata": {
        "colab": {
          "base_uri": "https://localhost:8080/"
        },
        "id": "mTDa7UPIpJls",
        "outputId": "27b47675-3e8b-4410-ae1d-a7932085b6e9"
      },
      "execution_count": 21,
      "outputs": [
        {
          "output_type": "stream",
          "name": "stdout",
          "text": [
            "a\n",
            "b\n",
            "c\n",
            "d\n"
          ]
        }
      ]
    },
    {
      "cell_type": "code",
      "source": [
        "for key in x.keys():\n",
        "    print(key, x[key])"
      ],
      "metadata": {
        "colab": {
          "base_uri": "https://localhost:8080/"
        },
        "id": "NK4DPnbOsfdt",
        "outputId": "3a545efd-ab9c-478d-a4ad-df619d5cf6b7"
      },
      "execution_count": 22,
      "outputs": [
        {
          "output_type": "stream",
          "name": "stdout",
          "text": [
            "a 10\n",
            "b 20\n",
            "c 30\n",
            "d 40\n"
          ]
        }
      ]
    },
    {
      "cell_type": "code",
      "source": [
        "for key, value in x.items():\n",
        "    print(key, value)"
      ],
      "metadata": {
        "colab": {
          "base_uri": "https://localhost:8080/"
        },
        "id": "Cz9L9yuCssT-",
        "outputId": "a15972d1-a9b8-4ece-ced5-a10573a7de36"
      },
      "execution_count": 23,
      "outputs": [
        {
          "output_type": "stream",
          "name": "stdout",
          "text": [
            "a 10\n",
            "b 20\n",
            "c 30\n",
            "d 40\n"
          ]
        }
      ]
    },
    {
      "cell_type": "markdown",
      "source": [
        "### 25.3 표현식"
      ],
      "metadata": {
        "id": "JVWPK9MMtKqn"
      }
    },
    {
      "cell_type": "code",
      "source": [
        "x"
      ],
      "metadata": {
        "colab": {
          "base_uri": "https://localhost:8080/"
        },
        "id": "wr25G4RYs4Ca",
        "outputId": "70cb20ea-6dd4-44ed-a4d6-d9e8a691a0af"
      },
      "execution_count": 24,
      "outputs": [
        {
          "output_type": "execute_result",
          "data": {
            "text/plain": [
              "{'a': 10, 'b': 20, 'c': 30, 'd': 40}"
            ]
          },
          "metadata": {},
          "execution_count": 24
        }
      ]
    },
    {
      "cell_type": "code",
      "source": [
        "# 값이 제곱한 값을 갖도록\n",
        "y = {}\n",
        "for key, value in x.items():\n",
        "    y[key] = value * value\n",
        "y"
      ],
      "metadata": {
        "colab": {
          "base_uri": "https://localhost:8080/"
        },
        "id": "ZHSOgmSptaF0",
        "outputId": "a25744e5-5ee3-4f92-9036-e7e9a0447f8f"
      },
      "execution_count": 26,
      "outputs": [
        {
          "output_type": "execute_result",
          "data": {
            "text/plain": [
              "{'a': 100, 'b': 400, 'c': 900, 'd': 1600}"
            ]
          },
          "metadata": {},
          "execution_count": 26
        }
      ]
    },
    {
      "cell_type": "code",
      "source": [
        "y = {key: value*value for key, value in x.items()}\n",
        "y"
      ],
      "metadata": {
        "colab": {
          "base_uri": "https://localhost:8080/"
        },
        "id": "nen2V2AAtsO8",
        "outputId": "c9cb1d2c-5d33-402c-9eb3-50c7cc08b03c"
      },
      "execution_count": 27,
      "outputs": [
        {
          "output_type": "execute_result",
          "data": {
            "text/plain": [
              "{'a': 100, 'b': 400, 'c': 900, 'd': 1600}"
            ]
          },
          "metadata": {},
          "execution_count": 27
        }
      ]
    },
    {
      "cell_type": "code",
      "source": [
        "y = {key: x[key]*x[key] for key in x.keys()}\n",
        "y"
      ],
      "metadata": {
        "colab": {
          "base_uri": "https://localhost:8080/"
        },
        "id": "Enzb_InuuI4H",
        "outputId": "4b329247-f956-4271-ace8-77ec3f20b348"
      },
      "execution_count": 28,
      "outputs": [
        {
          "output_type": "execute_result",
          "data": {
            "text/plain": [
              "{'a': 100, 'b': 400, 'c': 900, 'd': 1600}"
            ]
          },
          "metadata": {},
          "execution_count": 28
        }
      ]
    },
    {
      "cell_type": "code",
      "source": [
        "# value가 20의 배수인 것의 제곱수\n",
        "y = {key: value*value for key, value in x.items() if value % 20 == 0}\n",
        "y"
      ],
      "metadata": {
        "colab": {
          "base_uri": "https://localhost:8080/"
        },
        "id": "_2CermgluejO",
        "outputId": "ad754af4-4aff-41ba-aeb8-1d5cd9b76d04"
      },
      "execution_count": 29,
      "outputs": [
        {
          "output_type": "execute_result",
          "data": {
            "text/plain": [
              "{'b': 400, 'd': 1600}"
            ]
          },
          "metadata": {},
          "execution_count": 29
        }
      ]
    },
    {
      "cell_type": "markdown",
      "source": [
        "### 25.4 Dictionary in dictionary"
      ],
      "metadata": {
        "id": "n7RqTofMvFwv"
      }
    },
    {
      "cell_type": "code",
      "source": [
        "x = {'국어': [80, 86, 78, 92],\n",
        "     '영어': [70, 82, 94, 90],\n",
        "     '수학': [80, 78, 78, 82]}\n",
        "x"
      ],
      "metadata": {
        "colab": {
          "base_uri": "https://localhost:8080/"
        },
        "id": "iE25Lt7ku2LB",
        "outputId": "d618966c-5f43-4d12-d112-4cc362e4810e"
      },
      "execution_count": 30,
      "outputs": [
        {
          "output_type": "execute_result",
          "data": {
            "text/plain": [
              "{'국어': [80, 86, 78, 92], '수학': [80, 78, 78, 82], '영어': [70, 82, 94, 90]}"
            ]
          },
          "metadata": {},
          "execution_count": 30
        }
      ]
    },
    {
      "cell_type": "code",
      "source": [
        "import pandas as pd\n",
        "df = pd.DataFrame(x)\n",
        "df"
      ],
      "metadata": {
        "colab": {
          "base_uri": "https://localhost:8080/",
          "height": 174
        },
        "id": "HpRYIhLUvkH0",
        "outputId": "ff5de34d-b57b-4ddf-cc3e-072aa376fecd"
      },
      "execution_count": 31,
      "outputs": [
        {
          "output_type": "execute_result",
          "data": {
            "text/plain": [
              "   국어  영어  수학\n",
              "0  80  70  80\n",
              "1  86  82  78\n",
              "2  78  94  78\n",
              "3  92  90  82"
            ],
            "text/html": [
              "\n",
              "  <div id=\"df-13f88433-9465-4771-a17b-13132c168180\">\n",
              "    <div class=\"colab-df-container\">\n",
              "      <div>\n",
              "<style scoped>\n",
              "    .dataframe tbody tr th:only-of-type {\n",
              "        vertical-align: middle;\n",
              "    }\n",
              "\n",
              "    .dataframe tbody tr th {\n",
              "        vertical-align: top;\n",
              "    }\n",
              "\n",
              "    .dataframe thead th {\n",
              "        text-align: right;\n",
              "    }\n",
              "</style>\n",
              "<table border=\"1\" class=\"dataframe\">\n",
              "  <thead>\n",
              "    <tr style=\"text-align: right;\">\n",
              "      <th></th>\n",
              "      <th>국어</th>\n",
              "      <th>영어</th>\n",
              "      <th>수학</th>\n",
              "    </tr>\n",
              "  </thead>\n",
              "  <tbody>\n",
              "    <tr>\n",
              "      <th>0</th>\n",
              "      <td>80</td>\n",
              "      <td>70</td>\n",
              "      <td>80</td>\n",
              "    </tr>\n",
              "    <tr>\n",
              "      <th>1</th>\n",
              "      <td>86</td>\n",
              "      <td>82</td>\n",
              "      <td>78</td>\n",
              "    </tr>\n",
              "    <tr>\n",
              "      <th>2</th>\n",
              "      <td>78</td>\n",
              "      <td>94</td>\n",
              "      <td>78</td>\n",
              "    </tr>\n",
              "    <tr>\n",
              "      <th>3</th>\n",
              "      <td>92</td>\n",
              "      <td>90</td>\n",
              "      <td>82</td>\n",
              "    </tr>\n",
              "  </tbody>\n",
              "</table>\n",
              "</div>\n",
              "      <button class=\"colab-df-convert\" onclick=\"convertToInteractive('df-13f88433-9465-4771-a17b-13132c168180')\"\n",
              "              title=\"Convert this dataframe to an interactive table.\"\n",
              "              style=\"display:none;\">\n",
              "        \n",
              "  <svg xmlns=\"http://www.w3.org/2000/svg\" height=\"24px\"viewBox=\"0 0 24 24\"\n",
              "       width=\"24px\">\n",
              "    <path d=\"M0 0h24v24H0V0z\" fill=\"none\"/>\n",
              "    <path d=\"M18.56 5.44l.94 2.06.94-2.06 2.06-.94-2.06-.94-.94-2.06-.94 2.06-2.06.94zm-11 1L8.5 8.5l.94-2.06 2.06-.94-2.06-.94L8.5 2.5l-.94 2.06-2.06.94zm10 10l.94 2.06.94-2.06 2.06-.94-2.06-.94-.94-2.06-.94 2.06-2.06.94z\"/><path d=\"M17.41 7.96l-1.37-1.37c-.4-.4-.92-.59-1.43-.59-.52 0-1.04.2-1.43.59L10.3 9.45l-7.72 7.72c-.78.78-.78 2.05 0 2.83L4 21.41c.39.39.9.59 1.41.59.51 0 1.02-.2 1.41-.59l7.78-7.78 2.81-2.81c.8-.78.8-2.07 0-2.86zM5.41 20L4 18.59l7.72-7.72 1.47 1.35L5.41 20z\"/>\n",
              "  </svg>\n",
              "      </button>\n",
              "      \n",
              "  <style>\n",
              "    .colab-df-container {\n",
              "      display:flex;\n",
              "      flex-wrap:wrap;\n",
              "      gap: 12px;\n",
              "    }\n",
              "\n",
              "    .colab-df-convert {\n",
              "      background-color: #E8F0FE;\n",
              "      border: none;\n",
              "      border-radius: 50%;\n",
              "      cursor: pointer;\n",
              "      display: none;\n",
              "      fill: #1967D2;\n",
              "      height: 32px;\n",
              "      padding: 0 0 0 0;\n",
              "      width: 32px;\n",
              "    }\n",
              "\n",
              "    .colab-df-convert:hover {\n",
              "      background-color: #E2EBFA;\n",
              "      box-shadow: 0px 1px 2px rgba(60, 64, 67, 0.3), 0px 1px 3px 1px rgba(60, 64, 67, 0.15);\n",
              "      fill: #174EA6;\n",
              "    }\n",
              "\n",
              "    [theme=dark] .colab-df-convert {\n",
              "      background-color: #3B4455;\n",
              "      fill: #D2E3FC;\n",
              "    }\n",
              "\n",
              "    [theme=dark] .colab-df-convert:hover {\n",
              "      background-color: #434B5C;\n",
              "      box-shadow: 0px 1px 3px 1px rgba(0, 0, 0, 0.15);\n",
              "      filter: drop-shadow(0px 1px 2px rgba(0, 0, 0, 0.3));\n",
              "      fill: #FFFFFF;\n",
              "    }\n",
              "  </style>\n",
              "\n",
              "      <script>\n",
              "        const buttonEl =\n",
              "          document.querySelector('#df-13f88433-9465-4771-a17b-13132c168180 button.colab-df-convert');\n",
              "        buttonEl.style.display =\n",
              "          google.colab.kernel.accessAllowed ? 'block' : 'none';\n",
              "\n",
              "        async function convertToInteractive(key) {\n",
              "          const element = document.querySelector('#df-13f88433-9465-4771-a17b-13132c168180');\n",
              "          const dataTable =\n",
              "            await google.colab.kernel.invokeFunction('convertToInteractive',\n",
              "                                                     [key], {});\n",
              "          if (!dataTable) return;\n",
              "\n",
              "          const docLinkHtml = 'Like what you see? Visit the ' +\n",
              "            '<a target=\"_blank\" href=https://colab.research.google.com/notebooks/data_table.ipynb>data table notebook</a>'\n",
              "            + ' to learn more about interactive tables.';\n",
              "          element.innerHTML = '';\n",
              "          dataTable['output_type'] = 'display_data';\n",
              "          await google.colab.output.renderOutput(dataTable, element);\n",
              "          const docLink = document.createElement('div');\n",
              "          docLink.innerHTML = docLinkHtml;\n",
              "          element.appendChild(docLink);\n",
              "        }\n",
              "      </script>\n",
              "    </div>\n",
              "  </div>\n",
              "  "
            ]
          },
          "metadata": {},
          "execution_count": 31
        }
      ]
    },
    {
      "cell_type": "code",
      "source": [
        "terrestrial_planet = {\n",
        "    'Mercury': {\n",
        "        'mean_radius': 2439.7,\n",
        "        'mass': 3.3022E+23,\n",
        "        'orbital_period': 87.969\n",
        "    },\n",
        "    'Venus': {\n",
        "        'mean_radius': 6051.8,\n",
        "        'mass': 4.8676E+24,\n",
        "        'orbital_period': 224.70069,\n",
        "    },\n",
        "    'Earth': {\n",
        "        'mean_radius': 6371.0,\n",
        "        'mass': 5.97219E+24,\n",
        "        'orbital_period': 365.25641,\n",
        "    },\n",
        "    'Mars': {\n",
        "        'mean_radius': 3389.5,\n",
        "        'mass': 6.4185E+23,\n",
        "        'orbital_period': 686.9600,\n",
        "    }\n",
        "}"
      ],
      "metadata": {
        "id": "JT18cFd7vtBU"
      },
      "execution_count": 32,
      "outputs": []
    },
    {
      "cell_type": "code",
      "source": [
        "terrestrial_planet['Earth']"
      ],
      "metadata": {
        "colab": {
          "base_uri": "https://localhost:8080/"
        },
        "id": "xY6mfVFawDON",
        "outputId": "93e3b853-477f-4eca-928a-f8f8628431ed"
      },
      "execution_count": 33,
      "outputs": [
        {
          "output_type": "execute_result",
          "data": {
            "text/plain": [
              "{'mass': 5.97219e+24, 'mean_radius': 6371.0, 'orbital_period': 365.25641}"
            ]
          },
          "metadata": {},
          "execution_count": 33
        }
      ]
    },
    {
      "cell_type": "code",
      "source": [
        "terrestrial_planet['Earth']['mean_radius']"
      ],
      "metadata": {
        "colab": {
          "base_uri": "https://localhost:8080/"
        },
        "id": "ihAIfJ4DwJZM",
        "outputId": "44e913c5-9901-445e-81f6-fb8623cda74e"
      },
      "execution_count": 34,
      "outputs": [
        {
          "output_type": "execute_result",
          "data": {
            "text/plain": [
              "6371.0"
            ]
          },
          "metadata": {},
          "execution_count": 34
        }
      ]
    },
    {
      "cell_type": "markdown",
      "source": [
        "- 실전 사례: 카카오 로컬 API 사용한 결과"
      ],
      "metadata": {
        "id": "msqd2LdgwY75"
      }
    },
    {
      "cell_type": "code",
      "source": [
        "result = {'documents': [{'address': {'address_name': '강원 강릉시 저동 94',\n",
        "    'b_code': '4215013700',\n",
        "    'h_code': '4215066500',\n",
        "    'main_address_no': '94',\n",
        "    'mountain_yn': 'N',\n",
        "    'region_1depth_name': '강원',\n",
        "    'region_2depth_name': '강릉시',\n",
        "    'region_3depth_h_name': '경포동',\n",
        "    'region_3depth_name': '저동',\n",
        "    'sub_address_no': '',\n",
        "    'x': '128.896538649542',\n",
        "    'y': '37.7955687639648'},\n",
        "   'address_name': '강원 강릉시 경포로 365',\n",
        "   'address_type': 'ROAD_ADDR',\n",
        "   'road_address': {'address_name': '강원 강릉시 경포로 365',\n",
        "    'building_name': '경포대',\n",
        "    'main_building_no': '365',\n",
        "    'region_1depth_name': '강원',\n",
        "    'region_2depth_name': '강릉시',\n",
        "    'region_3depth_name': '저동',\n",
        "    'road_name': '경포로',\n",
        "    'sub_building_no': '',\n",
        "    'underground_yn': 'N',\n",
        "    'x': '128.896538649542',\n",
        "    'y': '37.7955687639648',\n",
        "    'zone_no': '25461'},\n",
        "   'x': '128.896538649542',\n",
        "   'y': '37.7955687639648'}],\n",
        " 'meta': {'is_end': True, 'pageable_count': 1, 'total_count': 1}}"
      ],
      "metadata": {
        "id": "sTn9u5jqwS7U"
      },
      "execution_count": 35,
      "outputs": []
    },
    {
      "cell_type": "markdown",
      "source": [
        "- 위도와 경도를 실수로 출력"
      ],
      "metadata": {
        "id": "D-0EVH7SyA-J"
      }
    },
    {
      "cell_type": "code",
      "source": [
        "result.keys()"
      ],
      "metadata": {
        "colab": {
          "base_uri": "https://localhost:8080/"
        },
        "id": "RPkIqZFXybu9",
        "outputId": "393bc347-2a8e-43f9-f977-5ddd3b669d0d"
      },
      "execution_count": 37,
      "outputs": [
        {
          "output_type": "execute_result",
          "data": {
            "text/plain": [
              "dict_keys(['documents', 'meta'])"
            ]
          },
          "metadata": {},
          "execution_count": 37
        }
      ]
    },
    {
      "cell_type": "code",
      "source": [
        "type(result['documents'])"
      ],
      "metadata": {
        "colab": {
          "base_uri": "https://localhost:8080/"
        },
        "id": "vX6OFOM6wiaC",
        "outputId": "8244b96b-29b2-4abf-e429-0753153cd85a"
      },
      "execution_count": 36,
      "outputs": [
        {
          "output_type": "execute_result",
          "data": {
            "text/plain": [
              "list"
            ]
          },
          "metadata": {},
          "execution_count": 36
        }
      ]
    },
    {
      "cell_type": "code",
      "source": [
        "type(result['documents'][0])"
      ],
      "metadata": {
        "colab": {
          "base_uri": "https://localhost:8080/"
        },
        "id": "qJqdqmGmySkM",
        "outputId": "4073b968-eb67-4132-a9c8-abccbbf9f832"
      },
      "execution_count": 38,
      "outputs": [
        {
          "output_type": "execute_result",
          "data": {
            "text/plain": [
              "dict"
            ]
          },
          "metadata": {},
          "execution_count": 38
        }
      ]
    },
    {
      "cell_type": "code",
      "source": [
        "result['documents'][0].keys()"
      ],
      "metadata": {
        "colab": {
          "base_uri": "https://localhost:8080/"
        },
        "id": "LqYiGdIVyqP0",
        "outputId": "4626f19d-da6d-4fc0-8154-ca8b5ebe3e33"
      },
      "execution_count": 39,
      "outputs": [
        {
          "output_type": "execute_result",
          "data": {
            "text/plain": [
              "dict_keys(['address', 'address_name', 'address_type', 'road_address', 'x', 'y'])"
            ]
          },
          "metadata": {},
          "execution_count": 39
        }
      ]
    },
    {
      "cell_type": "code",
      "source": [
        "lng = float(result['documents'][0]['x'])\n",
        "lat = float(result['documents'][0]['y'])\n",
        "print(f'위도: {lat:9.6f}, 경도: {lng:10.6f}')"
      ],
      "metadata": {
        "colab": {
          "base_uri": "https://localhost:8080/"
        },
        "id": "iLTbQUVbyvC-",
        "outputId": "3224823b-b94d-4675-83c7-cf9bf10dbc57"
      },
      "execution_count": 41,
      "outputs": [
        {
          "output_type": "stream",
          "name": "stdout",
          "text": [
            "위도: 37.795569, 경도: 128.896539\n"
          ]
        }
      ]
    },
    {
      "cell_type": "markdown",
      "source": [
        "- 행안부 도로명주소 API 검색 결과"
      ],
      "metadata": {
        "id": "ewrlbnhf0nlS"
      }
    },
    {
      "cell_type": "code",
      "source": [
        "result = {'results': {'common': {'errorMessage': '정상',\n",
        "   'countPerPage': '10',\n",
        "   'totalCount': '1',\n",
        "   'errorCode': '0',\n",
        "   'currentPage': '1'},\n",
        "  'juso': [{'detBdNmList': '',\n",
        "    'engAddr': '768, Bijarim-ro, Jocheon-eup, Jeju-si, Jeju-do',\n",
        "    'rn': '비자림로',\n",
        "    'emdNm': '조천읍',\n",
        "    'zipNo': '63346',\n",
        "    'roadAddrPart2': '',\n",
        "    'emdNo': '02',\n",
        "    'sggNm': '제주시',\n",
        "    'jibunAddr': '제주특별자치도 제주시 조천읍 교래리 342-2 산굼부리',\n",
        "    'siNm': '제주특별자치도',\n",
        "    'roadAddrPart1': '제주특별자치도 제주시 조천읍 비자림로 768',\n",
        "    'bdNm': '산굼부리',\n",
        "    'admCd': '5011025929',\n",
        "    'udrtYn': '0',\n",
        "    'lnbrMnnm': '342',\n",
        "    'roadAddr': '제주특별자치도 제주시 조천읍 비자림로 768',\n",
        "    'lnbrSlno': '2',\n",
        "    'buldMnnm': '768',\n",
        "    'bdKdcd': '0',\n",
        "    'liNm': '교래리',\n",
        "    'rnMgtSn': '501103349079',\n",
        "    'mtYn': '0',\n",
        "    'bdMgtSn': '5011025929003420005071420',\n",
        "    'buldSlno': '0'}]}}"
      ],
      "metadata": {
        "id": "jVNC5RFPzRDp"
      },
      "execution_count": 42,
      "outputs": []
    },
    {
      "cell_type": "code",
      "source": [
        "result.keys()"
      ],
      "metadata": {
        "colab": {
          "base_uri": "https://localhost:8080/"
        },
        "id": "IGTONHDP0tMZ",
        "outputId": "5a6d4bf4-ce50-4bfe-d392-43b07576a3ff"
      },
      "execution_count": 43,
      "outputs": [
        {
          "output_type": "execute_result",
          "data": {
            "text/plain": [
              "dict_keys(['results'])"
            ]
          },
          "metadata": {},
          "execution_count": 43
        }
      ]
    },
    {
      "cell_type": "code",
      "source": [
        "result['results'].keys()"
      ],
      "metadata": {
        "colab": {
          "base_uri": "https://localhost:8080/"
        },
        "id": "BMDjQHtu1Vll",
        "outputId": "6f0e2b9e-c26c-4e14-f8cd-b45bd629e5e1"
      },
      "execution_count": 44,
      "outputs": [
        {
          "output_type": "execute_result",
          "data": {
            "text/plain": [
              "dict_keys(['common', 'juso'])"
            ]
          },
          "metadata": {},
          "execution_count": 44
        }
      ]
    },
    {
      "cell_type": "code",
      "source": [
        "result['results']['juso'][0].keys()"
      ],
      "metadata": {
        "colab": {
          "base_uri": "https://localhost:8080/"
        },
        "id": "2a4fj0fP1dBJ",
        "outputId": "3493d0ad-95f5-4383-c7ca-91292d91eecc"
      },
      "execution_count": 45,
      "outputs": [
        {
          "output_type": "execute_result",
          "data": {
            "text/plain": [
              "dict_keys(['detBdNmList', 'engAddr', 'rn', 'emdNm', 'zipNo', 'roadAddrPart2', 'emdNo', 'sggNm', 'jibunAddr', 'siNm', 'roadAddrPart1', 'bdNm', 'admCd', 'udrtYn', 'lnbrMnnm', 'roadAddr', 'lnbrSlno', 'buldMnnm', 'bdKdcd', 'liNm', 'rnMgtSn', 'mtYn', 'bdMgtSn', 'buldSlno'])"
            ]
          },
          "metadata": {},
          "execution_count": 45
        }
      ]
    },
    {
      "cell_type": "code",
      "source": [
        "road_addr = result['results']['juso'][0]['roadAddr']\n",
        "print(f'산굼부리 도로명 주소: {road_addr}')"
      ],
      "metadata": {
        "colab": {
          "base_uri": "https://localhost:8080/"
        },
        "id": "6GYpdEHM1pjP",
        "outputId": "41017630-fa0d-4cc8-9220-39b94b692f4a"
      },
      "execution_count": 47,
      "outputs": [
        {
          "output_type": "stream",
          "name": "stdout",
          "text": [
            "산굼부리 도로명 주소: 제주특별자치도 제주시 조천읍 비자림로 768\n"
          ]
        }
      ]
    },
    {
      "cell_type": "code",
      "source": [
        ""
      ],
      "metadata": {
        "id": "6lq94udM13PW"
      },
      "execution_count": null,
      "outputs": []
    }
  ]
}
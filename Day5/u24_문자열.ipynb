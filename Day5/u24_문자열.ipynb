{
  "nbformat": 4,
  "nbformat_minor": 0,
  "metadata": {
    "colab": {
      "name": "u24_문자열.ipynb",
      "provenance": [],
      "collapsed_sections": []
    },
    "kernelspec": {
      "name": "python3",
      "display_name": "Python 3"
    },
    "language_info": {
      "name": "python"
    }
  },
  "cells": [
    {
      "cell_type": "markdown",
      "source": [
        "# Unit 24. 문자열 응용"
      ],
      "metadata": {
        "id": "g43ntd5nFZT9"
      }
    },
    {
      "cell_type": "markdown",
      "source": [
        "### 24.1 문자열 조작"
      ],
      "metadata": {
        "id": "Z2j9yeoeFeiU"
      }
    },
    {
      "cell_type": "markdown",
      "source": [
        "- 변경(replace) method"
      ],
      "metadata": {
        "id": "55PCCbMvFjDZ"
      }
    },
    {
      "cell_type": "code",
      "execution_count": 1,
      "metadata": {
        "colab": {
          "base_uri": "https://localhost:8080/",
          "height": 36
        },
        "id": "XYiuQ4vW4hjn",
        "outputId": "2390af68-1fa7-473b-98cc-7afc3f074c9a"
      },
      "outputs": [
        {
          "output_type": "execute_result",
          "data": {
            "text/plain": [
              "'Hello, world'"
            ],
            "application/vnd.google.colaboratory.intrinsic+json": {
              "type": "string"
            }
          },
          "metadata": {},
          "execution_count": 1
        }
      ],
      "source": [
        "# 문자열 메소드는 자기 보존적\n",
        "s = 'Hello, python'\n",
        "s.replace('python', 'world')"
      ]
    },
    {
      "cell_type": "code",
      "source": [
        "s"
      ],
      "metadata": {
        "colab": {
          "base_uri": "https://localhost:8080/",
          "height": 36
        },
        "id": "2AmZvyEGF4J4",
        "outputId": "bf9e2fc6-ea64-42bd-f584-dea05b0b6472"
      },
      "execution_count": 2,
      "outputs": [
        {
          "output_type": "execute_result",
          "data": {
            "text/plain": [
              "'Hello, python'"
            ],
            "application/vnd.google.colaboratory.intrinsic+json": {
              "type": "string"
            }
          },
          "metadata": {},
          "execution_count": 2
        }
      ]
    },
    {
      "cell_type": "code",
      "source": [
        "# 리스트의 메소드는 자기 파괴적\n",
        "a = [10,20,30]\n",
        "a.sort(reverse=True)"
      ],
      "metadata": {
        "id": "uolch8QjF6zz"
      },
      "execution_count": 5,
      "outputs": []
    },
    {
      "cell_type": "code",
      "source": [
        "a"
      ],
      "metadata": {
        "colab": {
          "base_uri": "https://localhost:8080/"
        },
        "id": "vKW3gWYgGDWm",
        "outputId": "3eb89a3f-3991-4714-ec92-2ed6742579b9"
      },
      "execution_count": 6,
      "outputs": [
        {
          "output_type": "execute_result",
          "data": {
            "text/plain": [
              "[30, 20, 10]"
            ]
          },
          "metadata": {},
          "execution_count": 6
        }
      ]
    },
    {
      "cell_type": "code",
      "source": [
        "s = s.replace('python', 'world')\n",
        "s"
      ],
      "metadata": {
        "colab": {
          "base_uri": "https://localhost:8080/",
          "height": 36
        },
        "id": "I-huWBrsGEBF",
        "outputId": "c825affc-1e65-4626-82ff-1329b598b8ec"
      },
      "execution_count": 8,
      "outputs": [
        {
          "output_type": "execute_result",
          "data": {
            "text/plain": [
              "'Hello, world'"
            ],
            "application/vnd.google.colaboratory.intrinsic+json": {
              "type": "string"
            }
          },
          "metadata": {},
          "execution_count": 8
        }
      ]
    },
    {
      "cell_type": "code",
      "source": [
        "# 정규 표현식(Regular expression)\n",
        "import re\n",
        "s = '안녕하세요? Python 코딩 강좌입니다.ㅋㅋ'\n",
        "re.sub('[^A-Za-z ]',' ',s)    # 패턴, 변경될 값, 문자열"
      ],
      "metadata": {
        "colab": {
          "base_uri": "https://localhost:8080/",
          "height": 36
        },
        "id": "WTPuNoLhGiuV",
        "outputId": "2c3eefdd-78b4-473d-d609-8e4eef1c1ede"
      },
      "execution_count": 10,
      "outputs": [
        {
          "output_type": "execute_result",
          "data": {
            "text/plain": [
              "'       Python            '"
            ],
            "application/vnd.google.colaboratory.intrinsic+json": {
              "type": "string"
            }
          },
          "metadata": {},
          "execution_count": 10
        }
      ]
    },
    {
      "cell_type": "code",
      "source": [
        "# 한글 이외에는 공백으로 변경\n",
        "re.sub('[^ㄱ-ㅎㅏ-ㅣ가-힣]', ' ', s)"
      ],
      "metadata": {
        "colab": {
          "base_uri": "https://localhost:8080/",
          "height": 36
        },
        "id": "3dPjgzCOHeZj",
        "outputId": "9c0f8ac1-87e1-4fd3-ffe6-6d0506af3462"
      },
      "execution_count": 12,
      "outputs": [
        {
          "output_type": "execute_result",
          "data": {
            "text/plain": [
              "'안녕하세요         코딩 강좌입니다 ㅋㅋ'"
            ],
            "application/vnd.google.colaboratory.intrinsic+json": {
              "type": "string"
            }
          },
          "metadata": {},
          "execution_count": 12
        }
      ]
    },
    {
      "cell_type": "markdown",
      "source": [
        "- 문자열 분리(split)"
      ],
      "metadata": {
        "id": "9u-g3gWjI_jr"
      }
    },
    {
      "cell_type": "code",
      "source": [
        "s = 'apple pear grape pineapple orange'\n",
        "d = s.split()\n",
        "d"
      ],
      "metadata": {
        "colab": {
          "base_uri": "https://localhost:8080/"
        },
        "id": "a2kTvB0IH-yO",
        "outputId": "29e24b5c-557b-4d27-a23c-10289b52fc61"
      },
      "execution_count": 13,
      "outputs": [
        {
          "output_type": "execute_result",
          "data": {
            "text/plain": [
              "['apple', 'pear', 'grape', 'pineapple', 'orange']"
            ]
          },
          "metadata": {},
          "execution_count": 13
        }
      ]
    },
    {
      "cell_type": "code",
      "source": [
        "s = 'apple,pear,grape,pineapple,orange'\n",
        "d = s.split(',')\n",
        "d"
      ],
      "metadata": {
        "colab": {
          "base_uri": "https://localhost:8080/"
        },
        "id": "Z7q3iNfHJVS_",
        "outputId": "917b1940-8671-47b4-d7f6-513e9ced7487"
      },
      "execution_count": 14,
      "outputs": [
        {
          "output_type": "execute_result",
          "data": {
            "text/plain": [
              "['apple', 'pear', 'grape', 'pineapple', 'orange']"
            ]
          },
          "metadata": {},
          "execution_count": 14
        }
      ]
    },
    {
      "cell_type": "code",
      "source": [
        "stopwords = ['a', 'the', 'I', 'am', 'is']\n",
        "s = 'I am a graduate student.'\n",
        "d = s.split()\n",
        "d = [word for word in d if word not in stopwords]\n",
        "d"
      ],
      "metadata": {
        "colab": {
          "base_uri": "https://localhost:8080/"
        },
        "id": "kS6uv6voJsGN",
        "outputId": "ef6acdc5-d5a1-46bb-ee55-1950da77c709"
      },
      "execution_count": 15,
      "outputs": [
        {
          "output_type": "execute_result",
          "data": {
            "text/plain": [
              "['graduate', 'student.']"
            ]
          },
          "metadata": {},
          "execution_count": 15
        }
      ]
    },
    {
      "cell_type": "markdown",
      "source": [
        "- 문자열 리스트 연결(join)"
      ],
      "metadata": {
        "id": "OuiLfm8HKw-l"
      }
    },
    {
      "cell_type": "code",
      "source": [
        "' '.join(d)"
      ],
      "metadata": {
        "colab": {
          "base_uri": "https://localhost:8080/",
          "height": 36
        },
        "id": "OJ9f3GIHKphO",
        "outputId": "f7e7221b-a392-4795-f111-798bb24aedd1"
      },
      "execution_count": 16,
      "outputs": [
        {
          "output_type": "execute_result",
          "data": {
            "text/plain": [
              "'graduate student.'"
            ],
            "application/vnd.google.colaboratory.intrinsic+json": {
              "type": "string"
            }
          },
          "metadata": {},
          "execution_count": 16
        }
      ]
    },
    {
      "cell_type": "code",
      "source": [
        "' '.join('apple,pear,grape,pineapple,orange'.split(','))"
      ],
      "metadata": {
        "colab": {
          "base_uri": "https://localhost:8080/",
          "height": 36
        },
        "id": "su_OoKCnK6z8",
        "outputId": "9461a237-856d-408a-ee81-187969aaa3e2"
      },
      "execution_count": 17,
      "outputs": [
        {
          "output_type": "execute_result",
          "data": {
            "text/plain": [
              "'apple pear grape pineapple orange'"
            ],
            "application/vnd.google.colaboratory.intrinsic+json": {
              "type": "string"
            }
          },
          "metadata": {},
          "execution_count": 17
        }
      ]
    },
    {
      "cell_type": "code",
      "source": [
        "'apple,pear,grape,pineapple,orange'.replace(',',' ')"
      ],
      "metadata": {
        "colab": {
          "base_uri": "https://localhost:8080/",
          "height": 36
        },
        "id": "k24SVs7rLH6j",
        "outputId": "ce5d8c95-ff3e-4c32-9c4b-4c72c6583948"
      },
      "execution_count": 18,
      "outputs": [
        {
          "output_type": "execute_result",
          "data": {
            "text/plain": [
              "'apple pear grape pineapple orange'"
            ],
            "application/vnd.google.colaboratory.intrinsic+json": {
              "type": "string"
            }
          },
          "metadata": {},
          "execution_count": 18
        }
      ]
    },
    {
      "cell_type": "code",
      "source": [
        "s = 'I am a graduate student.'\n",
        "' '.join(word for word in s.split() if word not in stopwords)"
      ],
      "metadata": {
        "colab": {
          "base_uri": "https://localhost:8080/",
          "height": 36
        },
        "id": "JIDqfIzpLO20",
        "outputId": "9b66c70d-acfd-4e93-902c-e84ba263e6fe"
      },
      "execution_count": 19,
      "outputs": [
        {
          "output_type": "execute_result",
          "data": {
            "text/plain": [
              "'graduate student.'"
            ],
            "application/vnd.google.colaboratory.intrinsic+json": {
              "type": "string"
            }
          },
          "metadata": {},
          "execution_count": 19
        }
      ]
    },
    {
      "cell_type": "code",
      "source": [
        "d = s.split()\n",
        "sentence = []\n",
        "for word in d:\n",
        "    if word not in stopwords:\n",
        "        sentence.append(word)\n",
        "sentence = ' '.join(sentence)\n",
        "sentence"
      ],
      "metadata": {
        "colab": {
          "base_uri": "https://localhost:8080/",
          "height": 36
        },
        "id": "ZhWWP0loLhrG",
        "outputId": "7c94d582-0f2c-4d45-cc02-efb1ed7dd9bd"
      },
      "execution_count": 21,
      "outputs": [
        {
          "output_type": "execute_result",
          "data": {
            "text/plain": [
              "'graduate student.'"
            ],
            "application/vnd.google.colaboratory.intrinsic+json": {
              "type": "string"
            }
          },
          "metadata": {},
          "execution_count": 21
        }
      ]
    },
    {
      "cell_type": "markdown",
      "source": [
        "- 대소문자 변환(upper, lower)"
      ],
      "metadata": {
        "id": "sfn-JrcZN_uj"
      }
    },
    {
      "cell_type": "code",
      "source": [
        "'Python'.lower(), 'Python'.upper()"
      ],
      "metadata": {
        "colab": {
          "base_uri": "https://localhost:8080/"
        },
        "id": "bUSxUWtNMEKf",
        "outputId": "3a3f1b84-7d06-4dd9-91b4-40719968d7e5"
      },
      "execution_count": 22,
      "outputs": [
        {
          "output_type": "execute_result",
          "data": {
            "text/plain": [
              "('python', 'PYTHON')"
            ]
          },
          "metadata": {},
          "execution_count": 22
        }
      ]
    },
    {
      "cell_type": "markdown",
      "source": [
        "- 공백 삭제(strip, lstrip, rstrip)"
      ],
      "metadata": {
        "id": "V4Ia2CFUQ3dU"
      }
    },
    {
      "cell_type": "code",
      "source": [
        "s = '  Python  '\n",
        "s.lstrip(), s.rstrip(), s.strip()"
      ],
      "metadata": {
        "colab": {
          "base_uri": "https://localhost:8080/"
        },
        "id": "czbPgELzOL2x",
        "outputId": "a4ac98e3-66b2-4412-e6e6-c6bf7d03fe2e"
      },
      "execution_count": 25,
      "outputs": [
        {
          "output_type": "execute_result",
          "data": {
            "text/plain": [
              "('Python  ', '  Python', 'Python')"
            ]
          },
          "metadata": {},
          "execution_count": 25
        }
      ]
    },
    {
      "cell_type": "markdown",
      "source": [
        "- 구둣점 제거"
      ],
      "metadata": {
        "id": "rT4g2NunRwLZ"
      }
    },
    {
      "cell_type": "code",
      "source": [
        "s = ',=Python.!'\n",
        "s.strip()"
      ],
      "metadata": {
        "colab": {
          "base_uri": "https://localhost:8080/",
          "height": 36
        },
        "id": "R4YY2To6REQz",
        "outputId": "8ed832e4-f41a-44c6-a54c-be0b9155f7bf"
      },
      "execution_count": 26,
      "outputs": [
        {
          "output_type": "execute_result",
          "data": {
            "text/plain": [
              "',=Python.!'"
            ],
            "application/vnd.google.colaboratory.intrinsic+json": {
              "type": "string"
            }
          },
          "metadata": {},
          "execution_count": 26
        }
      ]
    },
    {
      "cell_type": "code",
      "source": [
        "import string\n",
        "string.punctuation"
      ],
      "metadata": {
        "colab": {
          "base_uri": "https://localhost:8080/",
          "height": 36
        },
        "id": "KRIIFXlHRZXG",
        "outputId": "2f8fa3fe-d125-4d2f-e55d-bd096b408a34"
      },
      "execution_count": 27,
      "outputs": [
        {
          "output_type": "execute_result",
          "data": {
            "text/plain": [
              "'!\"#$%&\\'()*+,-./:;<=>?@[\\\\]^_`{|}~'"
            ],
            "application/vnd.google.colaboratory.intrinsic+json": {
              "type": "string"
            }
          },
          "metadata": {},
          "execution_count": 27
        }
      ]
    },
    {
      "cell_type": "code",
      "source": [
        "s.strip(string.punctuation)"
      ],
      "metadata": {
        "colab": {
          "base_uri": "https://localhost:8080/",
          "height": 36
        },
        "id": "IliCtMgPRhmL",
        "outputId": "a0f30865-d617-47b8-cd49-b86f76200852"
      },
      "execution_count": 28,
      "outputs": [
        {
          "output_type": "execute_result",
          "data": {
            "text/plain": [
              "'Python'"
            ],
            "application/vnd.google.colaboratory.intrinsic+json": {
              "type": "string"
            }
          },
          "metadata": {},
          "execution_count": 28
        }
      ]
    },
    {
      "cell_type": "markdown",
      "source": [
        "- 메소드 체이닝(method chaining)"
      ],
      "metadata": {
        "id": "d6lnUndETIJI"
      }
    },
    {
      "cell_type": "code",
      "source": [
        "s = ',=Python.!'\n",
        "s.lower().strip(string.punctuation)"
      ],
      "metadata": {
        "colab": {
          "base_uri": "https://localhost:8080/",
          "height": 36
        },
        "id": "z2yPoeKOSeKr",
        "outputId": "1bb95eb0-47c8-4905-954e-8143167c5a42"
      },
      "execution_count": 30,
      "outputs": [
        {
          "output_type": "execute_result",
          "data": {
            "text/plain": [
              "'python'"
            ],
            "application/vnd.google.colaboratory.intrinsic+json": {
              "type": "string"
            }
          },
          "metadata": {},
          "execution_count": 30
        }
      ]
    },
    {
      "cell_type": "code",
      "source": [
        "s = '  123,000원'\n",
        "int(s.strip(' 원').replace(',',''))"
      ],
      "metadata": {
        "colab": {
          "base_uri": "https://localhost:8080/"
        },
        "id": "c72GUjZnTdxh",
        "outputId": "70a6e293-36ea-4170-eb6c-33b4d502505e"
      },
      "execution_count": 34,
      "outputs": [
        {
          "output_type": "execute_result",
          "data": {
            "text/plain": [
              "123000"
            ]
          },
          "metadata": {},
          "execution_count": 34
        }
      ]
    },
    {
      "cell_type": "code",
      "source": [
        "s = 'USD 1,752.37$'\n",
        "float(s.strip('USD $').replace(',',''))"
      ],
      "metadata": {
        "colab": {
          "base_uri": "https://localhost:8080/"
        },
        "id": "8kBBeVrpUkjD",
        "outputId": "4827427d-0952-480b-b46b-3ef5b73254ce"
      },
      "execution_count": 35,
      "outputs": [
        {
          "output_type": "execute_result",
          "data": {
            "text/plain": [
              "1752.37"
            ]
          },
          "metadata": {},
          "execution_count": 35
        }
      ]
    },
    {
      "cell_type": "markdown",
      "source": [
        "- 정렬(ljust, rjust, center)"
      ],
      "metadata": {
        "id": "Pz5t24idVzrf"
      }
    },
    {
      "cell_type": "code",
      "source": [
        "'python'.ljust(10), 'python'.rjust(10), 'python'.center(11)"
      ],
      "metadata": {
        "colab": {
          "base_uri": "https://localhost:8080/"
        },
        "id": "jRU9Gd6hViwH",
        "outputId": "3f2f0a78-d0e0-4480-8b6f-12059d4eb43a"
      },
      "execution_count": 39,
      "outputs": [
        {
          "output_type": "execute_result",
          "data": {
            "text/plain": [
              "('python    ', '    python', '   python  ')"
            ]
          },
          "metadata": {},
          "execution_count": 39
        }
      ]
    },
    {
      "cell_type": "markdown",
      "source": [
        "- 위치 찾기(find, rfind, index, rindex)"
      ],
      "metadata": {
        "id": "CL-H_VcRWqF9"
      }
    },
    {
      "cell_type": "code",
      "source": [
        "'apple pineapple'.find('pp')"
      ],
      "metadata": {
        "colab": {
          "base_uri": "https://localhost:8080/"
        },
        "id": "iSK89M-lWApO",
        "outputId": "1eaebb87-7857-4b60-a368-334dec3fbef8"
      },
      "execution_count": 40,
      "outputs": [
        {
          "output_type": "execute_result",
          "data": {
            "text/plain": [
              "1"
            ]
          },
          "metadata": {},
          "execution_count": 40
        }
      ]
    },
    {
      "cell_type": "code",
      "source": [
        "'apple pineapple'.find('xy')"
      ],
      "metadata": {
        "colab": {
          "base_uri": "https://localhost:8080/"
        },
        "id": "2RsDyTcmW2X7",
        "outputId": "953f0939-31bf-4423-e0ef-561c49b5ffcb"
      },
      "execution_count": 41,
      "outputs": [
        {
          "output_type": "execute_result",
          "data": {
            "text/plain": [
              "-1"
            ]
          },
          "metadata": {},
          "execution_count": 41
        }
      ]
    },
    {
      "cell_type": "code",
      "source": [
        "s = 'A quick brown fox jumps over the lazy dog.'\n",
        "s.find('fox')"
      ],
      "metadata": {
        "colab": {
          "base_uri": "https://localhost:8080/"
        },
        "id": "4PSlzJmBW_h9",
        "outputId": "e1463468-7045-4e95-f431-ee1ced625906"
      },
      "execution_count": 42,
      "outputs": [
        {
          "output_type": "execute_result",
          "data": {
            "text/plain": [
              "14"
            ]
          },
          "metadata": {},
          "execution_count": 42
        }
      ]
    },
    {
      "cell_type": "code",
      "source": [
        "s.find('wolf')"
      ],
      "metadata": {
        "colab": {
          "base_uri": "https://localhost:8080/"
        },
        "id": "6BXAd8h7XWzk",
        "outputId": "98eaf1ab-167b-4ad3-9d6f-d2d7dc338eaa"
      },
      "execution_count": 43,
      "outputs": [
        {
          "output_type": "execute_result",
          "data": {
            "text/plain": [
              "-1"
            ]
          },
          "metadata": {},
          "execution_count": 43
        }
      ]
    },
    {
      "cell_type": "code",
      "source": [
        "search = 'wolf'\n",
        "if s.find(search) >= 0:\n",
        "    print('문장안에 찾고자 하는 문자열이 있습니다.')\n",
        "else:\n",
        "    print('문장안에 찾고자 하는 문자열이 없습니다.')"
      ],
      "metadata": {
        "colab": {
          "base_uri": "https://localhost:8080/"
        },
        "id": "uXrzkmxgXY3E",
        "outputId": "0b1301d9-8bcd-4db3-888c-477cbc419812"
      },
      "execution_count": 45,
      "outputs": [
        {
          "output_type": "stream",
          "name": "stdout",
          "text": [
            "문장안에 찾고자 하는 문자열이 없습니다.\n"
          ]
        }
      ]
    },
    {
      "cell_type": "code",
      "source": [
        "'fox' in s"
      ],
      "metadata": {
        "colab": {
          "base_uri": "https://localhost:8080/"
        },
        "id": "HyGEuCkxXwDr",
        "outputId": "64eacc85-d5c0-4d25-f16f-28dffdbc78ae"
      },
      "execution_count": 47,
      "outputs": [
        {
          "output_type": "execute_result",
          "data": {
            "text/plain": [
              "True"
            ]
          },
          "metadata": {},
          "execution_count": 47
        }
      ]
    },
    {
      "cell_type": "code",
      "source": [
        "'apple pineapple'.rfind('pp')"
      ],
      "metadata": {
        "colab": {
          "base_uri": "https://localhost:8080/"
        },
        "id": "YyjJ_R1iYIME",
        "outputId": "4c514dfb-3db1-45ed-e89c-70ffbc85676f"
      },
      "execution_count": 48,
      "outputs": [
        {
          "output_type": "execute_result",
          "data": {
            "text/plain": [
              "11"
            ]
          },
          "metadata": {},
          "execution_count": 48
        }
      ]
    },
    {
      "cell_type": "code",
      "source": [
        "'apple pineapple'.index('pp'), 'apple pineapple'.rindex('pp')"
      ],
      "metadata": {
        "colab": {
          "base_uri": "https://localhost:8080/"
        },
        "id": "o6EqAeETYfey",
        "outputId": "05f433b1-6915-480c-f2a4-abc581712d3a"
      },
      "execution_count": 49,
      "outputs": [
        {
          "output_type": "execute_result",
          "data": {
            "text/plain": [
              "(1, 11)"
            ]
          },
          "metadata": {},
          "execution_count": 49
        }
      ]
    },
    {
      "cell_type": "markdown",
      "source": [
        "- 문자열 개수 세기"
      ],
      "metadata": {
        "id": "PbGTWhy9Yy1c"
      }
    },
    {
      "cell_type": "code",
      "source": [
        "'apple pineapple'.count('pp')"
      ],
      "metadata": {
        "colab": {
          "base_uri": "https://localhost:8080/"
        },
        "id": "Mgf42eYMYqzU",
        "outputId": "ac766d82-6698-4664-e4d9-46399f6e6be6"
      },
      "execution_count": 50,
      "outputs": [
        {
          "output_type": "execute_result",
          "data": {
            "text/plain": [
              "2"
            ]
          },
          "metadata": {},
          "execution_count": 50
        }
      ]
    },
    {
      "cell_type": "markdown",
      "source": [
        "### 연습문제\n",
        "<pre>\n",
        "1. 디지털 시계(00:00 ~ 23:59)가 있다.\n",
        "하룻동안 3이라는 숫자가 표시되는 시간은 몇초인가?\n",
        "\n",
        "2. 1에서 1000까지 숫자에서 0,1,...,9는 몇번 나오나?\n",
        "</pre>"
      ],
      "metadata": {
        "id": "wKW6mkPyY8q3"
      }
    },
    {
      "cell_type": "code",
      "source": [
        "# 1. 디지털 시계\n",
        "time = 0\n",
        "for hour in range(24):\n",
        "    for minute in range(60):\n",
        "        display = str(hour) + ':' + str(minute)\n",
        "        # display = f'{hour:02d}:{minute:02d}'\n",
        "        if '3' in display:              # if display.find('3') >= 0\n",
        "            time += 60\n",
        "print(time)"
      ],
      "metadata": {
        "colab": {
          "base_uri": "https://localhost:8080/"
        },
        "id": "kPeYFbvCY4eW",
        "outputId": "815e0580-40d5-459c-988a-ae5bf55a0553"
      },
      "execution_count": 51,
      "outputs": [
        {
          "output_type": "stream",
          "name": "stdout",
          "text": [
            "29700\n"
          ]
        }
      ]
    },
    {
      "cell_type": "code",
      "source": [
        "# 2. 숫자 갯수\n",
        "num_string = ''\n",
        "for i in range(1,1001):\n",
        "    num_string += str(i)"
      ],
      "metadata": {
        "id": "I5Zd_VpdfH2y"
      },
      "execution_count": 57,
      "outputs": []
    },
    {
      "cell_type": "code",
      "source": [
        "for i in range(10):\n",
        "    count = num_string.count(str(i))\n",
        "    print(i, count)"
      ],
      "metadata": {
        "colab": {
          "base_uri": "https://localhost:8080/"
        },
        "id": "j77NIi-gf8B-",
        "outputId": "3ec14711-e9e1-49ed-f66a-efb03b45be93"
      },
      "execution_count": 58,
      "outputs": [
        {
          "output_type": "stream",
          "name": "stdout",
          "text": [
            "0 192\n",
            "1 301\n",
            "2 300\n",
            "3 300\n",
            "4 300\n",
            "5 300\n",
            "6 300\n",
            "7 300\n",
            "8 300\n",
            "9 300\n"
          ]
        }
      ]
    },
    {
      "cell_type": "markdown",
      "source": [
        "### 24.2 문자열 서식 지정자와 포맷팅"
      ],
      "metadata": {
        "id": "Q6FgTbDtguTs"
      }
    },
    {
      "cell_type": "code",
      "source": [
        "ss = 'python'        # 문자열\n",
        "print(f'==={ss:10s}===')"
      ],
      "metadata": {
        "colab": {
          "base_uri": "https://localhost:8080/"
        },
        "id": "VV1CwXsjgOzF",
        "outputId": "8032e76a-024f-4a11-aacd-bb2933447d47"
      },
      "execution_count": 76,
      "outputs": [
        {
          "output_type": "stream",
          "name": "stdout",
          "text": [
            "===python    ===\n"
          ]
        }
      ]
    },
    {
      "cell_type": "code",
      "source": [
        "print('===', ss, '    ', '===', sep='')"
      ],
      "metadata": {
        "colab": {
          "base_uri": "https://localhost:8080/"
        },
        "id": "i1zFFkdOkxGw",
        "outputId": "165b2e5a-bba0-4b60-9a63-7df3bdcf7911"
      },
      "execution_count": 78,
      "outputs": [
        {
          "output_type": "stream",
          "name": "stdout",
          "text": [
            "===python    ===\n"
          ]
        }
      ]
    },
    {
      "cell_type": "code",
      "source": [
        "dd = 3               # 정수\n",
        "f'==={dd:4d}:{dd:02d}==='"
      ],
      "metadata": {
        "colab": {
          "base_uri": "https://localhost:8080/",
          "height": 36
        },
        "id": "m-ofDJZghUAx",
        "outputId": "28a77be7-0387-4965-e8c1-6bfb103a9229"
      },
      "execution_count": 65,
      "outputs": [
        {
          "output_type": "execute_result",
          "data": {
            "text/plain": [
              "'===   3:03==='"
            ],
            "application/vnd.google.colaboratory.intrinsic+json": {
              "type": "string"
            }
          },
          "metadata": {},
          "execution_count": 65
        }
      ]
    },
    {
      "cell_type": "code",
      "source": [
        "year, month, day, hour, minute = 2022, 3, 29, 11, 6\n",
        "f'오늘은 {year}-{month:02d}-{day:02d} 이고, 시간은 {hour:02d}:{minute:02d} 입니다.'"
      ],
      "metadata": {
        "colab": {
          "base_uri": "https://localhost:8080/",
          "height": 36
        },
        "id": "_2MdH_JGhx6X",
        "outputId": "0e68fc41-6f29-4c89-94a6-6eec3dc82fc8"
      },
      "execution_count": 67,
      "outputs": [
        {
          "output_type": "execute_result",
          "data": {
            "text/plain": [
              "'오늘은 2022-03-29 이고, 시간은 11:06 입니다.'"
            ],
            "application/vnd.google.colaboratory.intrinsic+json": {
              "type": "string"
            }
          },
          "metadata": {},
          "execution_count": 67
        }
      ]
    },
    {
      "cell_type": "code",
      "source": [
        "price1, price2 = 35000, 1200000\n",
        "print(f'가격1: {price1:10,d}원')\n",
        "print(f'가격2: {price2:10,d}원')"
      ],
      "metadata": {
        "colab": {
          "base_uri": "https://localhost:8080/"
        },
        "id": "a-sqR4-wicXj",
        "outputId": "c2d377a6-5619-48c7-9929-49e3c8778bb9"
      },
      "execution_count": 72,
      "outputs": [
        {
          "output_type": "stream",
          "name": "stdout",
          "text": [
            "가격1:     35,000원\n",
            "가격2:  1,200,000원\n"
          ]
        }
      ]
    },
    {
      "cell_type": "code",
      "source": [
        "import math\n",
        "f'파이값은 {math.pi:8.4f} 입니다.'"
      ],
      "metadata": {
        "colab": {
          "base_uri": "https://localhost:8080/",
          "height": 36
        },
        "id": "kVjkzCv5jFEd",
        "outputId": "e8772273-e791-4d39-b877-7eda4de13bf2"
      },
      "execution_count": 75,
      "outputs": [
        {
          "output_type": "execute_result",
          "data": {
            "text/plain": [
              "'파이값은   3.1416 입니다.'"
            ],
            "application/vnd.google.colaboratory.intrinsic+json": {
              "type": "string"
            }
          },
          "metadata": {},
          "execution_count": 75
        }
      ]
    },
    {
      "cell_type": "code",
      "source": [
        ""
      ],
      "metadata": {
        "id": "7nxF-6WckMqu"
      },
      "execution_count": null,
      "outputs": []
    }
  ]
}
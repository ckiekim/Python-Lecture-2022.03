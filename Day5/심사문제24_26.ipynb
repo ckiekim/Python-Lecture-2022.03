{
  "nbformat": 4,
  "nbformat_minor": 0,
  "metadata": {
    "colab": {
      "name": "심사문제24_26.ipynb",
      "provenance": [],
      "collapsed_sections": []
    },
    "kernelspec": {
      "name": "python3",
      "display_name": "Python 3"
    },
    "language_info": {
      "name": "python"
    }
  },
  "cells": [
    {
      "cell_type": "markdown",
      "source": [
        "### 심사문제 24.5\n",
        "<pre>\n",
        "표준 입력으로 문자열이 입력됩니다. 입력된 문자열에서 'the'의 개수를 출력하는 \n",
        "프로그램을 만드세요(input에서 안내 문자열은 출력하지 않아야 합니다). \n",
        "단, 모든 문자가 소문자인 'the'만 찾으면 되며 'them', 'there', 'their' 등은 포함하지 않아야 합니다.\n",
        "</pre>"
      ],
      "metadata": {
        "id": "Q0r9tpAgVyZs"
      }
    },
    {
      "cell_type": "code",
      "execution_count": 1,
      "metadata": {
        "colab": {
          "base_uri": "https://localhost:8080/"
        },
        "id": "MrfhpdJBVqyE",
        "outputId": "6917f5be-0385-47e2-dad6-50c37d254c7d"
      },
      "outputs": [
        {
          "output_type": "execute_result",
          "data": {
            "text/plain": [
              "8"
            ]
          },
          "metadata": {},
          "execution_count": 1
        }
      ],
      "source": [
        "text = \"\"\"\n",
        "the grown-ups' response, this time, was to advise me to lay aside my drawings of boa constrictors, \n",
        "whether from the inside or the outside, and devote myself instead to geography, history, arithmetic, \n",
        "and grammar. That is why, at the, age of six, I gave up what might have been a magnificent career \n",
        "as a painter. I had been disheartened by the failure of my Drawing Number One and my Drawing Number Two. \n",
        "Grown-ups never understand anything by themselves, and it is tiresome for children to be always and \n",
        "forever explaining things to the.\n",
        "\"\"\"\n",
        "text.count('the')"
      ]
    },
    {
      "cell_type": "code",
      "source": [
        "text_list = text.split()\n",
        "count_the = 0\n",
        "for word in text_list:\n",
        "    word = word.strip(\"',.\").lower()\n",
        "    if word == 'the':\n",
        "        count_the += 1\n",
        "print(count_the)"
      ],
      "metadata": {
        "colab": {
          "base_uri": "https://localhost:8080/"
        },
        "id": "g0nL4AhJabQo",
        "outputId": "c2f885d2-f2fd-46fc-f4a5-a642bacb802e"
      },
      "execution_count": 2,
      "outputs": [
        {
          "output_type": "stream",
          "name": "stdout",
          "text": [
            "6\n"
          ]
        }
      ]
    },
    {
      "cell_type": "markdown",
      "source": [
        "### 심사문제 24.6\n",
        "<pre>\n",
        "표준 입력으로 물품 가격 여러 개가 문자열 한 줄로 입력되고, 각 가격은 ;(세미콜론)으로 구분되어 있습니다. \n",
        "입력된 가격을 높은 가격순으로 출력하는 프로그램을 만드세요(input에서 안내 문자열은 출력하지 않아야 합니다). \n",
        "이때 가격은 길이를 9로 만든 뒤 오른쪽으로 정렬하고 천단위로 ,(콤마)를 넣으세요.\n",
        "</pre>"
      ],
      "metadata": {
        "id": "9LaPkkWUXhSj"
      }
    },
    {
      "cell_type": "code",
      "source": [
        "input_str = '51900;83000;158000;367500;250000;59200;128500;1304000'\n",
        "price_list = list(map(int, input_str.split(';')))\n",
        "price_list"
      ],
      "metadata": {
        "colab": {
          "base_uri": "https://localhost:8080/"
        },
        "id": "xNHtTv24Xh3o",
        "outputId": "464a70cd-495f-4ad0-aec7-6bb8cb078684"
      },
      "execution_count": 3,
      "outputs": [
        {
          "output_type": "execute_result",
          "data": {
            "text/plain": [
              "[51900, 83000, 158000, 367500, 250000, 59200, 128500, 1304000]"
            ]
          },
          "metadata": {},
          "execution_count": 3
        }
      ]
    },
    {
      "cell_type": "code",
      "source": [
        "price_list.sort(reverse=True)       # Descending order(내림차순)\n",
        "price_list"
      ],
      "metadata": {
        "colab": {
          "base_uri": "https://localhost:8080/"
        },
        "id": "31-U_fe7bTB5",
        "outputId": "b4e32103-595c-4c04-ee8c-99d83a6e1201"
      },
      "execution_count": 4,
      "outputs": [
        {
          "output_type": "execute_result",
          "data": {
            "text/plain": [
              "[1304000, 367500, 250000, 158000, 128500, 83000, 59200, 51900]"
            ]
          },
          "metadata": {},
          "execution_count": 4
        }
      ]
    },
    {
      "cell_type": "code",
      "source": [
        "for price in price_list:\n",
        "    print(f'{price:9,d}')"
      ],
      "metadata": {
        "colab": {
          "base_uri": "https://localhost:8080/"
        },
        "id": "JXbkOKZCbSqP",
        "outputId": "acae94a0-f32b-4af4-8c5e-309f124d9538"
      },
      "execution_count": 5,
      "outputs": [
        {
          "output_type": "stream",
          "name": "stdout",
          "text": [
            "1,304,000\n",
            "  367,500\n",
            "  250,000\n",
            "  158,000\n",
            "  128,500\n",
            "   83,000\n",
            "   59,200\n",
            "   51,900\n"
          ]
        }
      ]
    },
    {
      "cell_type": "markdown",
      "source": [
        "### 심사문제 25.8\n",
        "<pre>\n",
        "표준 입력으로 문자열 여러 개와 숫자 여러 개가 두 줄로 입력되고, 첫 번째 줄은 키, 두 번째 줄은 값으로 하여 딕셔너리를 생성합니다. \n",
        "다음 코드를 완성하여 딕셔너리에서 키가 'delta'인 키-값 쌍과 값이 30인 키-값 쌍을 삭제하도록 만드세요.\n",
        "</pre>"
      ],
      "metadata": {
        "id": "_xYz9ZTSXiTe"
      }
    },
    {
      "cell_type": "code",
      "source": [
        "# alpha bravo charlie delta\n",
        "# 10 20 30 40\n",
        "keys = input().split()\n",
        "values = map(int, input().split())\n",
        "x = dict(zip(keys, values))\n",
        "x"
      ],
      "metadata": {
        "colab": {
          "base_uri": "https://localhost:8080/"
        },
        "id": "j0DB6iflXje2",
        "outputId": "97a43313-04a5-4e82-ca50-a0707ffb9796"
      },
      "execution_count": 12,
      "outputs": [
        {
          "name": "stdout",
          "output_type": "stream",
          "text": [
            "alpha bravo charlie delta\n",
            "10 20 30 40\n"
          ]
        },
        {
          "output_type": "execute_result",
          "data": {
            "text/plain": [
              "{'alpha': 10, 'bravo': 20, 'charlie': 30, 'delta': 40}"
            ]
          },
          "metadata": {},
          "execution_count": 12
        }
      ]
    },
    {
      "cell_type": "code",
      "source": [
        "del x['delta']\n",
        "x"
      ],
      "metadata": {
        "colab": {
          "base_uri": "https://localhost:8080/"
        },
        "id": "t9GWi20db7hD",
        "outputId": "8824297d-f127-40fe-d20c-9d33cee4cf3a"
      },
      "execution_count": 13,
      "outputs": [
        {
          "output_type": "execute_result",
          "data": {
            "text/plain": [
              "{'alpha': 10, 'bravo': 20, 'charlie': 30}"
            ]
          },
          "metadata": {},
          "execution_count": 13
        }
      ]
    },
    {
      "cell_type": "code",
      "source": [
        "# 반복문에서 반복 대상이 되는 딕셔너리의 크기를 변경시키는 작업을 하면 안됨\n",
        "for key, value in x.items():\n",
        "    if value == 30:\n",
        "        del x[key]"
      ],
      "metadata": {
        "colab": {
          "base_uri": "https://localhost:8080/",
          "height": 215
        },
        "id": "ugIspaz7ztlL",
        "outputId": "921361e5-844c-40df-ac8e-67b84ea75250"
      },
      "execution_count": 8,
      "outputs": [
        {
          "output_type": "error",
          "ename": "RuntimeError",
          "evalue": "ignored",
          "traceback": [
            "\u001b[0;31m---------------------------------------------------------------------------\u001b[0m",
            "\u001b[0;31mRuntimeError\u001b[0m                              Traceback (most recent call last)",
            "\u001b[0;32m<ipython-input-8-19e57120800e>\u001b[0m in \u001b[0;36m<module>\u001b[0;34m()\u001b[0m\n\u001b[0;32m----> 1\u001b[0;31m \u001b[0;32mfor\u001b[0m \u001b[0mkey\u001b[0m\u001b[0;34m,\u001b[0m \u001b[0mvalue\u001b[0m \u001b[0;32min\u001b[0m \u001b[0mx\u001b[0m\u001b[0;34m.\u001b[0m\u001b[0mitems\u001b[0m\u001b[0;34m(\u001b[0m\u001b[0;34m)\u001b[0m\u001b[0;34m:\u001b[0m\u001b[0;34m\u001b[0m\u001b[0;34m\u001b[0m\u001b[0m\n\u001b[0m\u001b[1;32m      2\u001b[0m     \u001b[0;32mif\u001b[0m \u001b[0mvalue\u001b[0m \u001b[0;34m==\u001b[0m \u001b[0;36m30\u001b[0m\u001b[0;34m:\u001b[0m\u001b[0;34m\u001b[0m\u001b[0;34m\u001b[0m\u001b[0m\n\u001b[1;32m      3\u001b[0m         \u001b[0;32mdel\u001b[0m \u001b[0mx\u001b[0m\u001b[0;34m[\u001b[0m\u001b[0mkey\u001b[0m\u001b[0;34m]\u001b[0m\u001b[0;34m\u001b[0m\u001b[0;34m\u001b[0m\u001b[0m\n",
            "\u001b[0;31mRuntimeError\u001b[0m: dictionary changed size during iteration"
          ]
        }
      ]
    },
    {
      "cell_type": "code",
      "source": [
        "l = [10,20,30,40]\n",
        "for i, val in enumerate(l):\n",
        "    if val == 30:\n",
        "        del l[i]\n",
        "l"
      ],
      "metadata": {
        "colab": {
          "base_uri": "https://localhost:8080/"
        },
        "id": "9-p884TX0M-4",
        "outputId": "1206e2e8-6178-4ed3-eaa9-2e28a55cf425"
      },
      "execution_count": 10,
      "outputs": [
        {
          "output_type": "execute_result",
          "data": {
            "text/plain": [
              "[10, 20, 40]"
            ]
          },
          "metadata": {},
          "execution_count": 10
        }
      ]
    },
    {
      "cell_type": "code",
      "source": [
        "for key, value in x.items():\n",
        "    if value == 30:\n",
        "        break\n",
        "x.pop(key)                      # del x[key]\n",
        "x"
      ],
      "metadata": {
        "colab": {
          "base_uri": "https://localhost:8080/"
        },
        "id": "2jgZvPjncAgk",
        "outputId": "dc2b1047-bcfe-45ec-c387-d145d9e529cc"
      },
      "execution_count": 14,
      "outputs": [
        {
          "output_type": "execute_result",
          "data": {
            "text/plain": [
              "{'alpha': 10, 'bravo': 20}"
            ]
          },
          "metadata": {},
          "execution_count": 14
        }
      ]
    },
    {
      "cell_type": "markdown",
      "source": [
        "### 심사문제 26.9\n",
        "<pre>\n",
        "표준 입력으로 양의 정수 두 개가 입력됩니다. 다음 소스 코드를 완성하여 두 숫자의 공약수를 세트 형태로 구하도록 만드세요. \n",
        "단, 최종 결과는 공약수의 합으로 판단합니다.\n",
        "</pre>"
      ],
      "metadata": {
        "id": "hlRWebxSXkAH"
      }
    },
    {
      "cell_type": "code",
      "source": [
        "# 약수의 집합\n",
        "div_set = set()\n",
        "x = 10\n",
        "for i in range(1, x+1):\n",
        "    if x % i == 0:\n",
        "        div_set.add(i)\n",
        "div_set"
      ],
      "metadata": {
        "colab": {
          "base_uri": "https://localhost:8080/"
        },
        "id": "AE0TmidzXlCh",
        "outputId": "b85802c6-fb63-438a-e88e-7a5278325211"
      },
      "execution_count": 15,
      "outputs": [
        {
          "output_type": "execute_result",
          "data": {
            "text/plain": [
              "{1, 2, 5, 10}"
            ]
          },
          "metadata": {},
          "execution_count": 15
        }
      ]
    },
    {
      "cell_type": "code",
      "source": [
        "div_set = {i for i in range(1, x+1) if x % i == 0}\n",
        "div_set"
      ],
      "metadata": {
        "colab": {
          "base_uri": "https://localhost:8080/"
        },
        "id": "IY4qIupI1blA",
        "outputId": "7d89c9fc-e0f9-458d-c3c2-04db34d8edd3"
      },
      "execution_count": 16,
      "outputs": [
        {
          "output_type": "execute_result",
          "data": {
            "text/plain": [
              "{1, 2, 5, 10}"
            ]
          },
          "metadata": {},
          "execution_count": 16
        }
      ]
    },
    {
      "cell_type": "code",
      "source": [
        "x, y = map(int, input().split())\n",
        "a = {i for i in range(1, x+1) if x % i == 0}\n",
        "b = {i for i in range(1, y+1) if y % i == 0}\n",
        "print(a, b)"
      ],
      "metadata": {
        "colab": {
          "base_uri": "https://localhost:8080/"
        },
        "id": "eIYeThIQeCOw",
        "outputId": "0d937829-5738-46d1-ad5f-f327ff793378"
      },
      "execution_count": 17,
      "outputs": [
        {
          "output_type": "stream",
          "name": "stdout",
          "text": [
            "12 20\n",
            "{1, 2, 3, 4, 6, 12} {1, 2, 4, 5, 10, 20}\n"
          ]
        }
      ]
    },
    {
      "cell_type": "code",
      "source": [
        "common_divisor = a & b          # 공약수는 각 약수의 교집합\n",
        " \n",
        "if type(common_divisor) == set:\n",
        "    result = sum(common_divisor)\n",
        " \n",
        "print(result)"
      ],
      "metadata": {
        "colab": {
          "base_uri": "https://localhost:8080/"
        },
        "id": "MlFxDi4LeNnv",
        "outputId": "3110612d-95d6-4718-f088-b76a617fb4b9"
      },
      "execution_count": 18,
      "outputs": [
        {
          "output_type": "stream",
          "name": "stdout",
          "text": [
            "7\n"
          ]
        }
      ]
    },
    {
      "cell_type": "code",
      "source": [
        ""
      ],
      "metadata": {
        "id": "W30xdDmDedOa"
      },
      "execution_count": null,
      "outputs": []
    }
  ]
}
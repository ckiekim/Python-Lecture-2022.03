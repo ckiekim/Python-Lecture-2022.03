{
  "nbformat": 4,
  "nbformat_minor": 0,
  "metadata": {
    "colab": {
      "name": "심사문제38_45.ipynb",
      "provenance": [],
      "collapsed_sections": []
    },
    "kernelspec": {
      "name": "python3",
      "display_name": "Python 3"
    },
    "language_info": {
      "name": "python"
    }
  },
  "cells": [
    {
      "cell_type": "markdown",
      "source": [
        "### 심사문제 38.7\n",
        "<pre>\n",
        "표준 입력으로 문자열이 입력됩니다. \n",
        "다음 소스 코드를 완성하여 입력된 문자열이 회문이면 문자열을 그대로 출력하고, \n",
        "회문이 아니면 '회문이 아닙니다.'를 출력하도록 만드세요. \n",
        "palindrome 함수와 NotPalindromeError 예외를 작성해야 합니다.\n",
        "</pre>"
      ],
      "metadata": {
        "id": "LHfvyY7YUN30"
      }
    },
    {
      "cell_type": "code",
      "execution_count": null,
      "metadata": {
        "id": "XD6EGR3hT28a"
      },
      "outputs": [],
      "source": [
        "class NotPalindromeError(Exception):\n",
        "    def __init__(self):\n",
        "        super().__init__('회문이 아닙니다.')\n",
        "\n",
        "def palindrome(s):\n",
        "    if s != s[::-1]:\n",
        "        raise(NotPalindromeError)\n",
        "    print(s)\n",
        "\n",
        "try:\n",
        "    word = input()\n",
        "    palindrome(word)\n",
        "except NotPalindromeError as e:\n",
        "    print(e)"
      ]
    },
    {
      "cell_type": "markdown",
      "source": [
        "### 심사문제 43.6\n",
        "<pre>\n",
        "표준 입력으로 URL 문자열이 입력됩니다. \n",
        "입력된 URL이 올바르면 True, 잘못되었으면 False를 출력하는 프로그램을 만드세요. \n",
        "이 심사문제에서 판단해야 할 URL의 규칙은 다음과 같습니다.\n",
        "\n",
        "    - http:// 또는 https://로 시작\n",
        "    - 도메인은 도메인.최상위도메인 형식이며 영문 대소문자, 숫자, -로 되어 있어야 함\n",
        "    - 도메인 이하 경로는 /로 구분하고, 영문 대소문자, 숫자, -, _, ., ?, =을 사용함\n",
        "</pre>"
      ],
      "metadata": {
        "id": "YYHb0WU9UaMX"
      }
    },
    {
      "cell_type": "code",
      "source": [
        "import re\n",
        "# 이메일 정규표현식\n",
        "# '^[a-zA-Z0-9+-_.]+@[a-zA-Z0-9-]+\\.[a-zA-Z0-9-.]+$'"
      ],
      "metadata": {
        "id": "rSXV10RXUbTb"
      },
      "execution_count": null,
      "outputs": []
    },
    {
      "cell_type": "code",
      "source": [
        "# http://www.example.com/hello/world.do?key=python\n",
        "# https://example/hello/world.html\n",
        "url = input()\n",
        "pattern = '(http|https)://[a-zA-Z0-9-]+\\.[a-zA-Z0-9-]+[/a-zA-Z0-9-_.?=]+'\n",
        "re.match(pattern, url) != None"
      ],
      "metadata": {
        "id": "9A4nH0Z0a_b9"
      },
      "execution_count": null,
      "outputs": []
    },
    {
      "cell_type": "markdown",
      "source": [
        "### 심사문제 44.6\n",
        "<pre>\n",
        "표준 입력으로 원의 반지름(실수)이 입력됩니다. \n",
        "입력된 반지름을 이용하여 원의 넓이를 출력하는 프로그램을 만드세요(input에서 안내 문자열은 출력하지 않아야 합니다).\n",
        "원의 넓이는 반지름 * 반지름 * 원주율로 구합니다.\n",
        "</pre>"
      ],
      "metadata": {
        "id": "dnIJUpudUbo2"
      }
    },
    {
      "cell_type": "code",
      "source": [
        "import math\n",
        "radius = float(input())\n",
        "area = math.pi * radius * radius\n",
        "print(round(area, 4))"
      ],
      "metadata": {
        "id": "JAgf-lzZUcf9"
      },
      "execution_count": null,
      "outputs": []
    },
    {
      "cell_type": "markdown",
      "source": [
        "### 심사문제 45.7\n",
        "<pre>\n",
        "표준 입력으로 정수가 입력됩니다. \n",
        "주어진 calcpkg 패키지를 활용하여 입력된 정수의 제곱근과 입력된 정수를 반지름으로 하는 원의 넓이가 출력되게 만드세요. \n",
        "제곱근은 calcpkg 패키지에서 operation 모듈의 squareroot 함수를 사용하고, \n",
        "원의 넓이는 calcpkg 패키지에서 geometry 모듈의 circle_area 함수를 사용하세요\n",
        "(calcpkg 패키지를 사용하지 않고 계산하면 결과가 맞더라도 틀린 것으로 처리됩니다. 반드시 calcpkg 패키지를 사용하세요).\n",
        "</pre>"
      ],
      "metadata": {
        "id": "CHjSksAtUc2s"
      }
    },
    {
      "cell_type": "code",
      "source": [
        "from google.colab import files"
      ],
      "metadata": {
        "id": "_B3GLG0tdf6Y"
      },
      "execution_count": null,
      "outputs": []
    },
    {
      "cell_type": "code",
      "source": [
        "!ls -l /content"
      ],
      "metadata": {
        "id": "Xk5LQo_edzL2"
      },
      "execution_count": null,
      "outputs": []
    },
    {
      "cell_type": "code",
      "source": [
        "!mkdir calcpkg\n",
        "%cd calcpkg\n",
        "up = files.upload()"
      ],
      "metadata": {
        "id": "YT7vdCbcdU4F"
      },
      "execution_count": null,
      "outputs": []
    },
    {
      "cell_type": "code",
      "source": [
        "from calcpkg.operation import squareroot\n",
        "from calcpkg.geometry import circle_area\n",
        "\n",
        "num = int(input())\n",
        "print(squareroot(num))\n",
        "print(circle_area(num))"
      ],
      "metadata": {
        "id": "hrSC5olXUdwH"
      },
      "execution_count": null,
      "outputs": []
    },
    {
      "cell_type": "code",
      "source": [
        ""
      ],
      "metadata": {
        "id": "Ix9jbGvHej-M"
      },
      "execution_count": null,
      "outputs": []
    }
  ]
}
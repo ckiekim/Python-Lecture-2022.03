{
  "nbformat": 4,
  "nbformat_minor": 0,
  "metadata": {
    "colab": {
      "name": "u38_예외처리.ipynb",
      "provenance": [],
      "collapsed_sections": []
    },
    "kernelspec": {
      "name": "python3",
      "display_name": "Python 3"
    },
    "language_info": {
      "name": "python"
    }
  },
  "cells": [
    {
      "cell_type": "markdown",
      "source": [
        "# Unit 38. 예외(Exception) 처리\n",
        "### 38.1 try except"
      ],
      "metadata": {
        "id": "6lqDkZKcKl9K"
      }
    },
    {
      "cell_type": "code",
      "execution_count": 1,
      "metadata": {
        "colab": {
          "base_uri": "https://localhost:8080/",
          "height": 196
        },
        "id": "RQ3iKe66KkI4",
        "outputId": "64feb6e8-26e8-48a8-f0fe-be903977529a"
      },
      "outputs": [
        {
          "output_type": "error",
          "ename": "IndexError",
          "evalue": "ignored",
          "traceback": [
            "\u001b[0;31m---------------------------------------------------------------------------\u001b[0m",
            "\u001b[0;31mIndexError\u001b[0m                                Traceback (most recent call last)",
            "\u001b[0;32m<ipython-input-1-35ef81e26519>\u001b[0m in \u001b[0;36m<module>\u001b[0;34m()\u001b[0m\n\u001b[1;32m      1\u001b[0m \u001b[0ma\u001b[0m \u001b[0;34m=\u001b[0m \u001b[0;34m[\u001b[0m\u001b[0;36m1\u001b[0m\u001b[0;34m,\u001b[0m \u001b[0;36m2\u001b[0m\u001b[0;34m,\u001b[0m \u001b[0;36m3\u001b[0m\u001b[0;34m]\u001b[0m\u001b[0;34m\u001b[0m\u001b[0;34m\u001b[0m\u001b[0m\n\u001b[0;32m----> 2\u001b[0;31m \u001b[0ma\u001b[0m\u001b[0;34m[\u001b[0m\u001b[0;36m3\u001b[0m\u001b[0;34m]\u001b[0m\u001b[0;34m\u001b[0m\u001b[0;34m\u001b[0m\u001b[0m\n\u001b[0m",
            "\u001b[0;31mIndexError\u001b[0m: list index out of range"
          ]
        }
      ],
      "source": [
        "a = [1, 2, 3]\n",
        "a[3]"
      ]
    },
    {
      "cell_type": "code",
      "source": [
        "try:\n",
        "    a[3]\n",
        "except:\n",
        "    print('인덱스 에러 발생')"
      ],
      "metadata": {
        "colab": {
          "base_uri": "https://localhost:8080/"
        },
        "id": "SucEJnxwK5nw",
        "outputId": "b4cea511-7a46-427f-aa53-24323a5a21bf"
      },
      "execution_count": 2,
      "outputs": [
        {
          "output_type": "stream",
          "name": "stdout",
          "text": [
            "인덱스 에러 발생\n"
          ]
        }
      ]
    },
    {
      "cell_type": "code",
      "source": [
        "int('10d')"
      ],
      "metadata": {
        "colab": {
          "base_uri": "https://localhost:8080/",
          "height": 177
        },
        "id": "Cg1LmKPbLnoy",
        "outputId": "b862c186-f351-448f-88d5-bbb6f4bb0c81"
      },
      "execution_count": 3,
      "outputs": [
        {
          "output_type": "error",
          "ename": "ValueError",
          "evalue": "ignored",
          "traceback": [
            "\u001b[0;31m---------------------------------------------------------------------------\u001b[0m",
            "\u001b[0;31mValueError\u001b[0m                                Traceback (most recent call last)",
            "\u001b[0;32m<ipython-input-3-331fb23f7ae1>\u001b[0m in \u001b[0;36m<module>\u001b[0;34m()\u001b[0m\n\u001b[0;32m----> 1\u001b[0;31m \u001b[0mint\u001b[0m\u001b[0;34m(\u001b[0m\u001b[0;34m'10d'\u001b[0m\u001b[0;34m)\u001b[0m\u001b[0;34m\u001b[0m\u001b[0;34m\u001b[0m\u001b[0m\n\u001b[0m",
            "\u001b[0;31mValueError\u001b[0m: invalid literal for int() with base 10: '10d'"
          ]
        }
      ]
    },
    {
      "cell_type": "code",
      "source": [
        "try:\n",
        "    print(int('10d'))\n",
        "except:\n",
        "    print('예외 발생')"
      ],
      "metadata": {
        "colab": {
          "base_uri": "https://localhost:8080/"
        },
        "id": "34lCrKx2L5-R",
        "outputId": "66aded7c-7f31-4dde-ae39-791bdb91719f"
      },
      "execution_count": 7,
      "outputs": [
        {
          "output_type": "stream",
          "name": "stdout",
          "text": [
            "예외 발생\n"
          ]
        }
      ]
    },
    {
      "cell_type": "markdown",
      "source": [
        "- 특정 예외만 처리"
      ],
      "metadata": {
        "id": "hCeBnojTOes6"
      }
    },
    {
      "cell_type": "code",
      "source": [
        "try:\n",
        "    x = int(input())\n",
        "    y = 100 / x\n",
        "    print(y, a[x])\n",
        "except ValueError:\n",
        "    print('입력값이 틀렸습니다.')\n",
        "except ZeroDivisionError:\n",
        "    print('0으로 나눌 수 없습니다.')\n",
        "except IndexError:\n",
        "    print('Index 에러 발생')"
      ],
      "metadata": {
        "colab": {
          "base_uri": "https://localhost:8080/"
        },
        "id": "8Psxm8cAMD9R",
        "outputId": "1d6372b1-2e8c-4d2e-cfe3-74dd2108783b"
      },
      "execution_count": 12,
      "outputs": [
        {
          "output_type": "stream",
          "name": "stdout",
          "text": [
            "4\n",
            "Index 에러 발생\n"
          ]
        }
      ]
    },
    {
      "cell_type": "markdown",
      "source": [
        "- 다양한 예외의 에러 메시지 받기"
      ],
      "metadata": {
        "id": "T5bECzzfQwIo"
      }
    },
    {
      "cell_type": "code",
      "source": [
        "try:\n",
        "    x = int(input())\n",
        "    y = 100 / x\n",
        "    print(y, a[x])\n",
        "except Exception as e:\n",
        "    print(e)"
      ],
      "metadata": {
        "colab": {
          "base_uri": "https://localhost:8080/"
        },
        "id": "Ggrmd1nbPX1D",
        "outputId": "81e3e5fe-e819-474d-d976-c9ad372a1a46"
      },
      "execution_count": 16,
      "outputs": [
        {
          "output_type": "stream",
          "name": "stdout",
          "text": [
            "7df\n",
            "invalid literal for int() with base 10: '7df'\n"
          ]
        }
      ]
    },
    {
      "cell_type": "markdown",
      "source": [
        "### 38.2 else-finally"
      ],
      "metadata": {
        "id": "SfMwwseNRUGc"
      }
    },
    {
      "cell_type": "code",
      "source": [
        "try:\n",
        "    x = int(input())\n",
        "    y = 100 / x\n",
        "except Exception as e:\n",
        "    print(e)\n",
        "else:               # try code에서 예외가 발생하지 않았을 때 실행됨\n",
        "    print(y)"
      ],
      "metadata": {
        "colab": {
          "base_uri": "https://localhost:8080/"
        },
        "id": "dzY6V19oQTdp",
        "outputId": "41e25491-09f6-4b26-d46f-8bb4f297fa42"
      },
      "execution_count": 19,
      "outputs": [
        {
          "output_type": "stream",
          "name": "stdout",
          "text": [
            "0\n",
            "division by zero\n"
          ]
        }
      ]
    },
    {
      "cell_type": "code",
      "source": [
        "try:\n",
        "    x = int(input())\n",
        "    y = 100 / x\n",
        "except Exception as e:\n",
        "    print(e)\n",
        "else:\n",
        "    print(y)\n",
        "finally:                # 예외 발생 여부와 상관없이 항상 실행됨\n",
        "    print('코드 실행 종료')"
      ],
      "metadata": {
        "colab": {
          "base_uri": "https://localhost:8080/"
        },
        "id": "DOZKw9UhR6jH",
        "outputId": "37f86fbd-5abb-409f-c2ec-26eaee4687df"
      },
      "execution_count": 21,
      "outputs": [
        {
          "output_type": "stream",
          "name": "stdout",
          "text": [
            "4\n",
            "25.0\n",
            "코드 실행 종료\n"
          ]
        }
      ]
    },
    {
      "cell_type": "markdown",
      "source": [
        "### 10.3 예외 발생시키기"
      ],
      "metadata": {
        "id": "LoJh-TY3THVf"
      }
    },
    {
      "cell_type": "code",
      "source": [
        "try:\n",
        "    for i in range(100):\n",
        "        print(i, end=' ')\n",
        "        for k in range(100):\n",
        "            if (i == k and i == 51):\n",
        "                raise Exception('Loop 종료 조건 충족')\n",
        "except Exception as e:\n",
        "    print(e)"
      ],
      "metadata": {
        "colab": {
          "base_uri": "https://localhost:8080/"
        },
        "id": "YBFZff3lSaUR",
        "outputId": "1ad02020-4dde-4d8f-b958-f7002aa4607a"
      },
      "execution_count": 24,
      "outputs": [
        {
          "output_type": "stream",
          "name": "stdout",
          "text": [
            "0 1 2 3 4 5 6 7 8 9 10 11 12 13 14 15 16 17 18 19 20 21 22 23 24 25 26 27 28 29 30 31 32 33 34 35 36 37 38 39 40 41 42 43 44 45 46 47 48 49 50 51 Loop 종료 조건 충족\n"
          ]
        }
      ]
    },
    {
      "cell_type": "markdown",
      "source": [
        "- assert로 예외 발생시키기"
      ],
      "metadata": {
        "id": "3ChHCO99U6v6"
      }
    },
    {
      "cell_type": "code",
      "source": [
        "try:\n",
        "    x = int(input())\n",
        "    assert x % 3 == 0, '3의 배수가 아닙니다.'\n",
        "except Exception as e:\n",
        "    print(e)\n",
        "else:\n",
        "    print(x)"
      ],
      "metadata": {
        "colab": {
          "base_uri": "https://localhost:8080/"
        },
        "id": "bOIcU4slT9RB",
        "outputId": "a9108f16-d540-49e1-c081-f0fe4da47ecc"
      },
      "execution_count": 28,
      "outputs": [
        {
          "output_type": "stream",
          "name": "stdout",
          "text": [
            "10\n",
            "3의 배수가 아닙니다.\n"
          ]
        }
      ]
    },
    {
      "cell_type": "markdown",
      "source": [
        "### 38.4 예외 만들기"
      ],
      "metadata": {
        "id": "6iuYbloZX7M0"
      }
    },
    {
      "cell_type": "code",
      "source": [
        "class MyException(Exception):\n",
        "    def __init__(self):\n",
        "        super().__init__('내가 만든 예외')"
      ],
      "metadata": {
        "id": "RsQmA8W5VJF1"
      },
      "execution_count": 29,
      "outputs": []
    },
    {
      "cell_type": "code",
      "source": [
        "try:\n",
        "    raise(MyException)\n",
        "except Exception as e:\n",
        "    print(e)"
      ],
      "metadata": {
        "colab": {
          "base_uri": "https://localhost:8080/"
        },
        "id": "XJ0OkUPXYQrt",
        "outputId": "5e420746-6004-4f51-d987-5207fc1267b0"
      },
      "execution_count": 30,
      "outputs": [
        {
          "output_type": "stream",
          "name": "stdout",
          "text": [
            "내가 만든 예외\n"
          ]
        }
      ]
    },
    {
      "cell_type": "code",
      "source": [
        ""
      ],
      "metadata": {
        "id": "frKL8irEYcEy"
      },
      "execution_count": null,
      "outputs": []
    }
  ]
}
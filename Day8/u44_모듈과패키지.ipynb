{
  "nbformat": 4,
  "nbformat_minor": 0,
  "metadata": {
    "colab": {
      "name": "u44_모듈과패키지.ipynb",
      "provenance": [],
      "collapsed_sections": []
    },
    "kernelspec": {
      "name": "python3",
      "display_name": "Python 3"
    },
    "language_info": {
      "name": "python"
    }
  },
  "cells": [
    {
      "cell_type": "markdown",
      "source": [
        "# Unit 44. 모듈과 패키지"
      ],
      "metadata": {
        "id": "-Df12z2uazc8"
      }
    },
    {
      "cell_type": "markdown",
      "source": [
        "### 44.1 import"
      ],
      "metadata": {
        "id": "1ItCNGVTbpB6"
      }
    },
    {
      "cell_type": "code",
      "execution_count": 1,
      "metadata": {
        "colab": {
          "base_uri": "https://localhost:8080/"
        },
        "id": "ReR_bLugaskm",
        "outputId": "a37f3d54-49d4-4ef7-d727-dad196b022a1"
      },
      "outputs": [
        {
          "output_type": "execute_result",
          "data": {
            "text/plain": [
              "3.141592653589793"
            ]
          },
          "metadata": {},
          "execution_count": 1
        }
      ],
      "source": [
        "import math\n",
        "math.pi         # math 모듈의 변수"
      ]
    },
    {
      "cell_type": "code",
      "source": [
        "math.sin(2 * math.pi), math.sqrt(4.)    # math 모듈의 함수"
      ],
      "metadata": {
        "colab": {
          "base_uri": "https://localhost:8080/"
        },
        "id": "7wXySEaKbw5M",
        "outputId": "b3a240f4-efc4-4e42-c783-7bda876db634"
      },
      "execution_count": 2,
      "outputs": [
        {
          "output_type": "execute_result",
          "data": {
            "text/plain": [
              "(-2.4492935982947064e-16, 2.0)"
            ]
          },
          "metadata": {},
          "execution_count": 2
        }
      ]
    },
    {
      "cell_type": "markdown",
      "source": [
        "- aliasing (as)"
      ],
      "metadata": {
        "id": "oW_cG61ydT2K"
      }
    },
    {
      "cell_type": "code",
      "source": [
        "import pandas as pd\n",
        "\n",
        "s = pd.Series([1,2,3])      # pandas 모듈의 Series 클래스"
      ],
      "metadata": {
        "id": "J8Q1nsVScFah"
      },
      "execution_count": 4,
      "outputs": []
    },
    {
      "cell_type": "code",
      "source": [
        "import math as m \n",
        "round(m.pi, 4), m.log2(2), round(m.sqrt(2), 4)"
      ],
      "metadata": {
        "colab": {
          "base_uri": "https://localhost:8080/"
        },
        "id": "hz2ZVkj3cmZ4",
        "outputId": "64c3e8ef-4891-4649-cfe9-27cb3a74a7ef"
      },
      "execution_count": 6,
      "outputs": [
        {
          "output_type": "execute_result",
          "data": {
            "text/plain": [
              "(3.1416, 1.0, 1.4142)"
            ]
          },
          "metadata": {},
          "execution_count": 6
        }
      ]
    },
    {
      "cell_type": "markdown",
      "source": [
        "- 모듈의 일부분만 가져오기 (from 모듈 import 변수/함수/클래스)"
      ],
      "metadata": {
        "id": "HmBVzDF-dXdc"
      }
    },
    {
      "cell_type": "code",
      "source": [
        "from math import exp, log\n",
        "exp(1), log(exp(1))"
      ],
      "metadata": {
        "colab": {
          "base_uri": "https://localhost:8080/"
        },
        "id": "NdDhySoYdI4a",
        "outputId": "dd9f1caf-f558-4957-fc3b-ab0302ae8a63"
      },
      "execution_count": 7,
      "outputs": [
        {
          "output_type": "execute_result",
          "data": {
            "text/plain": [
              "(2.718281828459045, 1.0)"
            ]
          },
          "metadata": {},
          "execution_count": 7
        }
      ]
    },
    {
      "cell_type": "code",
      "source": [
        "from math import *      # * 모두를 의미하는 Wild character\n",
        "cos(0), sin(0)"
      ],
      "metadata": {
        "colab": {
          "base_uri": "https://localhost:8080/"
        },
        "id": "lXMARgvjd8cV",
        "outputId": "cd421171-90c9-4398-8568-091f4717602c"
      },
      "execution_count": 8,
      "outputs": [
        {
          "output_type": "execute_result",
          "data": {
            "text/plain": [
              "(1.0, 0.0)"
            ]
          },
          "metadata": {},
          "execution_count": 8
        }
      ]
    },
    {
      "cell_type": "code",
      "source": [
        "from sklearn.tree import DecisionTreeClassifier as DTC\n",
        "dtc = DTC()"
      ],
      "metadata": {
        "id": "yFiMjMyyebnQ"
      },
      "execution_count": 10,
      "outputs": []
    },
    {
      "cell_type": "markdown",
      "source": [
        "### 44.2 import 패키지"
      ],
      "metadata": {
        "id": "0bC5XQx9fUxW"
      }
    },
    {
      "cell_type": "code",
      "source": [
        "from urllib.request import urlopen\n",
        "response = urlopen('http://www.google.co.kr')\n",
        "response.status"
      ],
      "metadata": {
        "colab": {
          "base_uri": "https://localhost:8080/"
        },
        "id": "2qinYqtrezxg",
        "outputId": "c3bb98a2-7a3d-419b-c908-d2d610abccb0"
      },
      "execution_count": 11,
      "outputs": [
        {
          "output_type": "execute_result",
          "data": {
            "text/plain": [
              "200"
            ]
          },
          "metadata": {},
          "execution_count": 11
        }
      ]
    },
    {
      "cell_type": "markdown",
      "source": [
        "### 44.3 패키지 설치\n",
        "<pre>\n",
        "- 콘다 가상환경(예를 들어 base)\n",
        "    conda activate base\n",
        "    conda install module-name\n",
        "    conda install -c conda-forge module-name\n",
        "- 콘다 가상환경에서 설치 실패시\n",
        "    pip install module-name\n",
        "</pre>"
      ],
      "metadata": {
        "id": "-r6ohzFjguGJ"
      }
    },
    {
      "cell_type": "code",
      "source": [
        ""
      ],
      "metadata": {
        "id": "ReDMb_-Yfyel"
      },
      "execution_count": null,
      "outputs": []
    }
  ]
}